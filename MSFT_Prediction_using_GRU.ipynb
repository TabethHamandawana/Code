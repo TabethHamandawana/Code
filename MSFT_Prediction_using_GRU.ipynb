{
  "nbformat": 4,
  "nbformat_minor": 0,
  "metadata": {
    "colab": {
      "provenance": [],
      "authorship_tag": "ABX9TyNbEJFTrJxsQkiZLMcycCsS",
      "include_colab_link": true
    },
    "kernelspec": {
      "name": "python3",
      "display_name": "Python 3"
    },
    "language_info": {
      "name": "python"
    }
  },
  "cells": [
    {
      "cell_type": "markdown",
      "metadata": {
        "id": "view-in-github",
        "colab_type": "text"
      },
      "source": [
        "<a href=\"https://colab.research.google.com/github/TabethHamandawana/Code/blob/main/MSFT_Prediction_using_GRU.ipynb\" target=\"_parent\"><img src=\"https://colab.research.google.com/assets/colab-badge.svg\" alt=\"Open In Colab\"/></a>"
      ]
    },
    {
      "cell_type": "code",
      "execution_count": 1,
      "metadata": {
        "id": "1yYzLvlFZxNY"
      },
      "outputs": [],
      "source": [
        "import os\n",
        "import pandas as pd\n",
        "import numpy as np\n",
        "import math\n",
        "import datetime as dt"
      ]
    },
    {
      "cell_type": "code",
      "source": [
        "from sklearn.metrics import mean_squared_error, mean_absolute_error, explained_variance_score, r2_score\n",
        "from sklearn.metrics import mean_poisson_deviance, mean_gamma_deviance, accuracy_score\n",
        "from sklearn.preprocessing import MinMaxScaler"
      ],
      "metadata": {
        "id": "o36HpMFxaHTE"
      },
      "execution_count": 2,
      "outputs": []
    },
    {
      "cell_type": "code",
      "source": [
        "import tensorflow as tf"
      ],
      "metadata": {
        "id": "ddkZSJw6aLL1"
      },
      "execution_count": 3,
      "outputs": []
    },
    {
      "cell_type": "code",
      "source": [
        "from tensorflow.keras.models import Sequential\n",
        "from tensorflow.keras.layers import Dense, Dropout\n",
        "from tensorflow.keras.layers import LSTM, GRU"
      ],
      "metadata": {
        "id": "s4G7UHvFaVeu"
      },
      "execution_count": 4,
      "outputs": []
    },
    {
      "cell_type": "code",
      "source": [
        "from itertools import cycle\n",
        "import plotly.graph_objects as go\n",
        "import plotly.express as px\n",
        "from plotly.subplots import make_subplots"
      ],
      "metadata": {
        "id": "t6PGCVAraYds"
      },
      "execution_count": 5,
      "outputs": []
    },
    {
      "cell_type": "code",
      "source": [
        "#Load the data\n",
        "df = pd.read_csv('MSFT.csv')"
      ],
      "metadata": {
        "id": "erbXdxqNafp0"
      },
      "execution_count": 6,
      "outputs": []
    },
    {
      "cell_type": "code",
      "source": [
        "df.head()"
      ],
      "metadata": {
        "id": "PwwBqPOAbK6V",
        "colab": {
          "base_uri": "https://localhost:8080/",
          "height": 206
        },
        "outputId": "2aafd166-a32d-4975-9595-2159ef0dc4a7"
      },
      "execution_count": 7,
      "outputs": [
        {
          "output_type": "execute_result",
          "data": {
            "text/plain": [
              "       Date        Open        High         Low       Close   Adj Close  \\\n",
              "0  1/4/2021  222.529999  223.000000  214.809998  217.690002  211.605316   \n",
              "1  1/5/2021  217.259995  218.520004  215.699997  217.899994  211.809418   \n",
              "2  1/6/2021  212.169998  216.490005  211.940002  212.250000  206.317368   \n",
              "3  1/7/2021  214.039993  219.339996  213.710007  218.289993  212.188538   \n",
              "4  1/8/2021  218.679993  220.580002  217.029999  219.619995  213.481354   \n",
              "\n",
              "     Volume  \n",
              "0  37130100  \n",
              "1  23823000  \n",
              "2  35930700  \n",
              "3  27694500  \n",
              "4  22956200  "
            ],
            "text/html": [
              "\n",
              "  <div id=\"df-8cc4909c-0dd4-4e25-a73d-e6fc47a261b0\" class=\"colab-df-container\">\n",
              "    <div>\n",
              "<style scoped>\n",
              "    .dataframe tbody tr th:only-of-type {\n",
              "        vertical-align: middle;\n",
              "    }\n",
              "\n",
              "    .dataframe tbody tr th {\n",
              "        vertical-align: top;\n",
              "    }\n",
              "\n",
              "    .dataframe thead th {\n",
              "        text-align: right;\n",
              "    }\n",
              "</style>\n",
              "<table border=\"1\" class=\"dataframe\">\n",
              "  <thead>\n",
              "    <tr style=\"text-align: right;\">\n",
              "      <th></th>\n",
              "      <th>Date</th>\n",
              "      <th>Open</th>\n",
              "      <th>High</th>\n",
              "      <th>Low</th>\n",
              "      <th>Close</th>\n",
              "      <th>Adj Close</th>\n",
              "      <th>Volume</th>\n",
              "    </tr>\n",
              "  </thead>\n",
              "  <tbody>\n",
              "    <tr>\n",
              "      <th>0</th>\n",
              "      <td>1/4/2021</td>\n",
              "      <td>222.529999</td>\n",
              "      <td>223.000000</td>\n",
              "      <td>214.809998</td>\n",
              "      <td>217.690002</td>\n",
              "      <td>211.605316</td>\n",
              "      <td>37130100</td>\n",
              "    </tr>\n",
              "    <tr>\n",
              "      <th>1</th>\n",
              "      <td>1/5/2021</td>\n",
              "      <td>217.259995</td>\n",
              "      <td>218.520004</td>\n",
              "      <td>215.699997</td>\n",
              "      <td>217.899994</td>\n",
              "      <td>211.809418</td>\n",
              "      <td>23823000</td>\n",
              "    </tr>\n",
              "    <tr>\n",
              "      <th>2</th>\n",
              "      <td>1/6/2021</td>\n",
              "      <td>212.169998</td>\n",
              "      <td>216.490005</td>\n",
              "      <td>211.940002</td>\n",
              "      <td>212.250000</td>\n",
              "      <td>206.317368</td>\n",
              "      <td>35930700</td>\n",
              "    </tr>\n",
              "    <tr>\n",
              "      <th>3</th>\n",
              "      <td>1/7/2021</td>\n",
              "      <td>214.039993</td>\n",
              "      <td>219.339996</td>\n",
              "      <td>213.710007</td>\n",
              "      <td>218.289993</td>\n",
              "      <td>212.188538</td>\n",
              "      <td>27694500</td>\n",
              "    </tr>\n",
              "    <tr>\n",
              "      <th>4</th>\n",
              "      <td>1/8/2021</td>\n",
              "      <td>218.679993</td>\n",
              "      <td>220.580002</td>\n",
              "      <td>217.029999</td>\n",
              "      <td>219.619995</td>\n",
              "      <td>213.481354</td>\n",
              "      <td>22956200</td>\n",
              "    </tr>\n",
              "  </tbody>\n",
              "</table>\n",
              "</div>\n",
              "    <div class=\"colab-df-buttons\">\n",
              "\n",
              "  <div class=\"colab-df-container\">\n",
              "    <button class=\"colab-df-convert\" onclick=\"convertToInteractive('df-8cc4909c-0dd4-4e25-a73d-e6fc47a261b0')\"\n",
              "            title=\"Convert this dataframe to an interactive table.\"\n",
              "            style=\"display:none;\">\n",
              "\n",
              "  <svg xmlns=\"http://www.w3.org/2000/svg\" height=\"24px\" viewBox=\"0 -960 960 960\">\n",
              "    <path d=\"M120-120v-720h720v720H120Zm60-500h600v-160H180v160Zm220 220h160v-160H400v160Zm0 220h160v-160H400v160ZM180-400h160v-160H180v160Zm440 0h160v-160H620v160ZM180-180h160v-160H180v160Zm440 0h160v-160H620v160Z\"/>\n",
              "  </svg>\n",
              "    </button>\n",
              "\n",
              "  <style>\n",
              "    .colab-df-container {\n",
              "      display:flex;\n",
              "      gap: 12px;\n",
              "    }\n",
              "\n",
              "    .colab-df-convert {\n",
              "      background-color: #E8F0FE;\n",
              "      border: none;\n",
              "      border-radius: 50%;\n",
              "      cursor: pointer;\n",
              "      display: none;\n",
              "      fill: #1967D2;\n",
              "      height: 32px;\n",
              "      padding: 0 0 0 0;\n",
              "      width: 32px;\n",
              "    }\n",
              "\n",
              "    .colab-df-convert:hover {\n",
              "      background-color: #E2EBFA;\n",
              "      box-shadow: 0px 1px 2px rgba(60, 64, 67, 0.3), 0px 1px 3px 1px rgba(60, 64, 67, 0.15);\n",
              "      fill: #174EA6;\n",
              "    }\n",
              "\n",
              "    .colab-df-buttons div {\n",
              "      margin-bottom: 4px;\n",
              "    }\n",
              "\n",
              "    [theme=dark] .colab-df-convert {\n",
              "      background-color: #3B4455;\n",
              "      fill: #D2E3FC;\n",
              "    }\n",
              "\n",
              "    [theme=dark] .colab-df-convert:hover {\n",
              "      background-color: #434B5C;\n",
              "      box-shadow: 0px 1px 3px 1px rgba(0, 0, 0, 0.15);\n",
              "      filter: drop-shadow(0px 1px 2px rgba(0, 0, 0, 0.3));\n",
              "      fill: #FFFFFF;\n",
              "    }\n",
              "  </style>\n",
              "\n",
              "    <script>\n",
              "      const buttonEl =\n",
              "        document.querySelector('#df-8cc4909c-0dd4-4e25-a73d-e6fc47a261b0 button.colab-df-convert');\n",
              "      buttonEl.style.display =\n",
              "        google.colab.kernel.accessAllowed ? 'block' : 'none';\n",
              "\n",
              "      async function convertToInteractive(key) {\n",
              "        const element = document.querySelector('#df-8cc4909c-0dd4-4e25-a73d-e6fc47a261b0');\n",
              "        const dataTable =\n",
              "          await google.colab.kernel.invokeFunction('convertToInteractive',\n",
              "                                                    [key], {});\n",
              "        if (!dataTable) return;\n",
              "\n",
              "        const docLinkHtml = 'Like what you see? Visit the ' +\n",
              "          '<a target=\"_blank\" href=https://colab.research.google.com/notebooks/data_table.ipynb>data table notebook</a>'\n",
              "          + ' to learn more about interactive tables.';\n",
              "        element.innerHTML = '';\n",
              "        dataTable['output_type'] = 'display_data';\n",
              "        await google.colab.output.renderOutput(dataTable, element);\n",
              "        const docLink = document.createElement('div');\n",
              "        docLink.innerHTML = docLinkHtml;\n",
              "        element.appendChild(docLink);\n",
              "      }\n",
              "    </script>\n",
              "  </div>\n",
              "\n",
              "\n",
              "<div id=\"df-afee212a-1542-4eba-a256-2473cdb6635b\">\n",
              "  <button class=\"colab-df-quickchart\" onclick=\"quickchart('df-afee212a-1542-4eba-a256-2473cdb6635b')\"\n",
              "            title=\"Suggest charts\"\n",
              "            style=\"display:none;\">\n",
              "\n",
              "<svg xmlns=\"http://www.w3.org/2000/svg\" height=\"24px\"viewBox=\"0 0 24 24\"\n",
              "     width=\"24px\">\n",
              "    <g>\n",
              "        <path d=\"M19 3H5c-1.1 0-2 .9-2 2v14c0 1.1.9 2 2 2h14c1.1 0 2-.9 2-2V5c0-1.1-.9-2-2-2zM9 17H7v-7h2v7zm4 0h-2V7h2v10zm4 0h-2v-4h2v4z\"/>\n",
              "    </g>\n",
              "</svg>\n",
              "  </button>\n",
              "\n",
              "<style>\n",
              "  .colab-df-quickchart {\n",
              "      --bg-color: #E8F0FE;\n",
              "      --fill-color: #1967D2;\n",
              "      --hover-bg-color: #E2EBFA;\n",
              "      --hover-fill-color: #174EA6;\n",
              "      --disabled-fill-color: #AAA;\n",
              "      --disabled-bg-color: #DDD;\n",
              "  }\n",
              "\n",
              "  [theme=dark] .colab-df-quickchart {\n",
              "      --bg-color: #3B4455;\n",
              "      --fill-color: #D2E3FC;\n",
              "      --hover-bg-color: #434B5C;\n",
              "      --hover-fill-color: #FFFFFF;\n",
              "      --disabled-bg-color: #3B4455;\n",
              "      --disabled-fill-color: #666;\n",
              "  }\n",
              "\n",
              "  .colab-df-quickchart {\n",
              "    background-color: var(--bg-color);\n",
              "    border: none;\n",
              "    border-radius: 50%;\n",
              "    cursor: pointer;\n",
              "    display: none;\n",
              "    fill: var(--fill-color);\n",
              "    height: 32px;\n",
              "    padding: 0;\n",
              "    width: 32px;\n",
              "  }\n",
              "\n",
              "  .colab-df-quickchart:hover {\n",
              "    background-color: var(--hover-bg-color);\n",
              "    box-shadow: 0 1px 2px rgba(60, 64, 67, 0.3), 0 1px 3px 1px rgba(60, 64, 67, 0.15);\n",
              "    fill: var(--button-hover-fill-color);\n",
              "  }\n",
              "\n",
              "  .colab-df-quickchart-complete:disabled,\n",
              "  .colab-df-quickchart-complete:disabled:hover {\n",
              "    background-color: var(--disabled-bg-color);\n",
              "    fill: var(--disabled-fill-color);\n",
              "    box-shadow: none;\n",
              "  }\n",
              "\n",
              "  .colab-df-spinner {\n",
              "    border: 2px solid var(--fill-color);\n",
              "    border-color: transparent;\n",
              "    border-bottom-color: var(--fill-color);\n",
              "    animation:\n",
              "      spin 1s steps(1) infinite;\n",
              "  }\n",
              "\n",
              "  @keyframes spin {\n",
              "    0% {\n",
              "      border-color: transparent;\n",
              "      border-bottom-color: var(--fill-color);\n",
              "      border-left-color: var(--fill-color);\n",
              "    }\n",
              "    20% {\n",
              "      border-color: transparent;\n",
              "      border-left-color: var(--fill-color);\n",
              "      border-top-color: var(--fill-color);\n",
              "    }\n",
              "    30% {\n",
              "      border-color: transparent;\n",
              "      border-left-color: var(--fill-color);\n",
              "      border-top-color: var(--fill-color);\n",
              "      border-right-color: var(--fill-color);\n",
              "    }\n",
              "    40% {\n",
              "      border-color: transparent;\n",
              "      border-right-color: var(--fill-color);\n",
              "      border-top-color: var(--fill-color);\n",
              "    }\n",
              "    60% {\n",
              "      border-color: transparent;\n",
              "      border-right-color: var(--fill-color);\n",
              "    }\n",
              "    80% {\n",
              "      border-color: transparent;\n",
              "      border-right-color: var(--fill-color);\n",
              "      border-bottom-color: var(--fill-color);\n",
              "    }\n",
              "    90% {\n",
              "      border-color: transparent;\n",
              "      border-bottom-color: var(--fill-color);\n",
              "    }\n",
              "  }\n",
              "</style>\n",
              "\n",
              "  <script>\n",
              "    async function quickchart(key) {\n",
              "      const quickchartButtonEl =\n",
              "        document.querySelector('#' + key + ' button');\n",
              "      quickchartButtonEl.disabled = true;  // To prevent multiple clicks.\n",
              "      quickchartButtonEl.classList.add('colab-df-spinner');\n",
              "      try {\n",
              "        const charts = await google.colab.kernel.invokeFunction(\n",
              "            'suggestCharts', [key], {});\n",
              "      } catch (error) {\n",
              "        console.error('Error during call to suggestCharts:', error);\n",
              "      }\n",
              "      quickchartButtonEl.classList.remove('colab-df-spinner');\n",
              "      quickchartButtonEl.classList.add('colab-df-quickchart-complete');\n",
              "    }\n",
              "    (() => {\n",
              "      let quickchartButtonEl =\n",
              "        document.querySelector('#df-afee212a-1542-4eba-a256-2473cdb6635b button');\n",
              "      quickchartButtonEl.style.display =\n",
              "        google.colab.kernel.accessAllowed ? 'block' : 'none';\n",
              "    })();\n",
              "  </script>\n",
              "</div>\n",
              "\n",
              "    </div>\n",
              "  </div>\n"
            ],
            "application/vnd.google.colaboratory.intrinsic+json": {
              "type": "dataframe",
              "variable_name": "df",
              "summary": "{\n  \"name\": \"df\",\n  \"rows\": 753,\n  \"fields\": [\n    {\n      \"column\": \"Date\",\n      \"properties\": {\n        \"dtype\": \"object\",\n        \"num_unique_values\": 753,\n        \"samples\": [\n          \"11/7/2023\",\n          \"8/7/2023\",\n          \"6/24/2022\"\n        ],\n        \"semantic_type\": \"\",\n        \"description\": \"\"\n      }\n    },\n    {\n      \"column\": \"Open\",\n      \"properties\": {\n        \"dtype\": \"number\",\n        \"std\": 40.319480330508284,\n        \"min\": 212.169998,\n        \"max\": 383.76001,\n        \"num_unique_values\": 738,\n        \"samples\": [\n          277.799988,\n          285.540009,\n          330.299988\n        ],\n        \"semantic_type\": \"\",\n        \"description\": \"\"\n      }\n    },\n    {\n      \"column\": \"High\",\n      \"properties\": {\n        \"dtype\": \"number\",\n        \"std\": 40.3308640809259,\n        \"min\": 214.509995,\n        \"max\": 384.299988,\n        \"num_unique_values\": 722,\n        \"samples\": [\n          263.040009,\n          256.839996,\n          289.029999\n        ],\n        \"semantic_type\": \"\",\n        \"description\": \"\"\n      }\n    },\n    {\n      \"column\": \"Low\",\n      \"properties\": {\n        \"dtype\": \"number\",\n        \"std\": 40.11379814634669,\n        \"min\": 211.940002,\n        \"max\": 378.160004,\n        \"num_unique_values\": 726,\n        \"samples\": [\n          279.160004,\n          266.179993,\n          316.369995\n        ],\n        \"semantic_type\": \"\",\n        \"description\": \"\"\n      }\n    },\n    {\n      \"column\": \"Close\",\n      \"properties\": {\n        \"dtype\": \"number\",\n        \"std\": 40.287030419281116,\n        \"min\": 212.25,\n        \"max\": 382.700012,\n        \"num_unique_values\": 731,\n        \"samples\": [\n          377.440002,\n          234.509995,\n          294.390015\n        ],\n        \"semantic_type\": \"\",\n        \"description\": \"\"\n      }\n    },\n    {\n      \"column\": \"Adj Close\",\n      \"properties\": {\n        \"dtype\": \"number\",\n        \"std\": 40.947496695100476,\n        \"min\": 206.317368,\n        \"max\": 381.993622,\n        \"num_unique_values\": 748,\n        \"samples\": [\n          303.072571,\n          264.587433,\n          274.436279\n        ],\n        \"semantic_type\": \"\",\n        \"description\": \"\"\n      }\n    },\n    {\n      \"column\": \"Volume\",\n      \"properties\": {\n        \"dtype\": \"number\",\n        \"std\": 10390347,\n        \"min\": 9200800,\n        \"max\": 90428900,\n        \"num_unique_values\": 751,\n        \"samples\": [\n          23123500,\n          28059000,\n          22604200\n        ],\n        \"semantic_type\": \"\",\n        \"description\": \"\"\n      }\n    }\n  ]\n}"
            }
          },
          "metadata": {},
          "execution_count": 7
        }
      ]
    },
    {
      "cell_type": "code",
      "source": [
        "print(\"Total number of days: \",df.shape[0])\n",
        "print(\"Total number of fields: \",df.shape[1])"
      ],
      "metadata": {
        "colab": {
          "base_uri": "https://localhost:8080/"
        },
        "id": "Wz08eh5pNDiv",
        "outputId": "14a9ed69-de4f-4d17-ab98-55c06e13cf55"
      },
      "execution_count": 8,
      "outputs": [
        {
          "output_type": "stream",
          "name": "stdout",
          "text": [
            "Total number of days:  753\n",
            "Total number of fields:  7\n"
          ]
        }
      ]
    },
    {
      "cell_type": "code",
      "source": [
        "#Checking for null & NA values\n",
        "print(\"Null values:\", df.isnull().values.sum())\n",
        "print(\"NA values:\", df.isna().values.any())"
      ],
      "metadata": {
        "colab": {
          "base_uri": "https://localhost:8080/"
        },
        "id": "mCwhe7CrNTZw",
        "outputId": "6e25f8c4-111f-451a-fd13-53b72ea6f602"
      },
      "execution_count": 9,
      "outputs": [
        {
          "output_type": "stream",
          "name": "stdout",
          "text": [
            "Null values: 0\n",
            "NA values: False\n"
          ]
        }
      ]
    },
    {
      "cell_type": "code",
      "source": [
        "df.info()"
      ],
      "metadata": {
        "colab": {
          "base_uri": "https://localhost:8080/"
        },
        "id": "QMIwMcOmNf7J",
        "outputId": "d938884c-c8d4-44a1-8e43-6cd5882cc0d0"
      },
      "execution_count": 10,
      "outputs": [
        {
          "output_type": "stream",
          "name": "stdout",
          "text": [
            "<class 'pandas.core.frame.DataFrame'>\n",
            "RangeIndex: 753 entries, 0 to 752\n",
            "Data columns (total 7 columns):\n",
            " #   Column     Non-Null Count  Dtype  \n",
            "---  ------     --------------  -----  \n",
            " 0   Date       753 non-null    object \n",
            " 1   Open       753 non-null    float64\n",
            " 2   High       753 non-null    float64\n",
            " 3   Low        753 non-null    float64\n",
            " 4   Close      753 non-null    float64\n",
            " 5   Adj Close  753 non-null    float64\n",
            " 6   Volume     753 non-null    int64  \n",
            "dtypes: float64(5), int64(1), object(1)\n",
            "memory usage: 41.3+ KB\n"
          ]
        }
      ]
    },
    {
      "cell_type": "code",
      "source": [
        "#Convert date field into datetime format\n",
        "df['Date'] = pd.to_datetime(df['Date'], utc=True)"
      ],
      "metadata": {
        "id": "fOhUXTGgNsCC"
      },
      "execution_count": 11,
      "outputs": []
    },
    {
      "cell_type": "code",
      "source": [
        "df.info()"
      ],
      "metadata": {
        "colab": {
          "base_uri": "https://localhost:8080/"
        },
        "id": "y2HdT1MiOGBa",
        "outputId": "f0d682db-5a79-4f5d-ec09-83f078e51ef4"
      },
      "execution_count": 12,
      "outputs": [
        {
          "output_type": "stream",
          "name": "stdout",
          "text": [
            "<class 'pandas.core.frame.DataFrame'>\n",
            "RangeIndex: 753 entries, 0 to 752\n",
            "Data columns (total 7 columns):\n",
            " #   Column     Non-Null Count  Dtype              \n",
            "---  ------     --------------  -----              \n",
            " 0   Date       753 non-null    datetime64[ns, UTC]\n",
            " 1   Open       753 non-null    float64            \n",
            " 2   High       753 non-null    float64            \n",
            " 3   Low        753 non-null    float64            \n",
            " 4   Close      753 non-null    float64            \n",
            " 5   Adj Close  753 non-null    float64            \n",
            " 6   Volume     753 non-null    int64              \n",
            "dtypes: datetime64[ns, UTC](1), float64(5), int64(1)\n",
            "memory usage: 41.3 KB\n"
          ]
        }
      ]
    },
    {
      "cell_type": "code",
      "source": [
        "#Find the duration of the dataset\n",
        "print(\"Starting date: \",df.iloc[0][0])\n",
        "print(\"Ending date: \",df.iloc[-1][0])\n",
        "print(\"Duration: \",df.iloc[-1][0]-df.iloc[0][0])"
      ],
      "metadata": {
        "colab": {
          "base_uri": "https://localhost:8080/"
        },
        "id": "Ho1yTC8EOHH9",
        "outputId": "3122bfe4-0f37-43f9-ecff-96490e15341b"
      },
      "execution_count": 13,
      "outputs": [
        {
          "output_type": "stream",
          "name": "stdout",
          "text": [
            "Starting date:  2021-01-04 00:00:00+00:00\n",
            "Ending date:  2023-12-29 00:00:00+00:00\n",
            "Duration:  1089 days 00:00:00\n"
          ]
        }
      ]
    },
    {
      "cell_type": "code",
      "source": [
        "#Trend comparison between sock open, close, high & low price\n",
        "names = cycle(['Stock Open Price','Stock Close Price','Stock High Price','Stock Low Price'])\n",
        "\n",
        "fig = px.line(df, x=df.Date, y=[df['Open'], df['Close'],\n",
        "                                          df['High'], df['Low']],\n",
        "             labels={'Date': 'Date','value':'Stock value'})\n",
        "\n",
        "fig.update_layout(title_text='Stock analysis chart', font_size=15, font_color='black',legend_title_text='Stock Parameters')\n",
        "\n",
        "fig.for_each_trace(lambda t:  t.update(name = next(names)))\n",
        "\n",
        "fig.update_xaxes(showgrid=False)\n",
        "\n",
        "fig.update_yaxes(showgrid=False)\n",
        "\n",
        "fig.show()"
      ],
      "metadata": {
        "colab": {
          "base_uri": "https://localhost:8080/",
          "height": 542
        },
        "id": "JFoB9QpJOqLt",
        "outputId": "7496f660-35e9-407f-c9f6-d789302ce738"
      },
      "execution_count": 14,
      "outputs": [
        {
          "output_type": "display_data",
          "data": {
            "text/html": [
              "<html>\n",
              "<head><meta charset=\"utf-8\" /></head>\n",
              "<body>\n",
              "    <div>            <script src=\"https://cdnjs.cloudflare.com/ajax/libs/mathjax/2.7.5/MathJax.js?config=TeX-AMS-MML_SVG\"></script><script type=\"text/javascript\">if (window.MathJax && window.MathJax.Hub && window.MathJax.Hub.Config) {window.MathJax.Hub.Config({SVG: {font: \"STIX-Web\"}});}</script>                <script type=\"text/javascript\">window.PlotlyConfig = {MathJaxConfig: 'local'};</script>\n",
              "        <script charset=\"utf-8\" src=\"https://cdn.plot.ly/plotly-2.24.1.min.js\"></script>                <div id=\"abb68cd4-4fbb-4f1f-8ae1-8c03d0f2550e\" class=\"plotly-graph-div\" style=\"height:525px; width:100%;\"></div>            <script type=\"text/javascript\">                                    window.PLOTLYENV=window.PLOTLYENV || {};                                    if (document.getElementById(\"abb68cd4-4fbb-4f1f-8ae1-8c03d0f2550e\")) {                    Plotly.newPlot(                        \"abb68cd4-4fbb-4f1f-8ae1-8c03d0f2550e\",                        [{\"hovertemplate\":\"variable=Open\\u003cbr\\u003eDate=%{x}\\u003cbr\\u003eStock value=%{y}\\u003cextra\\u003e\\u003c\\u002fextra\\u003e\",\"legendgroup\":\"Open\",\"line\":{\"color\":\"#636efa\",\"dash\":\"solid\"},\"marker\":{\"symbol\":\"circle\"},\"mode\":\"lines\",\"name\":\"Stock Open Price\",\"showlegend\":true,\"x\":[\"2021-01-04T00:00:00+00:00\",\"2021-01-05T00:00:00+00:00\",\"2021-01-06T00:00:00+00:00\",\"2021-01-07T00:00:00+00:00\",\"2021-01-08T00:00:00+00:00\",\"2021-01-11T00:00:00+00:00\",\"2021-01-12T00:00:00+00:00\",\"2021-01-13T00:00:00+00:00\",\"2021-01-14T00:00:00+00:00\",\"2021-01-15T00:00:00+00:00\",\"2021-01-19T00:00:00+00:00\",\"2021-01-20T00:00:00+00:00\",\"2021-01-21T00:00:00+00:00\",\"2021-01-22T00:00:00+00:00\",\"2021-01-25T00:00:00+00:00\",\"2021-01-26T00:00:00+00:00\",\"2021-01-27T00:00:00+00:00\",\"2021-01-28T00:00:00+00:00\",\"2021-01-29T00:00:00+00:00\",\"2021-02-01T00:00:00+00:00\",\"2021-02-02T00:00:00+00:00\",\"2021-02-03T00:00:00+00:00\",\"2021-02-04T00:00:00+00:00\",\"2021-02-05T00:00:00+00:00\",\"2021-02-08T00:00:00+00:00\",\"2021-02-09T00:00:00+00:00\",\"2021-02-10T00:00:00+00:00\",\"2021-02-11T00:00:00+00:00\",\"2021-02-12T00:00:00+00:00\",\"2021-02-16T00:00:00+00:00\",\"2021-02-17T00:00:00+00:00\",\"2021-02-18T00:00:00+00:00\",\"2021-02-19T00:00:00+00:00\",\"2021-02-22T00:00:00+00:00\",\"2021-02-23T00:00:00+00:00\",\"2021-02-24T00:00:00+00:00\",\"2021-02-25T00:00:00+00:00\",\"2021-02-26T00:00:00+00:00\",\"2021-03-01T00:00:00+00:00\",\"2021-03-02T00:00:00+00:00\",\"2021-03-03T00:00:00+00:00\",\"2021-03-04T00:00:00+00:00\",\"2021-03-05T00:00:00+00:00\",\"2021-03-08T00:00:00+00:00\",\"2021-03-09T00:00:00+00:00\",\"2021-03-10T00:00:00+00:00\",\"2021-03-11T00:00:00+00:00\",\"2021-03-12T00:00:00+00:00\",\"2021-03-15T00:00:00+00:00\",\"2021-03-16T00:00:00+00:00\",\"2021-03-17T00:00:00+00:00\",\"2021-03-18T00:00:00+00:00\",\"2021-03-19T00:00:00+00:00\",\"2021-03-22T00:00:00+00:00\",\"2021-03-23T00:00:00+00:00\",\"2021-03-24T00:00:00+00:00\",\"2021-03-25T00:00:00+00:00\",\"2021-03-26T00:00:00+00:00\",\"2021-03-29T00:00:00+00:00\",\"2021-03-30T00:00:00+00:00\",\"2021-03-31T00:00:00+00:00\",\"2021-04-01T00:00:00+00:00\",\"2021-04-05T00:00:00+00:00\",\"2021-04-06T00:00:00+00:00\",\"2021-04-07T00:00:00+00:00\",\"2021-04-08T00:00:00+00:00\",\"2021-04-09T00:00:00+00:00\",\"2021-04-12T00:00:00+00:00\",\"2021-04-13T00:00:00+00:00\",\"2021-04-14T00:00:00+00:00\",\"2021-04-15T00:00:00+00:00\",\"2021-04-16T00:00:00+00:00\",\"2021-04-19T00:00:00+00:00\",\"2021-04-20T00:00:00+00:00\",\"2021-04-21T00:00:00+00:00\",\"2021-04-22T00:00:00+00:00\",\"2021-04-23T00:00:00+00:00\",\"2021-04-26T00:00:00+00:00\",\"2021-04-27T00:00:00+00:00\",\"2021-04-28T00:00:00+00:00\",\"2021-04-29T00:00:00+00:00\",\"2021-04-30T00:00:00+00:00\",\"2021-05-03T00:00:00+00:00\",\"2021-05-04T00:00:00+00:00\",\"2021-05-05T00:00:00+00:00\",\"2021-05-06T00:00:00+00:00\",\"2021-05-07T00:00:00+00:00\",\"2021-05-10T00:00:00+00:00\",\"2021-05-11T00:00:00+00:00\",\"2021-05-12T00:00:00+00:00\",\"2021-05-13T00:00:00+00:00\",\"2021-05-14T00:00:00+00:00\",\"2021-05-17T00:00:00+00:00\",\"2021-05-18T00:00:00+00:00\",\"2021-05-19T00:00:00+00:00\",\"2021-05-20T00:00:00+00:00\",\"2021-05-21T00:00:00+00:00\",\"2021-05-24T00:00:00+00:00\",\"2021-05-25T00:00:00+00:00\",\"2021-05-26T00:00:00+00:00\",\"2021-05-27T00:00:00+00:00\",\"2021-05-28T00:00:00+00:00\",\"2021-06-01T00:00:00+00:00\",\"2021-06-02T00:00:00+00:00\",\"2021-06-03T00:00:00+00:00\",\"2021-06-04T00:00:00+00:00\",\"2021-06-07T00:00:00+00:00\",\"2021-06-08T00:00:00+00:00\",\"2021-06-09T00:00:00+00:00\",\"2021-06-10T00:00:00+00:00\",\"2021-06-11T00:00:00+00:00\",\"2021-06-14T00:00:00+00:00\",\"2021-06-15T00:00:00+00:00\",\"2021-06-16T00:00:00+00:00\",\"2021-06-17T00:00:00+00:00\",\"2021-06-18T00:00:00+00:00\",\"2021-06-21T00:00:00+00:00\",\"2021-06-22T00:00:00+00:00\",\"2021-06-23T00:00:00+00:00\",\"2021-06-24T00:00:00+00:00\",\"2021-06-25T00:00:00+00:00\",\"2021-06-28T00:00:00+00:00\",\"2021-06-29T00:00:00+00:00\",\"2021-06-30T00:00:00+00:00\",\"2021-07-01T00:00:00+00:00\",\"2021-07-02T00:00:00+00:00\",\"2021-07-06T00:00:00+00:00\",\"2021-07-07T00:00:00+00:00\",\"2021-07-08T00:00:00+00:00\",\"2021-07-09T00:00:00+00:00\",\"2021-07-12T00:00:00+00:00\",\"2021-07-13T00:00:00+00:00\",\"2021-07-14T00:00:00+00:00\",\"2021-07-15T00:00:00+00:00\",\"2021-07-16T00:00:00+00:00\",\"2021-07-19T00:00:00+00:00\",\"2021-07-20T00:00:00+00:00\",\"2021-07-21T00:00:00+00:00\",\"2021-07-22T00:00:00+00:00\",\"2021-07-23T00:00:00+00:00\",\"2021-07-26T00:00:00+00:00\",\"2021-07-27T00:00:00+00:00\",\"2021-07-28T00:00:00+00:00\",\"2021-07-29T00:00:00+00:00\",\"2021-07-30T00:00:00+00:00\",\"2021-08-02T00:00:00+00:00\",\"2021-08-03T00:00:00+00:00\",\"2021-08-04T00:00:00+00:00\",\"2021-08-05T00:00:00+00:00\",\"2021-08-06T00:00:00+00:00\",\"2021-08-09T00:00:00+00:00\",\"2021-08-10T00:00:00+00:00\",\"2021-08-11T00:00:00+00:00\",\"2021-08-12T00:00:00+00:00\",\"2021-08-13T00:00:00+00:00\",\"2021-08-16T00:00:00+00:00\",\"2021-08-17T00:00:00+00:00\",\"2021-08-18T00:00:00+00:00\",\"2021-08-19T00:00:00+00:00\",\"2021-08-20T00:00:00+00:00\",\"2021-08-23T00:00:00+00:00\",\"2021-08-24T00:00:00+00:00\",\"2021-08-25T00:00:00+00:00\",\"2021-08-26T00:00:00+00:00\",\"2021-08-27T00:00:00+00:00\",\"2021-08-30T00:00:00+00:00\",\"2021-08-31T00:00:00+00:00\",\"2021-09-01T00:00:00+00:00\",\"2021-09-02T00:00:00+00:00\",\"2021-09-03T00:00:00+00:00\",\"2021-09-07T00:00:00+00:00\",\"2021-09-08T00:00:00+00:00\",\"2021-09-09T00:00:00+00:00\",\"2021-09-10T00:00:00+00:00\",\"2021-09-13T00:00:00+00:00\",\"2021-09-14T00:00:00+00:00\",\"2021-09-15T00:00:00+00:00\",\"2021-09-16T00:00:00+00:00\",\"2021-09-17T00:00:00+00:00\",\"2021-09-20T00:00:00+00:00\",\"2021-09-21T00:00:00+00:00\",\"2021-09-22T00:00:00+00:00\",\"2021-09-23T00:00:00+00:00\",\"2021-09-24T00:00:00+00:00\",\"2021-09-27T00:00:00+00:00\",\"2021-09-28T00:00:00+00:00\",\"2021-09-29T00:00:00+00:00\",\"2021-09-30T00:00:00+00:00\",\"2021-10-01T00:00:00+00:00\",\"2021-10-04T00:00:00+00:00\",\"2021-10-05T00:00:00+00:00\",\"2021-10-06T00:00:00+00:00\",\"2021-10-07T00:00:00+00:00\",\"2021-10-08T00:00:00+00:00\",\"2021-10-11T00:00:00+00:00\",\"2021-10-12T00:00:00+00:00\",\"2021-10-13T00:00:00+00:00\",\"2021-10-14T00:00:00+00:00\",\"2021-10-15T00:00:00+00:00\",\"2021-10-18T00:00:00+00:00\",\"2021-10-19T00:00:00+00:00\",\"2021-10-20T00:00:00+00:00\",\"2021-10-21T00:00:00+00:00\",\"2021-10-22T00:00:00+00:00\",\"2021-10-25T00:00:00+00:00\",\"2021-10-26T00:00:00+00:00\",\"2021-10-27T00:00:00+00:00\",\"2021-10-28T00:00:00+00:00\",\"2021-10-29T00:00:00+00:00\",\"2021-11-01T00:00:00+00:00\",\"2021-11-02T00:00:00+00:00\",\"2021-11-03T00:00:00+00:00\",\"2021-11-04T00:00:00+00:00\",\"2021-11-05T00:00:00+00:00\",\"2021-11-08T00:00:00+00:00\",\"2021-11-09T00:00:00+00:00\",\"2021-11-10T00:00:00+00:00\",\"2021-11-11T00:00:00+00:00\",\"2021-11-12T00:00:00+00:00\",\"2021-11-15T00:00:00+00:00\",\"2021-11-16T00:00:00+00:00\",\"2021-11-17T00:00:00+00:00\",\"2021-11-18T00:00:00+00:00\",\"2021-11-19T00:00:00+00:00\",\"2021-11-22T00:00:00+00:00\",\"2021-11-23T00:00:00+00:00\",\"2021-11-24T00:00:00+00:00\",\"2021-11-26T00:00:00+00:00\",\"2021-11-29T00:00:00+00:00\",\"2021-11-30T00:00:00+00:00\",\"2021-12-01T00:00:00+00:00\",\"2021-12-02T00:00:00+00:00\",\"2021-12-03T00:00:00+00:00\",\"2021-12-06T00:00:00+00:00\",\"2021-12-07T00:00:00+00:00\",\"2021-12-08T00:00:00+00:00\",\"2021-12-09T00:00:00+00:00\",\"2021-12-10T00:00:00+00:00\",\"2021-12-13T00:00:00+00:00\",\"2021-12-14T00:00:00+00:00\",\"2021-12-15T00:00:00+00:00\",\"2021-12-16T00:00:00+00:00\",\"2021-12-17T00:00:00+00:00\",\"2021-12-20T00:00:00+00:00\",\"2021-12-21T00:00:00+00:00\",\"2021-12-22T00:00:00+00:00\",\"2021-12-23T00:00:00+00:00\",\"2021-12-27T00:00:00+00:00\",\"2021-12-28T00:00:00+00:00\",\"2021-12-29T00:00:00+00:00\",\"2021-12-30T00:00:00+00:00\",\"2021-12-31T00:00:00+00:00\",\"2022-01-03T00:00:00+00:00\",\"2022-01-04T00:00:00+00:00\",\"2022-01-05T00:00:00+00:00\",\"2022-01-06T00:00:00+00:00\",\"2022-01-07T00:00:00+00:00\",\"2022-01-10T00:00:00+00:00\",\"2022-01-11T00:00:00+00:00\",\"2022-01-12T00:00:00+00:00\",\"2022-01-13T00:00:00+00:00\",\"2022-01-14T00:00:00+00:00\",\"2022-01-18T00:00:00+00:00\",\"2022-01-19T00:00:00+00:00\",\"2022-01-20T00:00:00+00:00\",\"2022-01-21T00:00:00+00:00\",\"2022-01-24T00:00:00+00:00\",\"2022-01-25T00:00:00+00:00\",\"2022-01-26T00:00:00+00:00\",\"2022-01-27T00:00:00+00:00\",\"2022-01-28T00:00:00+00:00\",\"2022-01-31T00:00:00+00:00\",\"2022-02-01T00:00:00+00:00\",\"2022-02-02T00:00:00+00:00\",\"2022-02-03T00:00:00+00:00\",\"2022-02-04T00:00:00+00:00\",\"2022-02-07T00:00:00+00:00\",\"2022-02-08T00:00:00+00:00\",\"2022-02-09T00:00:00+00:00\",\"2022-02-10T00:00:00+00:00\",\"2022-02-11T00:00:00+00:00\",\"2022-02-14T00:00:00+00:00\",\"2022-02-15T00:00:00+00:00\",\"2022-02-16T00:00:00+00:00\",\"2022-02-17T00:00:00+00:00\",\"2022-02-18T00:00:00+00:00\",\"2022-02-22T00:00:00+00:00\",\"2022-02-23T00:00:00+00:00\",\"2022-02-24T00:00:00+00:00\",\"2022-02-25T00:00:00+00:00\",\"2022-02-28T00:00:00+00:00\",\"2022-03-01T00:00:00+00:00\",\"2022-03-02T00:00:00+00:00\",\"2022-03-03T00:00:00+00:00\",\"2022-03-04T00:00:00+00:00\",\"2022-03-07T00:00:00+00:00\",\"2022-03-08T00:00:00+00:00\",\"2022-03-09T00:00:00+00:00\",\"2022-03-10T00:00:00+00:00\",\"2022-03-11T00:00:00+00:00\",\"2022-03-14T00:00:00+00:00\",\"2022-03-15T00:00:00+00:00\",\"2022-03-16T00:00:00+00:00\",\"2022-03-17T00:00:00+00:00\",\"2022-03-18T00:00:00+00:00\",\"2022-03-21T00:00:00+00:00\",\"2022-03-22T00:00:00+00:00\",\"2022-03-23T00:00:00+00:00\",\"2022-03-24T00:00:00+00:00\",\"2022-03-25T00:00:00+00:00\",\"2022-03-28T00:00:00+00:00\",\"2022-03-29T00:00:00+00:00\",\"2022-03-30T00:00:00+00:00\",\"2022-03-31T00:00:00+00:00\",\"2022-04-01T00:00:00+00:00\",\"2022-04-04T00:00:00+00:00\",\"2022-04-05T00:00:00+00:00\",\"2022-04-06T00:00:00+00:00\",\"2022-04-07T00:00:00+00:00\",\"2022-04-08T00:00:00+00:00\",\"2022-04-11T00:00:00+00:00\",\"2022-04-12T00:00:00+00:00\",\"2022-04-13T00:00:00+00:00\",\"2022-04-14T00:00:00+00:00\",\"2022-04-18T00:00:00+00:00\",\"2022-04-19T00:00:00+00:00\",\"2022-04-20T00:00:00+00:00\",\"2022-04-21T00:00:00+00:00\",\"2022-04-22T00:00:00+00:00\",\"2022-04-25T00:00:00+00:00\",\"2022-04-26T00:00:00+00:00\",\"2022-04-27T00:00:00+00:00\",\"2022-04-28T00:00:00+00:00\",\"2022-04-29T00:00:00+00:00\",\"2022-05-02T00:00:00+00:00\",\"2022-05-03T00:00:00+00:00\",\"2022-05-04T00:00:00+00:00\",\"2022-05-05T00:00:00+00:00\",\"2022-05-06T00:00:00+00:00\",\"2022-05-09T00:00:00+00:00\",\"2022-05-10T00:00:00+00:00\",\"2022-05-11T00:00:00+00:00\",\"2022-05-12T00:00:00+00:00\",\"2022-05-13T00:00:00+00:00\",\"2022-05-16T00:00:00+00:00\",\"2022-05-17T00:00:00+00:00\",\"2022-05-18T00:00:00+00:00\",\"2022-05-19T00:00:00+00:00\",\"2022-05-20T00:00:00+00:00\",\"2022-05-23T00:00:00+00:00\",\"2022-05-24T00:00:00+00:00\",\"2022-05-25T00:00:00+00:00\",\"2022-05-26T00:00:00+00:00\",\"2022-05-27T00:00:00+00:00\",\"2022-05-31T00:00:00+00:00\",\"2022-06-01T00:00:00+00:00\",\"2022-06-02T00:00:00+00:00\",\"2022-06-03T00:00:00+00:00\",\"2022-06-06T00:00:00+00:00\",\"2022-06-07T00:00:00+00:00\",\"2022-06-08T00:00:00+00:00\",\"2022-06-09T00:00:00+00:00\",\"2022-06-10T00:00:00+00:00\",\"2022-06-13T00:00:00+00:00\",\"2022-06-14T00:00:00+00:00\",\"2022-06-15T00:00:00+00:00\",\"2022-06-16T00:00:00+00:00\",\"2022-06-17T00:00:00+00:00\",\"2022-06-21T00:00:00+00:00\",\"2022-06-22T00:00:00+00:00\",\"2022-06-23T00:00:00+00:00\",\"2022-06-24T00:00:00+00:00\",\"2022-06-27T00:00:00+00:00\",\"2022-06-28T00:00:00+00:00\",\"2022-06-29T00:00:00+00:00\",\"2022-06-30T00:00:00+00:00\",\"2022-07-01T00:00:00+00:00\",\"2022-07-05T00:00:00+00:00\",\"2022-07-06T00:00:00+00:00\",\"2022-07-07T00:00:00+00:00\",\"2022-07-08T00:00:00+00:00\",\"2022-07-11T00:00:00+00:00\",\"2022-07-12T00:00:00+00:00\",\"2022-07-13T00:00:00+00:00\",\"2022-07-14T00:00:00+00:00\",\"2022-07-15T00:00:00+00:00\",\"2022-07-18T00:00:00+00:00\",\"2022-07-19T00:00:00+00:00\",\"2022-07-20T00:00:00+00:00\",\"2022-07-21T00:00:00+00:00\",\"2022-07-22T00:00:00+00:00\",\"2022-07-25T00:00:00+00:00\",\"2022-07-26T00:00:00+00:00\",\"2022-07-27T00:00:00+00:00\",\"2022-07-28T00:00:00+00:00\",\"2022-07-29T00:00:00+00:00\",\"2022-08-01T00:00:00+00:00\",\"2022-08-02T00:00:00+00:00\",\"2022-08-03T00:00:00+00:00\",\"2022-08-04T00:00:00+00:00\",\"2022-08-05T00:00:00+00:00\",\"2022-08-08T00:00:00+00:00\",\"2022-08-09T00:00:00+00:00\",\"2022-08-10T00:00:00+00:00\",\"2022-08-11T00:00:00+00:00\",\"2022-08-12T00:00:00+00:00\",\"2022-08-15T00:00:00+00:00\",\"2022-08-16T00:00:00+00:00\",\"2022-08-17T00:00:00+00:00\",\"2022-08-18T00:00:00+00:00\",\"2022-08-19T00:00:00+00:00\",\"2022-08-22T00:00:00+00:00\",\"2022-08-23T00:00:00+00:00\",\"2022-08-24T00:00:00+00:00\",\"2022-08-25T00:00:00+00:00\",\"2022-08-26T00:00:00+00:00\",\"2022-08-29T00:00:00+00:00\",\"2022-08-30T00:00:00+00:00\",\"2022-08-31T00:00:00+00:00\",\"2022-09-01T00:00:00+00:00\",\"2022-09-02T00:00:00+00:00\",\"2022-09-06T00:00:00+00:00\",\"2022-09-07T00:00:00+00:00\",\"2022-09-08T00:00:00+00:00\",\"2022-09-09T00:00:00+00:00\",\"2022-09-12T00:00:00+00:00\",\"2022-09-13T00:00:00+00:00\",\"2022-09-14T00:00:00+00:00\",\"2022-09-15T00:00:00+00:00\",\"2022-09-16T00:00:00+00:00\",\"2022-09-19T00:00:00+00:00\",\"2022-09-20T00:00:00+00:00\",\"2022-09-21T00:00:00+00:00\",\"2022-09-22T00:00:00+00:00\",\"2022-09-23T00:00:00+00:00\",\"2022-09-26T00:00:00+00:00\",\"2022-09-27T00:00:00+00:00\",\"2022-09-28T00:00:00+00:00\",\"2022-09-29T00:00:00+00:00\",\"2022-09-30T00:00:00+00:00\",\"2022-10-03T00:00:00+00:00\",\"2022-10-04T00:00:00+00:00\",\"2022-10-05T00:00:00+00:00\",\"2022-10-06T00:00:00+00:00\",\"2022-10-07T00:00:00+00:00\",\"2022-10-10T00:00:00+00:00\",\"2022-10-11T00:00:00+00:00\",\"2022-10-12T00:00:00+00:00\",\"2022-10-13T00:00:00+00:00\",\"2022-10-14T00:00:00+00:00\",\"2022-10-17T00:00:00+00:00\",\"2022-10-18T00:00:00+00:00\",\"2022-10-19T00:00:00+00:00\",\"2022-10-20T00:00:00+00:00\",\"2022-10-21T00:00:00+00:00\",\"2022-10-24T00:00:00+00:00\",\"2022-10-25T00:00:00+00:00\",\"2022-10-26T00:00:00+00:00\",\"2022-10-27T00:00:00+00:00\",\"2022-10-28T00:00:00+00:00\",\"2022-10-31T00:00:00+00:00\",\"2022-11-01T00:00:00+00:00\",\"2022-11-02T00:00:00+00:00\",\"2022-11-03T00:00:00+00:00\",\"2022-11-04T00:00:00+00:00\",\"2022-11-07T00:00:00+00:00\",\"2022-11-08T00:00:00+00:00\",\"2022-11-09T00:00:00+00:00\",\"2022-11-10T00:00:00+00:00\",\"2022-11-11T00:00:00+00:00\",\"2022-11-14T00:00:00+00:00\",\"2022-11-15T00:00:00+00:00\",\"2022-11-16T00:00:00+00:00\",\"2022-11-17T00:00:00+00:00\",\"2022-11-18T00:00:00+00:00\",\"2022-11-21T00:00:00+00:00\",\"2022-11-22T00:00:00+00:00\",\"2022-11-23T00:00:00+00:00\",\"2022-11-25T00:00:00+00:00\",\"2022-11-28T00:00:00+00:00\",\"2022-11-29T00:00:00+00:00\",\"2022-11-30T00:00:00+00:00\",\"2022-12-01T00:00:00+00:00\",\"2022-12-02T00:00:00+00:00\",\"2022-12-05T00:00:00+00:00\",\"2022-12-06T00:00:00+00:00\",\"2022-12-07T00:00:00+00:00\",\"2022-12-08T00:00:00+00:00\",\"2022-12-09T00:00:00+00:00\",\"2022-12-12T00:00:00+00:00\",\"2022-12-13T00:00:00+00:00\",\"2022-12-14T00:00:00+00:00\",\"2022-12-15T00:00:00+00:00\",\"2022-12-16T00:00:00+00:00\",\"2022-12-19T00:00:00+00:00\",\"2022-12-20T00:00:00+00:00\",\"2022-12-21T00:00:00+00:00\",\"2022-12-22T00:00:00+00:00\",\"2022-12-23T00:00:00+00:00\",\"2022-12-27T00:00:00+00:00\",\"2022-12-28T00:00:00+00:00\",\"2022-12-29T00:00:00+00:00\",\"2022-12-30T00:00:00+00:00\",\"2023-01-03T00:00:00+00:00\",\"2023-01-04T00:00:00+00:00\",\"2023-01-05T00:00:00+00:00\",\"2023-01-06T00:00:00+00:00\",\"2023-01-09T00:00:00+00:00\",\"2023-01-10T00:00:00+00:00\",\"2023-01-11T00:00:00+00:00\",\"2023-01-12T00:00:00+00:00\",\"2023-01-13T00:00:00+00:00\",\"2023-01-17T00:00:00+00:00\",\"2023-01-18T00:00:00+00:00\",\"2023-01-19T00:00:00+00:00\",\"2023-01-20T00:00:00+00:00\",\"2023-01-23T00:00:00+00:00\",\"2023-01-24T00:00:00+00:00\",\"2023-01-25T00:00:00+00:00\",\"2023-01-26T00:00:00+00:00\",\"2023-01-27T00:00:00+00:00\",\"2023-01-30T00:00:00+00:00\",\"2023-01-31T00:00:00+00:00\",\"2023-02-01T00:00:00+00:00\",\"2023-02-02T00:00:00+00:00\",\"2023-02-03T00:00:00+00:00\",\"2023-02-06T00:00:00+00:00\",\"2023-02-07T00:00:00+00:00\",\"2023-02-08T00:00:00+00:00\",\"2023-02-09T00:00:00+00:00\",\"2023-02-10T00:00:00+00:00\",\"2023-02-13T00:00:00+00:00\",\"2023-02-14T00:00:00+00:00\",\"2023-02-15T00:00:00+00:00\",\"2023-02-16T00:00:00+00:00\",\"2023-02-17T00:00:00+00:00\",\"2023-02-21T00:00:00+00:00\",\"2023-02-22T00:00:00+00:00\",\"2023-02-23T00:00:00+00:00\",\"2023-02-24T00:00:00+00:00\",\"2023-02-27T00:00:00+00:00\",\"2023-02-28T00:00:00+00:00\",\"2023-03-01T00:00:00+00:00\",\"2023-03-02T00:00:00+00:00\",\"2023-03-03T00:00:00+00:00\",\"2023-03-06T00:00:00+00:00\",\"2023-03-07T00:00:00+00:00\",\"2023-03-08T00:00:00+00:00\",\"2023-03-09T00:00:00+00:00\",\"2023-03-10T00:00:00+00:00\",\"2023-03-13T00:00:00+00:00\",\"2023-03-14T00:00:00+00:00\",\"2023-03-15T00:00:00+00:00\",\"2023-03-16T00:00:00+00:00\",\"2023-03-17T00:00:00+00:00\",\"2023-03-20T00:00:00+00:00\",\"2023-03-21T00:00:00+00:00\",\"2023-03-22T00:00:00+00:00\",\"2023-03-23T00:00:00+00:00\",\"2023-03-24T00:00:00+00:00\",\"2023-03-27T00:00:00+00:00\",\"2023-03-28T00:00:00+00:00\",\"2023-03-29T00:00:00+00:00\",\"2023-03-30T00:00:00+00:00\",\"2023-03-31T00:00:00+00:00\",\"2023-04-03T00:00:00+00:00\",\"2023-04-04T00:00:00+00:00\",\"2023-04-05T00:00:00+00:00\",\"2023-04-06T00:00:00+00:00\",\"2023-04-10T00:00:00+00:00\",\"2023-04-11T00:00:00+00:00\",\"2023-04-12T00:00:00+00:00\",\"2023-04-13T00:00:00+00:00\",\"2023-04-14T00:00:00+00:00\",\"2023-04-17T00:00:00+00:00\",\"2023-04-18T00:00:00+00:00\",\"2023-04-19T00:00:00+00:00\",\"2023-04-20T00:00:00+00:00\",\"2023-04-21T00:00:00+00:00\",\"2023-04-24T00:00:00+00:00\",\"2023-04-25T00:00:00+00:00\",\"2023-04-26T00:00:00+00:00\",\"2023-04-27T00:00:00+00:00\",\"2023-04-28T00:00:00+00:00\",\"2023-05-01T00:00:00+00:00\",\"2023-05-02T00:00:00+00:00\",\"2023-05-03T00:00:00+00:00\",\"2023-05-04T00:00:00+00:00\",\"2023-05-05T00:00:00+00:00\",\"2023-05-08T00:00:00+00:00\",\"2023-05-09T00:00:00+00:00\",\"2023-05-10T00:00:00+00:00\",\"2023-05-11T00:00:00+00:00\",\"2023-05-12T00:00:00+00:00\",\"2023-05-15T00:00:00+00:00\",\"2023-05-16T00:00:00+00:00\",\"2023-05-17T00:00:00+00:00\",\"2023-05-18T00:00:00+00:00\",\"2023-05-19T00:00:00+00:00\",\"2023-05-22T00:00:00+00:00\",\"2023-05-23T00:00:00+00:00\",\"2023-05-24T00:00:00+00:00\",\"2023-05-25T00:00:00+00:00\",\"2023-05-26T00:00:00+00:00\",\"2023-05-30T00:00:00+00:00\",\"2023-05-31T00:00:00+00:00\",\"2023-06-01T00:00:00+00:00\",\"2023-06-02T00:00:00+00:00\",\"2023-06-05T00:00:00+00:00\",\"2023-06-06T00:00:00+00:00\",\"2023-06-07T00:00:00+00:00\",\"2023-06-08T00:00:00+00:00\",\"2023-06-09T00:00:00+00:00\",\"2023-06-12T00:00:00+00:00\",\"2023-06-13T00:00:00+00:00\",\"2023-06-14T00:00:00+00:00\",\"2023-06-15T00:00:00+00:00\",\"2023-06-16T00:00:00+00:00\",\"2023-06-20T00:00:00+00:00\",\"2023-06-21T00:00:00+00:00\",\"2023-06-22T00:00:00+00:00\",\"2023-06-23T00:00:00+00:00\",\"2023-06-26T00:00:00+00:00\",\"2023-06-27T00:00:00+00:00\",\"2023-06-28T00:00:00+00:00\",\"2023-06-29T00:00:00+00:00\",\"2023-06-30T00:00:00+00:00\",\"2023-07-03T00:00:00+00:00\",\"2023-07-05T00:00:00+00:00\",\"2023-07-06T00:00:00+00:00\",\"2023-07-07T00:00:00+00:00\",\"2023-07-10T00:00:00+00:00\",\"2023-07-11T00:00:00+00:00\",\"2023-07-12T00:00:00+00:00\",\"2023-07-13T00:00:00+00:00\",\"2023-07-14T00:00:00+00:00\",\"2023-07-17T00:00:00+00:00\",\"2023-07-18T00:00:00+00:00\",\"2023-07-19T00:00:00+00:00\",\"2023-07-20T00:00:00+00:00\",\"2023-07-21T00:00:00+00:00\",\"2023-07-24T00:00:00+00:00\",\"2023-07-25T00:00:00+00:00\",\"2023-07-26T00:00:00+00:00\",\"2023-07-27T00:00:00+00:00\",\"2023-07-28T00:00:00+00:00\",\"2023-07-31T00:00:00+00:00\",\"2023-08-01T00:00:00+00:00\",\"2023-08-02T00:00:00+00:00\",\"2023-08-03T00:00:00+00:00\",\"2023-08-04T00:00:00+00:00\",\"2023-08-07T00:00:00+00:00\",\"2023-08-08T00:00:00+00:00\",\"2023-08-09T00:00:00+00:00\",\"2023-08-10T00:00:00+00:00\",\"2023-08-11T00:00:00+00:00\",\"2023-08-14T00:00:00+00:00\",\"2023-08-15T00:00:00+00:00\",\"2023-08-16T00:00:00+00:00\",\"2023-08-17T00:00:00+00:00\",\"2023-08-18T00:00:00+00:00\",\"2023-08-21T00:00:00+00:00\",\"2023-08-22T00:00:00+00:00\",\"2023-08-23T00:00:00+00:00\",\"2023-08-24T00:00:00+00:00\",\"2023-08-25T00:00:00+00:00\",\"2023-08-28T00:00:00+00:00\",\"2023-08-29T00:00:00+00:00\",\"2023-08-30T00:00:00+00:00\",\"2023-08-31T00:00:00+00:00\",\"2023-09-01T00:00:00+00:00\",\"2023-09-05T00:00:00+00:00\",\"2023-09-06T00:00:00+00:00\",\"2023-09-07T00:00:00+00:00\",\"2023-09-08T00:00:00+00:00\",\"2023-09-11T00:00:00+00:00\",\"2023-09-12T00:00:00+00:00\",\"2023-09-13T00:00:00+00:00\",\"2023-09-14T00:00:00+00:00\",\"2023-09-15T00:00:00+00:00\",\"2023-09-18T00:00:00+00:00\",\"2023-09-19T00:00:00+00:00\",\"2023-09-20T00:00:00+00:00\",\"2023-09-21T00:00:00+00:00\",\"2023-09-22T00:00:00+00:00\",\"2023-09-25T00:00:00+00:00\",\"2023-09-26T00:00:00+00:00\",\"2023-09-27T00:00:00+00:00\",\"2023-09-28T00:00:00+00:00\",\"2023-09-29T00:00:00+00:00\",\"2023-10-02T00:00:00+00:00\",\"2023-10-03T00:00:00+00:00\",\"2023-10-04T00:00:00+00:00\",\"2023-10-05T00:00:00+00:00\",\"2023-10-06T00:00:00+00:00\",\"2023-10-09T00:00:00+00:00\",\"2023-10-10T00:00:00+00:00\",\"2023-10-11T00:00:00+00:00\",\"2023-10-12T00:00:00+00:00\",\"2023-10-13T00:00:00+00:00\",\"2023-10-16T00:00:00+00:00\",\"2023-10-17T00:00:00+00:00\",\"2023-10-18T00:00:00+00:00\",\"2023-10-19T00:00:00+00:00\",\"2023-10-20T00:00:00+00:00\",\"2023-10-23T00:00:00+00:00\",\"2023-10-24T00:00:00+00:00\",\"2023-10-25T00:00:00+00:00\",\"2023-10-26T00:00:00+00:00\",\"2023-10-27T00:00:00+00:00\",\"2023-10-30T00:00:00+00:00\",\"2023-10-31T00:00:00+00:00\",\"2023-11-01T00:00:00+00:00\",\"2023-11-02T00:00:00+00:00\",\"2023-11-03T00:00:00+00:00\",\"2023-11-06T00:00:00+00:00\",\"2023-11-07T00:00:00+00:00\",\"2023-11-08T00:00:00+00:00\",\"2023-11-09T00:00:00+00:00\",\"2023-11-10T00:00:00+00:00\",\"2023-11-13T00:00:00+00:00\",\"2023-11-14T00:00:00+00:00\",\"2023-11-15T00:00:00+00:00\",\"2023-11-16T00:00:00+00:00\",\"2023-11-17T00:00:00+00:00\",\"2023-11-20T00:00:00+00:00\",\"2023-11-21T00:00:00+00:00\",\"2023-11-22T00:00:00+00:00\",\"2023-11-24T00:00:00+00:00\",\"2023-11-27T00:00:00+00:00\",\"2023-11-28T00:00:00+00:00\",\"2023-11-29T00:00:00+00:00\",\"2023-11-30T00:00:00+00:00\",\"2023-12-01T00:00:00+00:00\",\"2023-12-04T00:00:00+00:00\",\"2023-12-05T00:00:00+00:00\",\"2023-12-06T00:00:00+00:00\",\"2023-12-07T00:00:00+00:00\",\"2023-12-08T00:00:00+00:00\",\"2023-12-11T00:00:00+00:00\",\"2023-12-12T00:00:00+00:00\",\"2023-12-13T00:00:00+00:00\",\"2023-12-14T00:00:00+00:00\",\"2023-12-15T00:00:00+00:00\",\"2023-12-18T00:00:00+00:00\",\"2023-12-19T00:00:00+00:00\",\"2023-12-20T00:00:00+00:00\",\"2023-12-21T00:00:00+00:00\",\"2023-12-22T00:00:00+00:00\",\"2023-12-26T00:00:00+00:00\",\"2023-12-27T00:00:00+00:00\",\"2023-12-28T00:00:00+00:00\",\"2023-12-29T00:00:00+00:00\"],\"xaxis\":\"x\",\"y\":[222.529999,217.259995,212.169998,214.039993,218.679993,218.470001,216.5,214.020004,215.910004,213.520004,213.75,217.699997,224.699997,227.080002,229.119995,231.860001,238.0,235.610001,235.990005,235.059998,241.300003,239.570007,242.660004,242.229996,243.149994,241.869995,245.0,244.779999,243.929993,245.029999,241.320007,241.800003,243.75,237.419998,230.330002,230.009995,232.080002,231.529999,235.899994,237.009995,232.160004,226.740005,229.520004,231.369995,232.880005,237.0,234.960007,234.009995,234.960007,236.279999,236.149994,232.559998,231.020004,230.270004,237.490005,237.850006,235.300003,231.550003,236.589996,233.529999,232.910004,238.470001,242.759995,247.610001,247.809998,252.770004,252.869995,254.710007,257.26001,257.480011,257.929993,259.470001,260.190002,257.820007,258.940002,260.209991,257.880005,261.660004,261.579987,256.079987,255.460007,249.740005,253.399994,250.970001,249.059998,246.449997,252.149994,250.869995,244.550003,242.169998,241.800003,245.580002,246.550003,246.270004,239.309998,243.960007,247.570007,247.789993,251.770004,251.429993,251.169998,251.0,251.229996,248.130005,245.220001,247.759995,249.979996,255.160004,253.809998,254.289993,257.98999,257.899994,259.769989,259.399994,256.070007,259.630005,259.820007,262.720001,265.98999,266.160004,266.230011,266.190002,268.869995,270.690002,269.609985,272.820007,278.029999,279.399994,276.899994,275.720001,279.160004,277.519989,282.350006,282.0,282.070007,278.929993,278.029999,278.899994,283.839996,287.369995,289.0,289.429993,288.98999,286.23999,285.170013,286.359985,285.420013,286.220001,286.880005,288.51001,289.75,288.799988,287.209991,286.630005,289.480011,293.190002,292.390015,292.040009,288.690002,299.720001,303.25,305.019989,304.299988,300.98999,298.98999,301.119995,304.420013,302.869995,302.200012,300.98999,301.01001,299.779999,300.820007,298.420013,297.549988,299.559998,303.26001,303.76001,304.170013,296.329987,295.690002,296.730011,298.850006,298.230011,296.140015,289.799988,285.100006,285.709991,282.119995,287.399994,284.049988,285.779999,295.179993,296.220001,292.920013,295.339996,294.910004,299.209991,302.339996,303.570007,308.350006,309.209991,307.170013,310.399994,309.359985,311.0,316.0,324.329987,324.130005,331.359985,330.309998,333.899994,332.890015,338.51001,337.299988,337.109985,334.570007,331.25,333.920013,337.540009,335.679993,338.940002,338.179993,342.640015,344.619995,337.049988,336.279999,334.350006,334.940002,335.320007,335.130005,330.299988,331.98999,323.950012,331.640015,335.309998,334.410004,334.980011,340.679993,333.220001,328.609985,335.709991,320.880005,320.049988,323.290009,328.299988,332.75,335.459991,343.149994,341.299988,341.910004,338.51001,335.350006,334.829987,325.859985,313.149994,314.149994,309.48999,313.380005,319.670013,320.470001,304.25,304.070007,306.290009,309.070007,302.690002,292.200012,291.519989,307.98999,302.660004,300.230011,308.950012,310.410004,309.630005,309.48999,300.209991,306.170013,301.25,309.869995,304.040009,303.190002,293.769989,300.01001,298.369995,296.359985,293.049988,285.0,290.179993,272.51001,295.140015,294.309998,296.399994,295.359985,302.890015,294.290009,288.529999,277.799988,283.440002,283.019989,287.959991,280.339996,280.350006,289.109985,293.290009,295.369995,298.890015,299.799988,300.51001,299.140015,305.230011,304.329987,313.910004,313.76001,313.899994,309.369995,310.089996,313.269989,305.190002,296.660004,300.440002,291.790009,289.23999,282.730011,288.089996,278.910004,279.380005,289.399994,288.579987,281.679993,273.290009,277.5,282.100006,285.190002,288.609985,277.709991,283.959991,282.589996,285.540009,274.809998,270.059998,271.690002,265.679993,257.690002,257.350006,259.959991,266.109985,263.0,253.899994,257.23999,255.490005,257.890015,258.140015,262.269989,268.480011,272.529999,275.200012,264.450012,270.309998,272.059998,266.640015,271.709991,267.779999,260.579987,245.110001,243.860001,248.309998,245.979996,244.699997,250.259995,251.889999,255.570007,261.809998,268.209991,263.980011,257.589996,257.049988,256.390015,256.160004,263.75,265.119995,264.790009,265.649994,265.880005,250.190002,250.570007,255.720001,259.75,257.579987,259.899994,259.790009,265.23999,261.0,259.859985,261.160004,269.75,277.700012,277.820007,276.0,276.76001,281.799988,279.149994,284.049988,279.640015,288.170013,290.850006,288.480011,291.0,291.98999,289.73999,290.190002,288.899994,282.079987,276.440002,275.410004,277.329987,279.079987,265.850006,266.670013,265.390015,258.869995,261.700012,256.200012,254.699997,257.51001,260.5,265.779999,258.839996,253.529999,249.770004,244.259995,242.470001,242.070007,244.270004,237.869995,239.539993,237.050003,239.979996,236.809998,238.889999,238.289993,235.410004,245.089996,245.990005,247.929993,240.899994,233.050003,227.619995,225.399994,219.850006,235.539993,235.820007,243.240005,237.039993,235.770004,234.740005,243.759995,247.259995,231.169998,231.039993,226.240005,233.759995,234.600006,229.460007,220.089996,217.550003,221.990005,228.699997,227.369995,235.429993,242.990005,241.990005,245.660004,242.789993,237.779999,243.509995,241.429993,243.589996,245.110001,247.309998,246.080002,241.399994,240.570007,253.869995,249.820007,252.009995,250.820007,244.830002,244.839996,244.699997,247.449997,261.690002,257.130005,253.720001,248.550003,244.860001,239.399994,241.690002,241.259995,236.110001,238.699997,236.889999,235.649994,238.210007,243.080002,232.279999,227.199997,223.0,226.449997,227.759995,231.289993,235.259995,237.0,237.970001,241.570007,233.779999,234.860001,241.100006,242.5,234.479996,243.649994,248.990005,244.509995,243.449997,248.0,258.820007,259.540009,257.440002,260.529999,273.200012,273.799988,261.529999,267.640015,272.670013,268.320007,264.019989,259.390015,254.479996,254.089996,255.559998,249.960007,252.460007,249.070007,250.759995,246.550003,252.190002,256.429993,256.299988,254.039993,255.820007,251.080002,247.399994,256.75,259.980011,265.209991,278.26001,276.980011,274.880005,273.399994,277.940002,277.23999,280.5,275.790009,278.959991,284.230011,283.730011,286.519989,287.230011,285.850006,283.209991,289.209991,285.75,284.790009,283.589996,287.0,289.929993,291.570007,285.98999,285.25,285.01001,282.089996,279.51001,296.700012,295.970001,304.01001,306.970001,307.76001,306.619995,306.23999,305.720001,310.130005,308.0,308.619995,310.100006,310.549988,309.100006,309.829987,312.290009,314.529999,316.73999,318.600006,320.029999,314.730011,323.23999,324.019989,335.230011,332.290009,325.929993,334.25,335.220001,335.329987,331.649994,323.940002,324.98999,328.579987,334.470001,334.339996,337.480011,351.320007,339.309998,336.369995,334.119995,334.359985,333.720001,331.859985,334.660004,334.709991,337.75,339.190002,335.089996,337.299988,339.320007,334.600006,331.059998,336.600006,339.559998,347.589996,345.679993,345.829987,361.75,353.570007,349.149994,345.850006,347.109985,341.440002,340.480011,333.670013,336.920013,335.190002,333.630005,326.0,331.880005,328.369995,326.959991,326.470001,326.019989,320.26001,321.390015,323.0,320.799988,320.540009,314.48999,317.929993,325.5,323.820007,332.850006,321.470001,325.660004,321.880005,328.670013,329.200012,331.309998,329.0,333.380005,331.290009,330.089996,337.23999,335.820007,331.309998,339.149994,336.920013,327.799988,326.170013,329.51001,319.26001,321.320007,316.589996,315.130005,312.299988,310.98999,317.75,316.279999,320.829987,314.029999,319.089996,316.549988,324.75,330.959991,331.209991,330.570007,332.380005,331.049988,329.589996,332.48999,332.149994,331.720001,325.470001,331.299988,345.019989,340.540009,330.429993,333.410004,338.850006,339.790009,347.23999,349.630005,353.450012,359.399994,361.679993,362.299988,361.48999,368.220001,371.01001,371.279999,370.959991,373.609985,371.220001,375.670013,378.0,377.329987,376.779999,378.350006,383.76001,378.48999,376.76001,369.100006,366.450012,373.540009,368.230011,369.200012,368.480011,370.850006,376.019989,373.309998,366.850006,369.450012,371.48999,375.0,372.559998,373.679993,375.0,373.690002,375.369995,376.0],\"yaxis\":\"y\",\"type\":\"scattergl\"},{\"hovertemplate\":\"variable=Close\\u003cbr\\u003eDate=%{x}\\u003cbr\\u003eStock value=%{y}\\u003cextra\\u003e\\u003c\\u002fextra\\u003e\",\"legendgroup\":\"Close\",\"line\":{\"color\":\"#EF553B\",\"dash\":\"solid\"},\"marker\":{\"symbol\":\"circle\"},\"mode\":\"lines\",\"name\":\"Stock Close Price\",\"showlegend\":true,\"x\":[\"2021-01-04T00:00:00+00:00\",\"2021-01-05T00:00:00+00:00\",\"2021-01-06T00:00:00+00:00\",\"2021-01-07T00:00:00+00:00\",\"2021-01-08T00:00:00+00:00\",\"2021-01-11T00:00:00+00:00\",\"2021-01-12T00:00:00+00:00\",\"2021-01-13T00:00:00+00:00\",\"2021-01-14T00:00:00+00:00\",\"2021-01-15T00:00:00+00:00\",\"2021-01-19T00:00:00+00:00\",\"2021-01-20T00:00:00+00:00\",\"2021-01-21T00:00:00+00:00\",\"2021-01-22T00:00:00+00:00\",\"2021-01-25T00:00:00+00:00\",\"2021-01-26T00:00:00+00:00\",\"2021-01-27T00:00:00+00:00\",\"2021-01-28T00:00:00+00:00\",\"2021-01-29T00:00:00+00:00\",\"2021-02-01T00:00:00+00:00\",\"2021-02-02T00:00:00+00:00\",\"2021-02-03T00:00:00+00:00\",\"2021-02-04T00:00:00+00:00\",\"2021-02-05T00:00:00+00:00\",\"2021-02-08T00:00:00+00:00\",\"2021-02-09T00:00:00+00:00\",\"2021-02-10T00:00:00+00:00\",\"2021-02-11T00:00:00+00:00\",\"2021-02-12T00:00:00+00:00\",\"2021-02-16T00:00:00+00:00\",\"2021-02-17T00:00:00+00:00\",\"2021-02-18T00:00:00+00:00\",\"2021-02-19T00:00:00+00:00\",\"2021-02-22T00:00:00+00:00\",\"2021-02-23T00:00:00+00:00\",\"2021-02-24T00:00:00+00:00\",\"2021-02-25T00:00:00+00:00\",\"2021-02-26T00:00:00+00:00\",\"2021-03-01T00:00:00+00:00\",\"2021-03-02T00:00:00+00:00\",\"2021-03-03T00:00:00+00:00\",\"2021-03-04T00:00:00+00:00\",\"2021-03-05T00:00:00+00:00\",\"2021-03-08T00:00:00+00:00\",\"2021-03-09T00:00:00+00:00\",\"2021-03-10T00:00:00+00:00\",\"2021-03-11T00:00:00+00:00\",\"2021-03-12T00:00:00+00:00\",\"2021-03-15T00:00:00+00:00\",\"2021-03-16T00:00:00+00:00\",\"2021-03-17T00:00:00+00:00\",\"2021-03-18T00:00:00+00:00\",\"2021-03-19T00:00:00+00:00\",\"2021-03-22T00:00:00+00:00\",\"2021-03-23T00:00:00+00:00\",\"2021-03-24T00:00:00+00:00\",\"2021-03-25T00:00:00+00:00\",\"2021-03-26T00:00:00+00:00\",\"2021-03-29T00:00:00+00:00\",\"2021-03-30T00:00:00+00:00\",\"2021-03-31T00:00:00+00:00\",\"2021-04-01T00:00:00+00:00\",\"2021-04-05T00:00:00+00:00\",\"2021-04-06T00:00:00+00:00\",\"2021-04-07T00:00:00+00:00\",\"2021-04-08T00:00:00+00:00\",\"2021-04-09T00:00:00+00:00\",\"2021-04-12T00:00:00+00:00\",\"2021-04-13T00:00:00+00:00\",\"2021-04-14T00:00:00+00:00\",\"2021-04-15T00:00:00+00:00\",\"2021-04-16T00:00:00+00:00\",\"2021-04-19T00:00:00+00:00\",\"2021-04-20T00:00:00+00:00\",\"2021-04-21T00:00:00+00:00\",\"2021-04-22T00:00:00+00:00\",\"2021-04-23T00:00:00+00:00\",\"2021-04-26T00:00:00+00:00\",\"2021-04-27T00:00:00+00:00\",\"2021-04-28T00:00:00+00:00\",\"2021-04-29T00:00:00+00:00\",\"2021-04-30T00:00:00+00:00\",\"2021-05-03T00:00:00+00:00\",\"2021-05-04T00:00:00+00:00\",\"2021-05-05T00:00:00+00:00\",\"2021-05-06T00:00:00+00:00\",\"2021-05-07T00:00:00+00:00\",\"2021-05-10T00:00:00+00:00\",\"2021-05-11T00:00:00+00:00\",\"2021-05-12T00:00:00+00:00\",\"2021-05-13T00:00:00+00:00\",\"2021-05-14T00:00:00+00:00\",\"2021-05-17T00:00:00+00:00\",\"2021-05-18T00:00:00+00:00\",\"2021-05-19T00:00:00+00:00\",\"2021-05-20T00:00:00+00:00\",\"2021-05-21T00:00:00+00:00\",\"2021-05-24T00:00:00+00:00\",\"2021-05-25T00:00:00+00:00\",\"2021-05-26T00:00:00+00:00\",\"2021-05-27T00:00:00+00:00\",\"2021-05-28T00:00:00+00:00\",\"2021-06-01T00:00:00+00:00\",\"2021-06-02T00:00:00+00:00\",\"2021-06-03T00:00:00+00:00\",\"2021-06-04T00:00:00+00:00\",\"2021-06-07T00:00:00+00:00\",\"2021-06-08T00:00:00+00:00\",\"2021-06-09T00:00:00+00:00\",\"2021-06-10T00:00:00+00:00\",\"2021-06-11T00:00:00+00:00\",\"2021-06-14T00:00:00+00:00\",\"2021-06-15T00:00:00+00:00\",\"2021-06-16T00:00:00+00:00\",\"2021-06-17T00:00:00+00:00\",\"2021-06-18T00:00:00+00:00\",\"2021-06-21T00:00:00+00:00\",\"2021-06-22T00:00:00+00:00\",\"2021-06-23T00:00:00+00:00\",\"2021-06-24T00:00:00+00:00\",\"2021-06-25T00:00:00+00:00\",\"2021-06-28T00:00:00+00:00\",\"2021-06-29T00:00:00+00:00\",\"2021-06-30T00:00:00+00:00\",\"2021-07-01T00:00:00+00:00\",\"2021-07-02T00:00:00+00:00\",\"2021-07-06T00:00:00+00:00\",\"2021-07-07T00:00:00+00:00\",\"2021-07-08T00:00:00+00:00\",\"2021-07-09T00:00:00+00:00\",\"2021-07-12T00:00:00+00:00\",\"2021-07-13T00:00:00+00:00\",\"2021-07-14T00:00:00+00:00\",\"2021-07-15T00:00:00+00:00\",\"2021-07-16T00:00:00+00:00\",\"2021-07-19T00:00:00+00:00\",\"2021-07-20T00:00:00+00:00\",\"2021-07-21T00:00:00+00:00\",\"2021-07-22T00:00:00+00:00\",\"2021-07-23T00:00:00+00:00\",\"2021-07-26T00:00:00+00:00\",\"2021-07-27T00:00:00+00:00\",\"2021-07-28T00:00:00+00:00\",\"2021-07-29T00:00:00+00:00\",\"2021-07-30T00:00:00+00:00\",\"2021-08-02T00:00:00+00:00\",\"2021-08-03T00:00:00+00:00\",\"2021-08-04T00:00:00+00:00\",\"2021-08-05T00:00:00+00:00\",\"2021-08-06T00:00:00+00:00\",\"2021-08-09T00:00:00+00:00\",\"2021-08-10T00:00:00+00:00\",\"2021-08-11T00:00:00+00:00\",\"2021-08-12T00:00:00+00:00\",\"2021-08-13T00:00:00+00:00\",\"2021-08-16T00:00:00+00:00\",\"2021-08-17T00:00:00+00:00\",\"2021-08-18T00:00:00+00:00\",\"2021-08-19T00:00:00+00:00\",\"2021-08-20T00:00:00+00:00\",\"2021-08-23T00:00:00+00:00\",\"2021-08-24T00:00:00+00:00\",\"2021-08-25T00:00:00+00:00\",\"2021-08-26T00:00:00+00:00\",\"2021-08-27T00:00:00+00:00\",\"2021-08-30T00:00:00+00:00\",\"2021-08-31T00:00:00+00:00\",\"2021-09-01T00:00:00+00:00\",\"2021-09-02T00:00:00+00:00\",\"2021-09-03T00:00:00+00:00\",\"2021-09-07T00:00:00+00:00\",\"2021-09-08T00:00:00+00:00\",\"2021-09-09T00:00:00+00:00\",\"2021-09-10T00:00:00+00:00\",\"2021-09-13T00:00:00+00:00\",\"2021-09-14T00:00:00+00:00\",\"2021-09-15T00:00:00+00:00\",\"2021-09-16T00:00:00+00:00\",\"2021-09-17T00:00:00+00:00\",\"2021-09-20T00:00:00+00:00\",\"2021-09-21T00:00:00+00:00\",\"2021-09-22T00:00:00+00:00\",\"2021-09-23T00:00:00+00:00\",\"2021-09-24T00:00:00+00:00\",\"2021-09-27T00:00:00+00:00\",\"2021-09-28T00:00:00+00:00\",\"2021-09-29T00:00:00+00:00\",\"2021-09-30T00:00:00+00:00\",\"2021-10-01T00:00:00+00:00\",\"2021-10-04T00:00:00+00:00\",\"2021-10-05T00:00:00+00:00\",\"2021-10-06T00:00:00+00:00\",\"2021-10-07T00:00:00+00:00\",\"2021-10-08T00:00:00+00:00\",\"2021-10-11T00:00:00+00:00\",\"2021-10-12T00:00:00+00:00\",\"2021-10-13T00:00:00+00:00\",\"2021-10-14T00:00:00+00:00\",\"2021-10-15T00:00:00+00:00\",\"2021-10-18T00:00:00+00:00\",\"2021-10-19T00:00:00+00:00\",\"2021-10-20T00:00:00+00:00\",\"2021-10-21T00:00:00+00:00\",\"2021-10-22T00:00:00+00:00\",\"2021-10-25T00:00:00+00:00\",\"2021-10-26T00:00:00+00:00\",\"2021-10-27T00:00:00+00:00\",\"2021-10-28T00:00:00+00:00\",\"2021-10-29T00:00:00+00:00\",\"2021-11-01T00:00:00+00:00\",\"2021-11-02T00:00:00+00:00\",\"2021-11-03T00:00:00+00:00\",\"2021-11-04T00:00:00+00:00\",\"2021-11-05T00:00:00+00:00\",\"2021-11-08T00:00:00+00:00\",\"2021-11-09T00:00:00+00:00\",\"2021-11-10T00:00:00+00:00\",\"2021-11-11T00:00:00+00:00\",\"2021-11-12T00:00:00+00:00\",\"2021-11-15T00:00:00+00:00\",\"2021-11-16T00:00:00+00:00\",\"2021-11-17T00:00:00+00:00\",\"2021-11-18T00:00:00+00:00\",\"2021-11-19T00:00:00+00:00\",\"2021-11-22T00:00:00+00:00\",\"2021-11-23T00:00:00+00:00\",\"2021-11-24T00:00:00+00:00\",\"2021-11-26T00:00:00+00:00\",\"2021-11-29T00:00:00+00:00\",\"2021-11-30T00:00:00+00:00\",\"2021-12-01T00:00:00+00:00\",\"2021-12-02T00:00:00+00:00\",\"2021-12-03T00:00:00+00:00\",\"2021-12-06T00:00:00+00:00\",\"2021-12-07T00:00:00+00:00\",\"2021-12-08T00:00:00+00:00\",\"2021-12-09T00:00:00+00:00\",\"2021-12-10T00:00:00+00:00\",\"2021-12-13T00:00:00+00:00\",\"2021-12-14T00:00:00+00:00\",\"2021-12-15T00:00:00+00:00\",\"2021-12-16T00:00:00+00:00\",\"2021-12-17T00:00:00+00:00\",\"2021-12-20T00:00:00+00:00\",\"2021-12-21T00:00:00+00:00\",\"2021-12-22T00:00:00+00:00\",\"2021-12-23T00:00:00+00:00\",\"2021-12-27T00:00:00+00:00\",\"2021-12-28T00:00:00+00:00\",\"2021-12-29T00:00:00+00:00\",\"2021-12-30T00:00:00+00:00\",\"2021-12-31T00:00:00+00:00\",\"2022-01-03T00:00:00+00:00\",\"2022-01-04T00:00:00+00:00\",\"2022-01-05T00:00:00+00:00\",\"2022-01-06T00:00:00+00:00\",\"2022-01-07T00:00:00+00:00\",\"2022-01-10T00:00:00+00:00\",\"2022-01-11T00:00:00+00:00\",\"2022-01-12T00:00:00+00:00\",\"2022-01-13T00:00:00+00:00\",\"2022-01-14T00:00:00+00:00\",\"2022-01-18T00:00:00+00:00\",\"2022-01-19T00:00:00+00:00\",\"2022-01-20T00:00:00+00:00\",\"2022-01-21T00:00:00+00:00\",\"2022-01-24T00:00:00+00:00\",\"2022-01-25T00:00:00+00:00\",\"2022-01-26T00:00:00+00:00\",\"2022-01-27T00:00:00+00:00\",\"2022-01-28T00:00:00+00:00\",\"2022-01-31T00:00:00+00:00\",\"2022-02-01T00:00:00+00:00\",\"2022-02-02T00:00:00+00:00\",\"2022-02-03T00:00:00+00:00\",\"2022-02-04T00:00:00+00:00\",\"2022-02-07T00:00:00+00:00\",\"2022-02-08T00:00:00+00:00\",\"2022-02-09T00:00:00+00:00\",\"2022-02-10T00:00:00+00:00\",\"2022-02-11T00:00:00+00:00\",\"2022-02-14T00:00:00+00:00\",\"2022-02-15T00:00:00+00:00\",\"2022-02-16T00:00:00+00:00\",\"2022-02-17T00:00:00+00:00\",\"2022-02-18T00:00:00+00:00\",\"2022-02-22T00:00:00+00:00\",\"2022-02-23T00:00:00+00:00\",\"2022-02-24T00:00:00+00:00\",\"2022-02-25T00:00:00+00:00\",\"2022-02-28T00:00:00+00:00\",\"2022-03-01T00:00:00+00:00\",\"2022-03-02T00:00:00+00:00\",\"2022-03-03T00:00:00+00:00\",\"2022-03-04T00:00:00+00:00\",\"2022-03-07T00:00:00+00:00\",\"2022-03-08T00:00:00+00:00\",\"2022-03-09T00:00:00+00:00\",\"2022-03-10T00:00:00+00:00\",\"2022-03-11T00:00:00+00:00\",\"2022-03-14T00:00:00+00:00\",\"2022-03-15T00:00:00+00:00\",\"2022-03-16T00:00:00+00:00\",\"2022-03-17T00:00:00+00:00\",\"2022-03-18T00:00:00+00:00\",\"2022-03-21T00:00:00+00:00\",\"2022-03-22T00:00:00+00:00\",\"2022-03-23T00:00:00+00:00\",\"2022-03-24T00:00:00+00:00\",\"2022-03-25T00:00:00+00:00\",\"2022-03-28T00:00:00+00:00\",\"2022-03-29T00:00:00+00:00\",\"2022-03-30T00:00:00+00:00\",\"2022-03-31T00:00:00+00:00\",\"2022-04-01T00:00:00+00:00\",\"2022-04-04T00:00:00+00:00\",\"2022-04-05T00:00:00+00:00\",\"2022-04-06T00:00:00+00:00\",\"2022-04-07T00:00:00+00:00\",\"2022-04-08T00:00:00+00:00\",\"2022-04-11T00:00:00+00:00\",\"2022-04-12T00:00:00+00:00\",\"2022-04-13T00:00:00+00:00\",\"2022-04-14T00:00:00+00:00\",\"2022-04-18T00:00:00+00:00\",\"2022-04-19T00:00:00+00:00\",\"2022-04-20T00:00:00+00:00\",\"2022-04-21T00:00:00+00:00\",\"2022-04-22T00:00:00+00:00\",\"2022-04-25T00:00:00+00:00\",\"2022-04-26T00:00:00+00:00\",\"2022-04-27T00:00:00+00:00\",\"2022-04-28T00:00:00+00:00\",\"2022-04-29T00:00:00+00:00\",\"2022-05-02T00:00:00+00:00\",\"2022-05-03T00:00:00+00:00\",\"2022-05-04T00:00:00+00:00\",\"2022-05-05T00:00:00+00:00\",\"2022-05-06T00:00:00+00:00\",\"2022-05-09T00:00:00+00:00\",\"2022-05-10T00:00:00+00:00\",\"2022-05-11T00:00:00+00:00\",\"2022-05-12T00:00:00+00:00\",\"2022-05-13T00:00:00+00:00\",\"2022-05-16T00:00:00+00:00\",\"2022-05-17T00:00:00+00:00\",\"2022-05-18T00:00:00+00:00\",\"2022-05-19T00:00:00+00:00\",\"2022-05-20T00:00:00+00:00\",\"2022-05-23T00:00:00+00:00\",\"2022-05-24T00:00:00+00:00\",\"2022-05-25T00:00:00+00:00\",\"2022-05-26T00:00:00+00:00\",\"2022-05-27T00:00:00+00:00\",\"2022-05-31T00:00:00+00:00\",\"2022-06-01T00:00:00+00:00\",\"2022-06-02T00:00:00+00:00\",\"2022-06-03T00:00:00+00:00\",\"2022-06-06T00:00:00+00:00\",\"2022-06-07T00:00:00+00:00\",\"2022-06-08T00:00:00+00:00\",\"2022-06-09T00:00:00+00:00\",\"2022-06-10T00:00:00+00:00\",\"2022-06-13T00:00:00+00:00\",\"2022-06-14T00:00:00+00:00\",\"2022-06-15T00:00:00+00:00\",\"2022-06-16T00:00:00+00:00\",\"2022-06-17T00:00:00+00:00\",\"2022-06-21T00:00:00+00:00\",\"2022-06-22T00:00:00+00:00\",\"2022-06-23T00:00:00+00:00\",\"2022-06-24T00:00:00+00:00\",\"2022-06-27T00:00:00+00:00\",\"2022-06-28T00:00:00+00:00\",\"2022-06-29T00:00:00+00:00\",\"2022-06-30T00:00:00+00:00\",\"2022-07-01T00:00:00+00:00\",\"2022-07-05T00:00:00+00:00\",\"2022-07-06T00:00:00+00:00\",\"2022-07-07T00:00:00+00:00\",\"2022-07-08T00:00:00+00:00\",\"2022-07-11T00:00:00+00:00\",\"2022-07-12T00:00:00+00:00\",\"2022-07-13T00:00:00+00:00\",\"2022-07-14T00:00:00+00:00\",\"2022-07-15T00:00:00+00:00\",\"2022-07-18T00:00:00+00:00\",\"2022-07-19T00:00:00+00:00\",\"2022-07-20T00:00:00+00:00\",\"2022-07-21T00:00:00+00:00\",\"2022-07-22T00:00:00+00:00\",\"2022-07-25T00:00:00+00:00\",\"2022-07-26T00:00:00+00:00\",\"2022-07-27T00:00:00+00:00\",\"2022-07-28T00:00:00+00:00\",\"2022-07-29T00:00:00+00:00\",\"2022-08-01T00:00:00+00:00\",\"2022-08-02T00:00:00+00:00\",\"2022-08-03T00:00:00+00:00\",\"2022-08-04T00:00:00+00:00\",\"2022-08-05T00:00:00+00:00\",\"2022-08-08T00:00:00+00:00\",\"2022-08-09T00:00:00+00:00\",\"2022-08-10T00:00:00+00:00\",\"2022-08-11T00:00:00+00:00\",\"2022-08-12T00:00:00+00:00\",\"2022-08-15T00:00:00+00:00\",\"2022-08-16T00:00:00+00:00\",\"2022-08-17T00:00:00+00:00\",\"2022-08-18T00:00:00+00:00\",\"2022-08-19T00:00:00+00:00\",\"2022-08-22T00:00:00+00:00\",\"2022-08-23T00:00:00+00:00\",\"2022-08-24T00:00:00+00:00\",\"2022-08-25T00:00:00+00:00\",\"2022-08-26T00:00:00+00:00\",\"2022-08-29T00:00:00+00:00\",\"2022-08-30T00:00:00+00:00\",\"2022-08-31T00:00:00+00:00\",\"2022-09-01T00:00:00+00:00\",\"2022-09-02T00:00:00+00:00\",\"2022-09-06T00:00:00+00:00\",\"2022-09-07T00:00:00+00:00\",\"2022-09-08T00:00:00+00:00\",\"2022-09-09T00:00:00+00:00\",\"2022-09-12T00:00:00+00:00\",\"2022-09-13T00:00:00+00:00\",\"2022-09-14T00:00:00+00:00\",\"2022-09-15T00:00:00+00:00\",\"2022-09-16T00:00:00+00:00\",\"2022-09-19T00:00:00+00:00\",\"2022-09-20T00:00:00+00:00\",\"2022-09-21T00:00:00+00:00\",\"2022-09-22T00:00:00+00:00\",\"2022-09-23T00:00:00+00:00\",\"2022-09-26T00:00:00+00:00\",\"2022-09-27T00:00:00+00:00\",\"2022-09-28T00:00:00+00:00\",\"2022-09-29T00:00:00+00:00\",\"2022-09-30T00:00:00+00:00\",\"2022-10-03T00:00:00+00:00\",\"2022-10-04T00:00:00+00:00\",\"2022-10-05T00:00:00+00:00\",\"2022-10-06T00:00:00+00:00\",\"2022-10-07T00:00:00+00:00\",\"2022-10-10T00:00:00+00:00\",\"2022-10-11T00:00:00+00:00\",\"2022-10-12T00:00:00+00:00\",\"2022-10-13T00:00:00+00:00\",\"2022-10-14T00:00:00+00:00\",\"2022-10-17T00:00:00+00:00\",\"2022-10-18T00:00:00+00:00\",\"2022-10-19T00:00:00+00:00\",\"2022-10-20T00:00:00+00:00\",\"2022-10-21T00:00:00+00:00\",\"2022-10-24T00:00:00+00:00\",\"2022-10-25T00:00:00+00:00\",\"2022-10-26T00:00:00+00:00\",\"2022-10-27T00:00:00+00:00\",\"2022-10-28T00:00:00+00:00\",\"2022-10-31T00:00:00+00:00\",\"2022-11-01T00:00:00+00:00\",\"2022-11-02T00:00:00+00:00\",\"2022-11-03T00:00:00+00:00\",\"2022-11-04T00:00:00+00:00\",\"2022-11-07T00:00:00+00:00\",\"2022-11-08T00:00:00+00:00\",\"2022-11-09T00:00:00+00:00\",\"2022-11-10T00:00:00+00:00\",\"2022-11-11T00:00:00+00:00\",\"2022-11-14T00:00:00+00:00\",\"2022-11-15T00:00:00+00:00\",\"2022-11-16T00:00:00+00:00\",\"2022-11-17T00:00:00+00:00\",\"2022-11-18T00:00:00+00:00\",\"2022-11-21T00:00:00+00:00\",\"2022-11-22T00:00:00+00:00\",\"2022-11-23T00:00:00+00:00\",\"2022-11-25T00:00:00+00:00\",\"2022-11-28T00:00:00+00:00\",\"2022-11-29T00:00:00+00:00\",\"2022-11-30T00:00:00+00:00\",\"2022-12-01T00:00:00+00:00\",\"2022-12-02T00:00:00+00:00\",\"2022-12-05T00:00:00+00:00\",\"2022-12-06T00:00:00+00:00\",\"2022-12-07T00:00:00+00:00\",\"2022-12-08T00:00:00+00:00\",\"2022-12-09T00:00:00+00:00\",\"2022-12-12T00:00:00+00:00\",\"2022-12-13T00:00:00+00:00\",\"2022-12-14T00:00:00+00:00\",\"2022-12-15T00:00:00+00:00\",\"2022-12-16T00:00:00+00:00\",\"2022-12-19T00:00:00+00:00\",\"2022-12-20T00:00:00+00:00\",\"2022-12-21T00:00:00+00:00\",\"2022-12-22T00:00:00+00:00\",\"2022-12-23T00:00:00+00:00\",\"2022-12-27T00:00:00+00:00\",\"2022-12-28T00:00:00+00:00\",\"2022-12-29T00:00:00+00:00\",\"2022-12-30T00:00:00+00:00\",\"2023-01-03T00:00:00+00:00\",\"2023-01-04T00:00:00+00:00\",\"2023-01-05T00:00:00+00:00\",\"2023-01-06T00:00:00+00:00\",\"2023-01-09T00:00:00+00:00\",\"2023-01-10T00:00:00+00:00\",\"2023-01-11T00:00:00+00:00\",\"2023-01-12T00:00:00+00:00\",\"2023-01-13T00:00:00+00:00\",\"2023-01-17T00:00:00+00:00\",\"2023-01-18T00:00:00+00:00\",\"2023-01-19T00:00:00+00:00\",\"2023-01-20T00:00:00+00:00\",\"2023-01-23T00:00:00+00:00\",\"2023-01-24T00:00:00+00:00\",\"2023-01-25T00:00:00+00:00\",\"2023-01-26T00:00:00+00:00\",\"2023-01-27T00:00:00+00:00\",\"2023-01-30T00:00:00+00:00\",\"2023-01-31T00:00:00+00:00\",\"2023-02-01T00:00:00+00:00\",\"2023-02-02T00:00:00+00:00\",\"2023-02-03T00:00:00+00:00\",\"2023-02-06T00:00:00+00:00\",\"2023-02-07T00:00:00+00:00\",\"2023-02-08T00:00:00+00:00\",\"2023-02-09T00:00:00+00:00\",\"2023-02-10T00:00:00+00:00\",\"2023-02-13T00:00:00+00:00\",\"2023-02-14T00:00:00+00:00\",\"2023-02-15T00:00:00+00:00\",\"2023-02-16T00:00:00+00:00\",\"2023-02-17T00:00:00+00:00\",\"2023-02-21T00:00:00+00:00\",\"2023-02-22T00:00:00+00:00\",\"2023-02-23T00:00:00+00:00\",\"2023-02-24T00:00:00+00:00\",\"2023-02-27T00:00:00+00:00\",\"2023-02-28T00:00:00+00:00\",\"2023-03-01T00:00:00+00:00\",\"2023-03-02T00:00:00+00:00\",\"2023-03-03T00:00:00+00:00\",\"2023-03-06T00:00:00+00:00\",\"2023-03-07T00:00:00+00:00\",\"2023-03-08T00:00:00+00:00\",\"2023-03-09T00:00:00+00:00\",\"2023-03-10T00:00:00+00:00\",\"2023-03-13T00:00:00+00:00\",\"2023-03-14T00:00:00+00:00\",\"2023-03-15T00:00:00+00:00\",\"2023-03-16T00:00:00+00:00\",\"2023-03-17T00:00:00+00:00\",\"2023-03-20T00:00:00+00:00\",\"2023-03-21T00:00:00+00:00\",\"2023-03-22T00:00:00+00:00\",\"2023-03-23T00:00:00+00:00\",\"2023-03-24T00:00:00+00:00\",\"2023-03-27T00:00:00+00:00\",\"2023-03-28T00:00:00+00:00\",\"2023-03-29T00:00:00+00:00\",\"2023-03-30T00:00:00+00:00\",\"2023-03-31T00:00:00+00:00\",\"2023-04-03T00:00:00+00:00\",\"2023-04-04T00:00:00+00:00\",\"2023-04-05T00:00:00+00:00\",\"2023-04-06T00:00:00+00:00\",\"2023-04-10T00:00:00+00:00\",\"2023-04-11T00:00:00+00:00\",\"2023-04-12T00:00:00+00:00\",\"2023-04-13T00:00:00+00:00\",\"2023-04-14T00:00:00+00:00\",\"2023-04-17T00:00:00+00:00\",\"2023-04-18T00:00:00+00:00\",\"2023-04-19T00:00:00+00:00\",\"2023-04-20T00:00:00+00:00\",\"2023-04-21T00:00:00+00:00\",\"2023-04-24T00:00:00+00:00\",\"2023-04-25T00:00:00+00:00\",\"2023-04-26T00:00:00+00:00\",\"2023-04-27T00:00:00+00:00\",\"2023-04-28T00:00:00+00:00\",\"2023-05-01T00:00:00+00:00\",\"2023-05-02T00:00:00+00:00\",\"2023-05-03T00:00:00+00:00\",\"2023-05-04T00:00:00+00:00\",\"2023-05-05T00:00:00+00:00\",\"2023-05-08T00:00:00+00:00\",\"2023-05-09T00:00:00+00:00\",\"2023-05-10T00:00:00+00:00\",\"2023-05-11T00:00:00+00:00\",\"2023-05-12T00:00:00+00:00\",\"2023-05-15T00:00:00+00:00\",\"2023-05-16T00:00:00+00:00\",\"2023-05-17T00:00:00+00:00\",\"2023-05-18T00:00:00+00:00\",\"2023-05-19T00:00:00+00:00\",\"2023-05-22T00:00:00+00:00\",\"2023-05-23T00:00:00+00:00\",\"2023-05-24T00:00:00+00:00\",\"2023-05-25T00:00:00+00:00\",\"2023-05-26T00:00:00+00:00\",\"2023-05-30T00:00:00+00:00\",\"2023-05-31T00:00:00+00:00\",\"2023-06-01T00:00:00+00:00\",\"2023-06-02T00:00:00+00:00\",\"2023-06-05T00:00:00+00:00\",\"2023-06-06T00:00:00+00:00\",\"2023-06-07T00:00:00+00:00\",\"2023-06-08T00:00:00+00:00\",\"2023-06-09T00:00:00+00:00\",\"2023-06-12T00:00:00+00:00\",\"2023-06-13T00:00:00+00:00\",\"2023-06-14T00:00:00+00:00\",\"2023-06-15T00:00:00+00:00\",\"2023-06-16T00:00:00+00:00\",\"2023-06-20T00:00:00+00:00\",\"2023-06-21T00:00:00+00:00\",\"2023-06-22T00:00:00+00:00\",\"2023-06-23T00:00:00+00:00\",\"2023-06-26T00:00:00+00:00\",\"2023-06-27T00:00:00+00:00\",\"2023-06-28T00:00:00+00:00\",\"2023-06-29T00:00:00+00:00\",\"2023-06-30T00:00:00+00:00\",\"2023-07-03T00:00:00+00:00\",\"2023-07-05T00:00:00+00:00\",\"2023-07-06T00:00:00+00:00\",\"2023-07-07T00:00:00+00:00\",\"2023-07-10T00:00:00+00:00\",\"2023-07-11T00:00:00+00:00\",\"2023-07-12T00:00:00+00:00\",\"2023-07-13T00:00:00+00:00\",\"2023-07-14T00:00:00+00:00\",\"2023-07-17T00:00:00+00:00\",\"2023-07-18T00:00:00+00:00\",\"2023-07-19T00:00:00+00:00\",\"2023-07-20T00:00:00+00:00\",\"2023-07-21T00:00:00+00:00\",\"2023-07-24T00:00:00+00:00\",\"2023-07-25T00:00:00+00:00\",\"2023-07-26T00:00:00+00:00\",\"2023-07-27T00:00:00+00:00\",\"2023-07-28T00:00:00+00:00\",\"2023-07-31T00:00:00+00:00\",\"2023-08-01T00:00:00+00:00\",\"2023-08-02T00:00:00+00:00\",\"2023-08-03T00:00:00+00:00\",\"2023-08-04T00:00:00+00:00\",\"2023-08-07T00:00:00+00:00\",\"2023-08-08T00:00:00+00:00\",\"2023-08-09T00:00:00+00:00\",\"2023-08-10T00:00:00+00:00\",\"2023-08-11T00:00:00+00:00\",\"2023-08-14T00:00:00+00:00\",\"2023-08-15T00:00:00+00:00\",\"2023-08-16T00:00:00+00:00\",\"2023-08-17T00:00:00+00:00\",\"2023-08-18T00:00:00+00:00\",\"2023-08-21T00:00:00+00:00\",\"2023-08-22T00:00:00+00:00\",\"2023-08-23T00:00:00+00:00\",\"2023-08-24T00:00:00+00:00\",\"2023-08-25T00:00:00+00:00\",\"2023-08-28T00:00:00+00:00\",\"2023-08-29T00:00:00+00:00\",\"2023-08-30T00:00:00+00:00\",\"2023-08-31T00:00:00+00:00\",\"2023-09-01T00:00:00+00:00\",\"2023-09-05T00:00:00+00:00\",\"2023-09-06T00:00:00+00:00\",\"2023-09-07T00:00:00+00:00\",\"2023-09-08T00:00:00+00:00\",\"2023-09-11T00:00:00+00:00\",\"2023-09-12T00:00:00+00:00\",\"2023-09-13T00:00:00+00:00\",\"2023-09-14T00:00:00+00:00\",\"2023-09-15T00:00:00+00:00\",\"2023-09-18T00:00:00+00:00\",\"2023-09-19T00:00:00+00:00\",\"2023-09-20T00:00:00+00:00\",\"2023-09-21T00:00:00+00:00\",\"2023-09-22T00:00:00+00:00\",\"2023-09-25T00:00:00+00:00\",\"2023-09-26T00:00:00+00:00\",\"2023-09-27T00:00:00+00:00\",\"2023-09-28T00:00:00+00:00\",\"2023-09-29T00:00:00+00:00\",\"2023-10-02T00:00:00+00:00\",\"2023-10-03T00:00:00+00:00\",\"2023-10-04T00:00:00+00:00\",\"2023-10-05T00:00:00+00:00\",\"2023-10-06T00:00:00+00:00\",\"2023-10-09T00:00:00+00:00\",\"2023-10-10T00:00:00+00:00\",\"2023-10-11T00:00:00+00:00\",\"2023-10-12T00:00:00+00:00\",\"2023-10-13T00:00:00+00:00\",\"2023-10-16T00:00:00+00:00\",\"2023-10-17T00:00:00+00:00\",\"2023-10-18T00:00:00+00:00\",\"2023-10-19T00:00:00+00:00\",\"2023-10-20T00:00:00+00:00\",\"2023-10-23T00:00:00+00:00\",\"2023-10-24T00:00:00+00:00\",\"2023-10-25T00:00:00+00:00\",\"2023-10-26T00:00:00+00:00\",\"2023-10-27T00:00:00+00:00\",\"2023-10-30T00:00:00+00:00\",\"2023-10-31T00:00:00+00:00\",\"2023-11-01T00:00:00+00:00\",\"2023-11-02T00:00:00+00:00\",\"2023-11-03T00:00:00+00:00\",\"2023-11-06T00:00:00+00:00\",\"2023-11-07T00:00:00+00:00\",\"2023-11-08T00:00:00+00:00\",\"2023-11-09T00:00:00+00:00\",\"2023-11-10T00:00:00+00:00\",\"2023-11-13T00:00:00+00:00\",\"2023-11-14T00:00:00+00:00\",\"2023-11-15T00:00:00+00:00\",\"2023-11-16T00:00:00+00:00\",\"2023-11-17T00:00:00+00:00\",\"2023-11-20T00:00:00+00:00\",\"2023-11-21T00:00:00+00:00\",\"2023-11-22T00:00:00+00:00\",\"2023-11-24T00:00:00+00:00\",\"2023-11-27T00:00:00+00:00\",\"2023-11-28T00:00:00+00:00\",\"2023-11-29T00:00:00+00:00\",\"2023-11-30T00:00:00+00:00\",\"2023-12-01T00:00:00+00:00\",\"2023-12-04T00:00:00+00:00\",\"2023-12-05T00:00:00+00:00\",\"2023-12-06T00:00:00+00:00\",\"2023-12-07T00:00:00+00:00\",\"2023-12-08T00:00:00+00:00\",\"2023-12-11T00:00:00+00:00\",\"2023-12-12T00:00:00+00:00\",\"2023-12-13T00:00:00+00:00\",\"2023-12-14T00:00:00+00:00\",\"2023-12-15T00:00:00+00:00\",\"2023-12-18T00:00:00+00:00\",\"2023-12-19T00:00:00+00:00\",\"2023-12-20T00:00:00+00:00\",\"2023-12-21T00:00:00+00:00\",\"2023-12-22T00:00:00+00:00\",\"2023-12-26T00:00:00+00:00\",\"2023-12-27T00:00:00+00:00\",\"2023-12-28T00:00:00+00:00\",\"2023-12-29T00:00:00+00:00\"],\"xaxis\":\"x\",\"y\":[217.690002,217.899994,212.25,218.289993,219.619995,217.490005,214.929993,216.339996,213.020004,212.649994,216.440002,224.339996,224.970001,225.949997,229.529999,232.330002,232.899994,238.929993,231.960007,239.649994,239.509995,243.0,242.009995,242.199997,242.470001,243.770004,242.820007,244.490005,244.990005,243.699997,244.199997,243.789993,240.970001,234.509995,233.270004,234.550003,228.990005,232.380005,236.940002,233.869995,227.559998,226.729996,231.600006,227.389999,233.779999,232.419998,237.130005,235.75,234.809998,237.710007,237.039993,230.720001,230.350006,235.990005,237.580002,235.460007,232.339996,236.479996,235.240005,231.850006,235.770004,242.350006,249.070007,247.860001,249.899994,253.25,255.850006,255.910004,258.48999,255.589996,259.5,260.73999,258.73999,258.26001,260.579987,257.170013,261.149994,261.549988,261.970001,254.559998,252.509995,252.179993,251.860001,247.789993,246.470001,249.729996,252.460007,247.179993,246.229996,239.0,243.029999,248.149994,245.179993,243.080002,243.119995,246.479996,245.169998,250.779999,251.720001,251.490005,249.309998,249.679993,247.399994,247.300003,245.710007,250.789993,253.809998,252.570007,253.589996,257.23999,257.890015,259.890015,258.359985,257.380005,260.899994,259.429993,262.630005,265.51001,265.269989,266.690002,265.019989,268.720001,271.399994,270.899994,271.600006,277.649994,277.660004,279.929993,277.420013,277.940002,277.320007,280.980011,282.51001,281.029999,280.75,277.01001,279.320007,281.399994,286.140015,289.670013,289.049988,286.540009,286.220001,286.5,284.910004,284.820007,287.119995,286.51001,289.519989,289.459991,288.329987,286.440002,286.950012,289.809998,292.850006,294.600006,293.079987,290.730011,296.769989,304.359985,304.649994,302.619995,302.01001,299.089996,299.720001,303.589996,301.880005,301.829987,301.149994,301.140015,300.179993,300.209991,297.25,295.709991,296.98999,299.790009,304.820007,305.220001,299.869995,294.299988,294.799988,298.579987,299.559998,299.350006,294.170013,283.519989,284.0,281.920013,289.100006,283.109985,288.76001,293.109985,294.850006,294.850006,294.230011,292.880005,296.309998,302.75,304.209991,307.290009,308.230011,307.410004,310.76001,309.160004,308.130005,310.109985,323.170013,324.350006,331.619995,329.369995,333.130005,334.0,336.440002,336.059998,336.98999,335.950012,330.799988,332.429993,336.720001,336.070007,339.51001,339.119995,341.269989,343.109985,339.829987,337.679993,337.910004,329.679993,336.630005,330.589996,330.079987,329.48999,323.01001,326.190002,334.920013,334.970001,333.100006,342.540009,339.399994,328.339996,334.649994,324.899994,323.799988,319.910004,327.290009,333.200012,334.690002,342.450012,341.25,341.950012,339.320007,336.320007,334.75,329.01001,316.380005,313.880005,314.040009,314.269989,314.980011,318.269989,304.799988,310.200012,302.649994,303.329987,301.600006,296.029999,296.369995,288.48999,296.709991,299.839996,308.26001,310.980011,308.76001,313.459991,301.25,305.940002,300.950012,304.559998,311.209991,302.380005,295.040009,295.0,300.470001,299.5,290.730011,287.929993,287.720001,280.269989,294.589996,297.309998,298.790009,294.950012,300.190002,295.920013,289.859985,278.910004,275.850006,288.5,285.589996,280.070007,276.440002,287.149994,294.390015,295.220001,300.429993,299.160004,304.059998,299.48999,304.100006,303.679993,310.700012,315.410004,313.859985,308.309998,309.420013,314.970001,310.880005,299.5,301.369995,296.970001,285.26001,282.059998,287.619995,279.829987,280.519989,285.299988,286.359985,280.809998,274.029999,280.720001,270.220001,283.220001,289.630005,277.519989,284.470001,281.779999,289.980011,277.350006,274.730011,264.579987,269.5,260.549988,255.350006,261.119995,261.5,266.820007,254.080002,253.139999,252.559998,260.649994,259.619995,262.519989,265.899994,273.23999,271.869995,272.420013,274.579987,270.019989,268.75,272.5,270.410004,264.790009,252.990005,242.259995,244.490005,251.759995,244.970001,247.649994,253.740005,253.130005,258.859985,267.700012,264.890015,256.480011,260.26001,256.829987,259.579987,262.850006,266.209991,268.399994,267.660004,264.51001,253.669998,252.720001,254.080002,256.720001,254.25,259.529999,262.269989,264.839996,260.359985,258.829987,251.899994,268.73999,276.410004,280.73999,278.01001,274.820007,282.470001,283.649994,282.910004,280.320007,282.299988,289.160004,287.019989,291.910004,293.470001,292.709991,291.320007,290.170013,286.149994,277.75,276.440002,275.790009,278.850006,268.089996,265.230011,262.970001,261.470001,260.399994,256.059998,253.25,258.089996,258.519989,264.459991,266.649994,251.990005,252.220001,245.380005,244.740005,244.520004,242.449997,238.949997,240.979996,237.919998,237.449997,236.410004,241.070007,237.5,232.899994,240.740005,248.880005,249.199997,246.789993,234.240005,229.25,225.410004,225.75,234.240005,228.559998,237.529999,238.5,236.479996,236.149994,242.119995,247.25,250.660004,231.320007,226.75,235.869995,232.130005,228.169998,220.100006,214.25,221.389999,227.869995,228.869995,224.509995,242.979996,247.110001,241.550003,241.970001,241.729996,241.679993,241.220001,242.050003,245.029999,247.580002,247.490005,241.759995,240.330002,255.139999,254.690002,255.020004,250.199997,245.119995,244.369995,247.399994,245.419998,252.509995,256.920013,257.220001,249.009995,244.690002,240.449997,241.800003,244.429993,238.190002,238.729996,236.960007,234.529999,241.009995,239.820007,239.580002,229.100006,222.309998,224.929993,227.119995,228.850006,235.770004,238.509995,239.229996,240.350006,235.809998,231.929993,240.220001,242.580002,242.039993,240.610001,248.0,248.160004,242.710007,247.809998,252.75,264.600006,258.350006,256.769989,267.559998,266.730011,263.619995,263.100006,271.320007,272.170013,269.320007,262.149994,258.059998,252.669998,251.509995,254.770004,249.220001,250.160004,249.419998,246.270004,251.110001,255.289993,256.869995,254.149994,253.699997,252.320007,248.589996,253.919998,260.790009,265.440002,276.200012,279.429993,272.230011,273.779999,272.290009,277.660004,280.570007,276.380005,275.230011,280.51001,284.049988,288.299988,287.230011,287.179993,284.339996,291.600006,289.390015,282.829987,283.48999,289.839996,286.140015,288.799988,288.369995,288.450012,286.109985,285.76001,281.769989,275.420013,295.369995,304.829987,307.26001,305.559998,305.410004,304.399994,305.410004,310.649994,308.649994,307.0,312.309998,310.109985,308.970001,309.459991,311.73999,314.0,318.519989,318.339996,321.179993,315.26001,313.850006,325.920013,332.890015,331.209991,328.390015,332.579987,335.399994,335.940002,333.679993,323.380005,325.26001,326.790009,331.850006,334.290009,337.339996,348.100006,342.329987,338.049988,333.559998,339.709991,335.019989,328.600006,334.570007,335.850006,335.049988,340.540009,337.98999,338.149994,341.269989,337.220001,331.829987,332.470001,337.200012,342.660004,345.23999,345.730011,359.48999,355.079987,346.869995,343.769989,345.109985,350.980011,337.769989,330.720001,338.369995,335.920013,336.339996,327.5,326.660004,327.779999,330.109985,326.049988,322.230011,322.929993,321.01001,324.040009,321.859985,320.399994,316.880005,316.480011,321.880005,322.459991,327.0,319.970001,322.980011,323.700012,328.410004,328.790009,327.76001,328.660004,333.549988,332.880005,329.910004,334.269989,337.940002,331.769989,336.059998,338.700012,330.220001,329.059998,328.649994,320.769989,319.529999,317.01001,317.540009,312.140015,312.790009,313.640015,315.75,321.799988,313.390015,318.959991,319.359985,327.26001,329.820007,328.390015,332.420013,331.160004,327.730011,332.640015,332.059998,330.109985,331.320007,326.670013,329.320007,330.529999,340.670013,327.890015,329.809998,337.309998,338.109985,346.070007,348.320007,352.799988,356.529999,360.529999,363.200012,360.690002,369.670013,366.679993,370.269989,369.670013,376.170013,369.850006,377.440002,373.070007,377.850006,377.429993,378.609985,382.700012,378.850006,378.910004,374.51001,369.140015,372.519989,368.799988,370.950012,374.230011,371.299988,374.380005,374.369995,365.929993,370.730011,372.649994,373.26001,370.619995,373.540009,374.579987,374.660004,374.070007,375.279999,376.040009],\"yaxis\":\"y\",\"type\":\"scattergl\"},{\"hovertemplate\":\"variable=High\\u003cbr\\u003eDate=%{x}\\u003cbr\\u003eStock value=%{y}\\u003cextra\\u003e\\u003c\\u002fextra\\u003e\",\"legendgroup\":\"High\",\"line\":{\"color\":\"#00cc96\",\"dash\":\"solid\"},\"marker\":{\"symbol\":\"circle\"},\"mode\":\"lines\",\"name\":\"Stock High Price\",\"showlegend\":true,\"x\":[\"2021-01-04T00:00:00+00:00\",\"2021-01-05T00:00:00+00:00\",\"2021-01-06T00:00:00+00:00\",\"2021-01-07T00:00:00+00:00\",\"2021-01-08T00:00:00+00:00\",\"2021-01-11T00:00:00+00:00\",\"2021-01-12T00:00:00+00:00\",\"2021-01-13T00:00:00+00:00\",\"2021-01-14T00:00:00+00:00\",\"2021-01-15T00:00:00+00:00\",\"2021-01-19T00:00:00+00:00\",\"2021-01-20T00:00:00+00:00\",\"2021-01-21T00:00:00+00:00\",\"2021-01-22T00:00:00+00:00\",\"2021-01-25T00:00:00+00:00\",\"2021-01-26T00:00:00+00:00\",\"2021-01-27T00:00:00+00:00\",\"2021-01-28T00:00:00+00:00\",\"2021-01-29T00:00:00+00:00\",\"2021-02-01T00:00:00+00:00\",\"2021-02-02T00:00:00+00:00\",\"2021-02-03T00:00:00+00:00\",\"2021-02-04T00:00:00+00:00\",\"2021-02-05T00:00:00+00:00\",\"2021-02-08T00:00:00+00:00\",\"2021-02-09T00:00:00+00:00\",\"2021-02-10T00:00:00+00:00\",\"2021-02-11T00:00:00+00:00\",\"2021-02-12T00:00:00+00:00\",\"2021-02-16T00:00:00+00:00\",\"2021-02-17T00:00:00+00:00\",\"2021-02-18T00:00:00+00:00\",\"2021-02-19T00:00:00+00:00\",\"2021-02-22T00:00:00+00:00\",\"2021-02-23T00:00:00+00:00\",\"2021-02-24T00:00:00+00:00\",\"2021-02-25T00:00:00+00:00\",\"2021-02-26T00:00:00+00:00\",\"2021-03-01T00:00:00+00:00\",\"2021-03-02T00:00:00+00:00\",\"2021-03-03T00:00:00+00:00\",\"2021-03-04T00:00:00+00:00\",\"2021-03-05T00:00:00+00:00\",\"2021-03-08T00:00:00+00:00\",\"2021-03-09T00:00:00+00:00\",\"2021-03-10T00:00:00+00:00\",\"2021-03-11T00:00:00+00:00\",\"2021-03-12T00:00:00+00:00\",\"2021-03-15T00:00:00+00:00\",\"2021-03-16T00:00:00+00:00\",\"2021-03-17T00:00:00+00:00\",\"2021-03-18T00:00:00+00:00\",\"2021-03-19T00:00:00+00:00\",\"2021-03-22T00:00:00+00:00\",\"2021-03-23T00:00:00+00:00\",\"2021-03-24T00:00:00+00:00\",\"2021-03-25T00:00:00+00:00\",\"2021-03-26T00:00:00+00:00\",\"2021-03-29T00:00:00+00:00\",\"2021-03-30T00:00:00+00:00\",\"2021-03-31T00:00:00+00:00\",\"2021-04-01T00:00:00+00:00\",\"2021-04-05T00:00:00+00:00\",\"2021-04-06T00:00:00+00:00\",\"2021-04-07T00:00:00+00:00\",\"2021-04-08T00:00:00+00:00\",\"2021-04-09T00:00:00+00:00\",\"2021-04-12T00:00:00+00:00\",\"2021-04-13T00:00:00+00:00\",\"2021-04-14T00:00:00+00:00\",\"2021-04-15T00:00:00+00:00\",\"2021-04-16T00:00:00+00:00\",\"2021-04-19T00:00:00+00:00\",\"2021-04-20T00:00:00+00:00\",\"2021-04-21T00:00:00+00:00\",\"2021-04-22T00:00:00+00:00\",\"2021-04-23T00:00:00+00:00\",\"2021-04-26T00:00:00+00:00\",\"2021-04-27T00:00:00+00:00\",\"2021-04-28T00:00:00+00:00\",\"2021-04-29T00:00:00+00:00\",\"2021-04-30T00:00:00+00:00\",\"2021-05-03T00:00:00+00:00\",\"2021-05-04T00:00:00+00:00\",\"2021-05-05T00:00:00+00:00\",\"2021-05-06T00:00:00+00:00\",\"2021-05-07T00:00:00+00:00\",\"2021-05-10T00:00:00+00:00\",\"2021-05-11T00:00:00+00:00\",\"2021-05-12T00:00:00+00:00\",\"2021-05-13T00:00:00+00:00\",\"2021-05-14T00:00:00+00:00\",\"2021-05-17T00:00:00+00:00\",\"2021-05-18T00:00:00+00:00\",\"2021-05-19T00:00:00+00:00\",\"2021-05-20T00:00:00+00:00\",\"2021-05-21T00:00:00+00:00\",\"2021-05-24T00:00:00+00:00\",\"2021-05-25T00:00:00+00:00\",\"2021-05-26T00:00:00+00:00\",\"2021-05-27T00:00:00+00:00\",\"2021-05-28T00:00:00+00:00\",\"2021-06-01T00:00:00+00:00\",\"2021-06-02T00:00:00+00:00\",\"2021-06-03T00:00:00+00:00\",\"2021-06-04T00:00:00+00:00\",\"2021-06-07T00:00:00+00:00\",\"2021-06-08T00:00:00+00:00\",\"2021-06-09T00:00:00+00:00\",\"2021-06-10T00:00:00+00:00\",\"2021-06-11T00:00:00+00:00\",\"2021-06-14T00:00:00+00:00\",\"2021-06-15T00:00:00+00:00\",\"2021-06-16T00:00:00+00:00\",\"2021-06-17T00:00:00+00:00\",\"2021-06-18T00:00:00+00:00\",\"2021-06-21T00:00:00+00:00\",\"2021-06-22T00:00:00+00:00\",\"2021-06-23T00:00:00+00:00\",\"2021-06-24T00:00:00+00:00\",\"2021-06-25T00:00:00+00:00\",\"2021-06-28T00:00:00+00:00\",\"2021-06-29T00:00:00+00:00\",\"2021-06-30T00:00:00+00:00\",\"2021-07-01T00:00:00+00:00\",\"2021-07-02T00:00:00+00:00\",\"2021-07-06T00:00:00+00:00\",\"2021-07-07T00:00:00+00:00\",\"2021-07-08T00:00:00+00:00\",\"2021-07-09T00:00:00+00:00\",\"2021-07-12T00:00:00+00:00\",\"2021-07-13T00:00:00+00:00\",\"2021-07-14T00:00:00+00:00\",\"2021-07-15T00:00:00+00:00\",\"2021-07-16T00:00:00+00:00\",\"2021-07-19T00:00:00+00:00\",\"2021-07-20T00:00:00+00:00\",\"2021-07-21T00:00:00+00:00\",\"2021-07-22T00:00:00+00:00\",\"2021-07-23T00:00:00+00:00\",\"2021-07-26T00:00:00+00:00\",\"2021-07-27T00:00:00+00:00\",\"2021-07-28T00:00:00+00:00\",\"2021-07-29T00:00:00+00:00\",\"2021-07-30T00:00:00+00:00\",\"2021-08-02T00:00:00+00:00\",\"2021-08-03T00:00:00+00:00\",\"2021-08-04T00:00:00+00:00\",\"2021-08-05T00:00:00+00:00\",\"2021-08-06T00:00:00+00:00\",\"2021-08-09T00:00:00+00:00\",\"2021-08-10T00:00:00+00:00\",\"2021-08-11T00:00:00+00:00\",\"2021-08-12T00:00:00+00:00\",\"2021-08-13T00:00:00+00:00\",\"2021-08-16T00:00:00+00:00\",\"2021-08-17T00:00:00+00:00\",\"2021-08-18T00:00:00+00:00\",\"2021-08-19T00:00:00+00:00\",\"2021-08-20T00:00:00+00:00\",\"2021-08-23T00:00:00+00:00\",\"2021-08-24T00:00:00+00:00\",\"2021-08-25T00:00:00+00:00\",\"2021-08-26T00:00:00+00:00\",\"2021-08-27T00:00:00+00:00\",\"2021-08-30T00:00:00+00:00\",\"2021-08-31T00:00:00+00:00\",\"2021-09-01T00:00:00+00:00\",\"2021-09-02T00:00:00+00:00\",\"2021-09-03T00:00:00+00:00\",\"2021-09-07T00:00:00+00:00\",\"2021-09-08T00:00:00+00:00\",\"2021-09-09T00:00:00+00:00\",\"2021-09-10T00:00:00+00:00\",\"2021-09-13T00:00:00+00:00\",\"2021-09-14T00:00:00+00:00\",\"2021-09-15T00:00:00+00:00\",\"2021-09-16T00:00:00+00:00\",\"2021-09-17T00:00:00+00:00\",\"2021-09-20T00:00:00+00:00\",\"2021-09-21T00:00:00+00:00\",\"2021-09-22T00:00:00+00:00\",\"2021-09-23T00:00:00+00:00\",\"2021-09-24T00:00:00+00:00\",\"2021-09-27T00:00:00+00:00\",\"2021-09-28T00:00:00+00:00\",\"2021-09-29T00:00:00+00:00\",\"2021-09-30T00:00:00+00:00\",\"2021-10-01T00:00:00+00:00\",\"2021-10-04T00:00:00+00:00\",\"2021-10-05T00:00:00+00:00\",\"2021-10-06T00:00:00+00:00\",\"2021-10-07T00:00:00+00:00\",\"2021-10-08T00:00:00+00:00\",\"2021-10-11T00:00:00+00:00\",\"2021-10-12T00:00:00+00:00\",\"2021-10-13T00:00:00+00:00\",\"2021-10-14T00:00:00+00:00\",\"2021-10-15T00:00:00+00:00\",\"2021-10-18T00:00:00+00:00\",\"2021-10-19T00:00:00+00:00\",\"2021-10-20T00:00:00+00:00\",\"2021-10-21T00:00:00+00:00\",\"2021-10-22T00:00:00+00:00\",\"2021-10-25T00:00:00+00:00\",\"2021-10-26T00:00:00+00:00\",\"2021-10-27T00:00:00+00:00\",\"2021-10-28T00:00:00+00:00\",\"2021-10-29T00:00:00+00:00\",\"2021-11-01T00:00:00+00:00\",\"2021-11-02T00:00:00+00:00\",\"2021-11-03T00:00:00+00:00\",\"2021-11-04T00:00:00+00:00\",\"2021-11-05T00:00:00+00:00\",\"2021-11-08T00:00:00+00:00\",\"2021-11-09T00:00:00+00:00\",\"2021-11-10T00:00:00+00:00\",\"2021-11-11T00:00:00+00:00\",\"2021-11-12T00:00:00+00:00\",\"2021-11-15T00:00:00+00:00\",\"2021-11-16T00:00:00+00:00\",\"2021-11-17T00:00:00+00:00\",\"2021-11-18T00:00:00+00:00\",\"2021-11-19T00:00:00+00:00\",\"2021-11-22T00:00:00+00:00\",\"2021-11-23T00:00:00+00:00\",\"2021-11-24T00:00:00+00:00\",\"2021-11-26T00:00:00+00:00\",\"2021-11-29T00:00:00+00:00\",\"2021-11-30T00:00:00+00:00\",\"2021-12-01T00:00:00+00:00\",\"2021-12-02T00:00:00+00:00\",\"2021-12-03T00:00:00+00:00\",\"2021-12-06T00:00:00+00:00\",\"2021-12-07T00:00:00+00:00\",\"2021-12-08T00:00:00+00:00\",\"2021-12-09T00:00:00+00:00\",\"2021-12-10T00:00:00+00:00\",\"2021-12-13T00:00:00+00:00\",\"2021-12-14T00:00:00+00:00\",\"2021-12-15T00:00:00+00:00\",\"2021-12-16T00:00:00+00:00\",\"2021-12-17T00:00:00+00:00\",\"2021-12-20T00:00:00+00:00\",\"2021-12-21T00:00:00+00:00\",\"2021-12-22T00:00:00+00:00\",\"2021-12-23T00:00:00+00:00\",\"2021-12-27T00:00:00+00:00\",\"2021-12-28T00:00:00+00:00\",\"2021-12-29T00:00:00+00:00\",\"2021-12-30T00:00:00+00:00\",\"2021-12-31T00:00:00+00:00\",\"2022-01-03T00:00:00+00:00\",\"2022-01-04T00:00:00+00:00\",\"2022-01-05T00:00:00+00:00\",\"2022-01-06T00:00:00+00:00\",\"2022-01-07T00:00:00+00:00\",\"2022-01-10T00:00:00+00:00\",\"2022-01-11T00:00:00+00:00\",\"2022-01-12T00:00:00+00:00\",\"2022-01-13T00:00:00+00:00\",\"2022-01-14T00:00:00+00:00\",\"2022-01-18T00:00:00+00:00\",\"2022-01-19T00:00:00+00:00\",\"2022-01-20T00:00:00+00:00\",\"2022-01-21T00:00:00+00:00\",\"2022-01-24T00:00:00+00:00\",\"2022-01-25T00:00:00+00:00\",\"2022-01-26T00:00:00+00:00\",\"2022-01-27T00:00:00+00:00\",\"2022-01-28T00:00:00+00:00\",\"2022-01-31T00:00:00+00:00\",\"2022-02-01T00:00:00+00:00\",\"2022-02-02T00:00:00+00:00\",\"2022-02-03T00:00:00+00:00\",\"2022-02-04T00:00:00+00:00\",\"2022-02-07T00:00:00+00:00\",\"2022-02-08T00:00:00+00:00\",\"2022-02-09T00:00:00+00:00\",\"2022-02-10T00:00:00+00:00\",\"2022-02-11T00:00:00+00:00\",\"2022-02-14T00:00:00+00:00\",\"2022-02-15T00:00:00+00:00\",\"2022-02-16T00:00:00+00:00\",\"2022-02-17T00:00:00+00:00\",\"2022-02-18T00:00:00+00:00\",\"2022-02-22T00:00:00+00:00\",\"2022-02-23T00:00:00+00:00\",\"2022-02-24T00:00:00+00:00\",\"2022-02-25T00:00:00+00:00\",\"2022-02-28T00:00:00+00:00\",\"2022-03-01T00:00:00+00:00\",\"2022-03-02T00:00:00+00:00\",\"2022-03-03T00:00:00+00:00\",\"2022-03-04T00:00:00+00:00\",\"2022-03-07T00:00:00+00:00\",\"2022-03-08T00:00:00+00:00\",\"2022-03-09T00:00:00+00:00\",\"2022-03-10T00:00:00+00:00\",\"2022-03-11T00:00:00+00:00\",\"2022-03-14T00:00:00+00:00\",\"2022-03-15T00:00:00+00:00\",\"2022-03-16T00:00:00+00:00\",\"2022-03-17T00:00:00+00:00\",\"2022-03-18T00:00:00+00:00\",\"2022-03-21T00:00:00+00:00\",\"2022-03-22T00:00:00+00:00\",\"2022-03-23T00:00:00+00:00\",\"2022-03-24T00:00:00+00:00\",\"2022-03-25T00:00:00+00:00\",\"2022-03-28T00:00:00+00:00\",\"2022-03-29T00:00:00+00:00\",\"2022-03-30T00:00:00+00:00\",\"2022-03-31T00:00:00+00:00\",\"2022-04-01T00:00:00+00:00\",\"2022-04-04T00:00:00+00:00\",\"2022-04-05T00:00:00+00:00\",\"2022-04-06T00:00:00+00:00\",\"2022-04-07T00:00:00+00:00\",\"2022-04-08T00:00:00+00:00\",\"2022-04-11T00:00:00+00:00\",\"2022-04-12T00:00:00+00:00\",\"2022-04-13T00:00:00+00:00\",\"2022-04-14T00:00:00+00:00\",\"2022-04-18T00:00:00+00:00\",\"2022-04-19T00:00:00+00:00\",\"2022-04-20T00:00:00+00:00\",\"2022-04-21T00:00:00+00:00\",\"2022-04-22T00:00:00+00:00\",\"2022-04-25T00:00:00+00:00\",\"2022-04-26T00:00:00+00:00\",\"2022-04-27T00:00:00+00:00\",\"2022-04-28T00:00:00+00:00\",\"2022-04-29T00:00:00+00:00\",\"2022-05-02T00:00:00+00:00\",\"2022-05-03T00:00:00+00:00\",\"2022-05-04T00:00:00+00:00\",\"2022-05-05T00:00:00+00:00\",\"2022-05-06T00:00:00+00:00\",\"2022-05-09T00:00:00+00:00\",\"2022-05-10T00:00:00+00:00\",\"2022-05-11T00:00:00+00:00\",\"2022-05-12T00:00:00+00:00\",\"2022-05-13T00:00:00+00:00\",\"2022-05-16T00:00:00+00:00\",\"2022-05-17T00:00:00+00:00\",\"2022-05-18T00:00:00+00:00\",\"2022-05-19T00:00:00+00:00\",\"2022-05-20T00:00:00+00:00\",\"2022-05-23T00:00:00+00:00\",\"2022-05-24T00:00:00+00:00\",\"2022-05-25T00:00:00+00:00\",\"2022-05-26T00:00:00+00:00\",\"2022-05-27T00:00:00+00:00\",\"2022-05-31T00:00:00+00:00\",\"2022-06-01T00:00:00+00:00\",\"2022-06-02T00:00:00+00:00\",\"2022-06-03T00:00:00+00:00\",\"2022-06-06T00:00:00+00:00\",\"2022-06-07T00:00:00+00:00\",\"2022-06-08T00:00:00+00:00\",\"2022-06-09T00:00:00+00:00\",\"2022-06-10T00:00:00+00:00\",\"2022-06-13T00:00:00+00:00\",\"2022-06-14T00:00:00+00:00\",\"2022-06-15T00:00:00+00:00\",\"2022-06-16T00:00:00+00:00\",\"2022-06-17T00:00:00+00:00\",\"2022-06-21T00:00:00+00:00\",\"2022-06-22T00:00:00+00:00\",\"2022-06-23T00:00:00+00:00\",\"2022-06-24T00:00:00+00:00\",\"2022-06-27T00:00:00+00:00\",\"2022-06-28T00:00:00+00:00\",\"2022-06-29T00:00:00+00:00\",\"2022-06-30T00:00:00+00:00\",\"2022-07-01T00:00:00+00:00\",\"2022-07-05T00:00:00+00:00\",\"2022-07-06T00:00:00+00:00\",\"2022-07-07T00:00:00+00:00\",\"2022-07-08T00:00:00+00:00\",\"2022-07-11T00:00:00+00:00\",\"2022-07-12T00:00:00+00:00\",\"2022-07-13T00:00:00+00:00\",\"2022-07-14T00:00:00+00:00\",\"2022-07-15T00:00:00+00:00\",\"2022-07-18T00:00:00+00:00\",\"2022-07-19T00:00:00+00:00\",\"2022-07-20T00:00:00+00:00\",\"2022-07-21T00:00:00+00:00\",\"2022-07-22T00:00:00+00:00\",\"2022-07-25T00:00:00+00:00\",\"2022-07-26T00:00:00+00:00\",\"2022-07-27T00:00:00+00:00\",\"2022-07-28T00:00:00+00:00\",\"2022-07-29T00:00:00+00:00\",\"2022-08-01T00:00:00+00:00\",\"2022-08-02T00:00:00+00:00\",\"2022-08-03T00:00:00+00:00\",\"2022-08-04T00:00:00+00:00\",\"2022-08-05T00:00:00+00:00\",\"2022-08-08T00:00:00+00:00\",\"2022-08-09T00:00:00+00:00\",\"2022-08-10T00:00:00+00:00\",\"2022-08-11T00:00:00+00:00\",\"2022-08-12T00:00:00+00:00\",\"2022-08-15T00:00:00+00:00\",\"2022-08-16T00:00:00+00:00\",\"2022-08-17T00:00:00+00:00\",\"2022-08-18T00:00:00+00:00\",\"2022-08-19T00:00:00+00:00\",\"2022-08-22T00:00:00+00:00\",\"2022-08-23T00:00:00+00:00\",\"2022-08-24T00:00:00+00:00\",\"2022-08-25T00:00:00+00:00\",\"2022-08-26T00:00:00+00:00\",\"2022-08-29T00:00:00+00:00\",\"2022-08-30T00:00:00+00:00\",\"2022-08-31T00:00:00+00:00\",\"2022-09-01T00:00:00+00:00\",\"2022-09-02T00:00:00+00:00\",\"2022-09-06T00:00:00+00:00\",\"2022-09-07T00:00:00+00:00\",\"2022-09-08T00:00:00+00:00\",\"2022-09-09T00:00:00+00:00\",\"2022-09-12T00:00:00+00:00\",\"2022-09-13T00:00:00+00:00\",\"2022-09-14T00:00:00+00:00\",\"2022-09-15T00:00:00+00:00\",\"2022-09-16T00:00:00+00:00\",\"2022-09-19T00:00:00+00:00\",\"2022-09-20T00:00:00+00:00\",\"2022-09-21T00:00:00+00:00\",\"2022-09-22T00:00:00+00:00\",\"2022-09-23T00:00:00+00:00\",\"2022-09-26T00:00:00+00:00\",\"2022-09-27T00:00:00+00:00\",\"2022-09-28T00:00:00+00:00\",\"2022-09-29T00:00:00+00:00\",\"2022-09-30T00:00:00+00:00\",\"2022-10-03T00:00:00+00:00\",\"2022-10-04T00:00:00+00:00\",\"2022-10-05T00:00:00+00:00\",\"2022-10-06T00:00:00+00:00\",\"2022-10-07T00:00:00+00:00\",\"2022-10-10T00:00:00+00:00\",\"2022-10-11T00:00:00+00:00\",\"2022-10-12T00:00:00+00:00\",\"2022-10-13T00:00:00+00:00\",\"2022-10-14T00:00:00+00:00\",\"2022-10-17T00:00:00+00:00\",\"2022-10-18T00:00:00+00:00\",\"2022-10-19T00:00:00+00:00\",\"2022-10-20T00:00:00+00:00\",\"2022-10-21T00:00:00+00:00\",\"2022-10-24T00:00:00+00:00\",\"2022-10-25T00:00:00+00:00\",\"2022-10-26T00:00:00+00:00\",\"2022-10-27T00:00:00+00:00\",\"2022-10-28T00:00:00+00:00\",\"2022-10-31T00:00:00+00:00\",\"2022-11-01T00:00:00+00:00\",\"2022-11-02T00:00:00+00:00\",\"2022-11-03T00:00:00+00:00\",\"2022-11-04T00:00:00+00:00\",\"2022-11-07T00:00:00+00:00\",\"2022-11-08T00:00:00+00:00\",\"2022-11-09T00:00:00+00:00\",\"2022-11-10T00:00:00+00:00\",\"2022-11-11T00:00:00+00:00\",\"2022-11-14T00:00:00+00:00\",\"2022-11-15T00:00:00+00:00\",\"2022-11-16T00:00:00+00:00\",\"2022-11-17T00:00:00+00:00\",\"2022-11-18T00:00:00+00:00\",\"2022-11-21T00:00:00+00:00\",\"2022-11-22T00:00:00+00:00\",\"2022-11-23T00:00:00+00:00\",\"2022-11-25T00:00:00+00:00\",\"2022-11-28T00:00:00+00:00\",\"2022-11-29T00:00:00+00:00\",\"2022-11-30T00:00:00+00:00\",\"2022-12-01T00:00:00+00:00\",\"2022-12-02T00:00:00+00:00\",\"2022-12-05T00:00:00+00:00\",\"2022-12-06T00:00:00+00:00\",\"2022-12-07T00:00:00+00:00\",\"2022-12-08T00:00:00+00:00\",\"2022-12-09T00:00:00+00:00\",\"2022-12-12T00:00:00+00:00\",\"2022-12-13T00:00:00+00:00\",\"2022-12-14T00:00:00+00:00\",\"2022-12-15T00:00:00+00:00\",\"2022-12-16T00:00:00+00:00\",\"2022-12-19T00:00:00+00:00\",\"2022-12-20T00:00:00+00:00\",\"2022-12-21T00:00:00+00:00\",\"2022-12-22T00:00:00+00:00\",\"2022-12-23T00:00:00+00:00\",\"2022-12-27T00:00:00+00:00\",\"2022-12-28T00:00:00+00:00\",\"2022-12-29T00:00:00+00:00\",\"2022-12-30T00:00:00+00:00\",\"2023-01-03T00:00:00+00:00\",\"2023-01-04T00:00:00+00:00\",\"2023-01-05T00:00:00+00:00\",\"2023-01-06T00:00:00+00:00\",\"2023-01-09T00:00:00+00:00\",\"2023-01-10T00:00:00+00:00\",\"2023-01-11T00:00:00+00:00\",\"2023-01-12T00:00:00+00:00\",\"2023-01-13T00:00:00+00:00\",\"2023-01-17T00:00:00+00:00\",\"2023-01-18T00:00:00+00:00\",\"2023-01-19T00:00:00+00:00\",\"2023-01-20T00:00:00+00:00\",\"2023-01-23T00:00:00+00:00\",\"2023-01-24T00:00:00+00:00\",\"2023-01-25T00:00:00+00:00\",\"2023-01-26T00:00:00+00:00\",\"2023-01-27T00:00:00+00:00\",\"2023-01-30T00:00:00+00:00\",\"2023-01-31T00:00:00+00:00\",\"2023-02-01T00:00:00+00:00\",\"2023-02-02T00:00:00+00:00\",\"2023-02-03T00:00:00+00:00\",\"2023-02-06T00:00:00+00:00\",\"2023-02-07T00:00:00+00:00\",\"2023-02-08T00:00:00+00:00\",\"2023-02-09T00:00:00+00:00\",\"2023-02-10T00:00:00+00:00\",\"2023-02-13T00:00:00+00:00\",\"2023-02-14T00:00:00+00:00\",\"2023-02-15T00:00:00+00:00\",\"2023-02-16T00:00:00+00:00\",\"2023-02-17T00:00:00+00:00\",\"2023-02-21T00:00:00+00:00\",\"2023-02-22T00:00:00+00:00\",\"2023-02-23T00:00:00+00:00\",\"2023-02-24T00:00:00+00:00\",\"2023-02-27T00:00:00+00:00\",\"2023-02-28T00:00:00+00:00\",\"2023-03-01T00:00:00+00:00\",\"2023-03-02T00:00:00+00:00\",\"2023-03-03T00:00:00+00:00\",\"2023-03-06T00:00:00+00:00\",\"2023-03-07T00:00:00+00:00\",\"2023-03-08T00:00:00+00:00\",\"2023-03-09T00:00:00+00:00\",\"2023-03-10T00:00:00+00:00\",\"2023-03-13T00:00:00+00:00\",\"2023-03-14T00:00:00+00:00\",\"2023-03-15T00:00:00+00:00\",\"2023-03-16T00:00:00+00:00\",\"2023-03-17T00:00:00+00:00\",\"2023-03-20T00:00:00+00:00\",\"2023-03-21T00:00:00+00:00\",\"2023-03-22T00:00:00+00:00\",\"2023-03-23T00:00:00+00:00\",\"2023-03-24T00:00:00+00:00\",\"2023-03-27T00:00:00+00:00\",\"2023-03-28T00:00:00+00:00\",\"2023-03-29T00:00:00+00:00\",\"2023-03-30T00:00:00+00:00\",\"2023-03-31T00:00:00+00:00\",\"2023-04-03T00:00:00+00:00\",\"2023-04-04T00:00:00+00:00\",\"2023-04-05T00:00:00+00:00\",\"2023-04-06T00:00:00+00:00\",\"2023-04-10T00:00:00+00:00\",\"2023-04-11T00:00:00+00:00\",\"2023-04-12T00:00:00+00:00\",\"2023-04-13T00:00:00+00:00\",\"2023-04-14T00:00:00+00:00\",\"2023-04-17T00:00:00+00:00\",\"2023-04-18T00:00:00+00:00\",\"2023-04-19T00:00:00+00:00\",\"2023-04-20T00:00:00+00:00\",\"2023-04-21T00:00:00+00:00\",\"2023-04-24T00:00:00+00:00\",\"2023-04-25T00:00:00+00:00\",\"2023-04-26T00:00:00+00:00\",\"2023-04-27T00:00:00+00:00\",\"2023-04-28T00:00:00+00:00\",\"2023-05-01T00:00:00+00:00\",\"2023-05-02T00:00:00+00:00\",\"2023-05-03T00:00:00+00:00\",\"2023-05-04T00:00:00+00:00\",\"2023-05-05T00:00:00+00:00\",\"2023-05-08T00:00:00+00:00\",\"2023-05-09T00:00:00+00:00\",\"2023-05-10T00:00:00+00:00\",\"2023-05-11T00:00:00+00:00\",\"2023-05-12T00:00:00+00:00\",\"2023-05-15T00:00:00+00:00\",\"2023-05-16T00:00:00+00:00\",\"2023-05-17T00:00:00+00:00\",\"2023-05-18T00:00:00+00:00\",\"2023-05-19T00:00:00+00:00\",\"2023-05-22T00:00:00+00:00\",\"2023-05-23T00:00:00+00:00\",\"2023-05-24T00:00:00+00:00\",\"2023-05-25T00:00:00+00:00\",\"2023-05-26T00:00:00+00:00\",\"2023-05-30T00:00:00+00:00\",\"2023-05-31T00:00:00+00:00\",\"2023-06-01T00:00:00+00:00\",\"2023-06-02T00:00:00+00:00\",\"2023-06-05T00:00:00+00:00\",\"2023-06-06T00:00:00+00:00\",\"2023-06-07T00:00:00+00:00\",\"2023-06-08T00:00:00+00:00\",\"2023-06-09T00:00:00+00:00\",\"2023-06-12T00:00:00+00:00\",\"2023-06-13T00:00:00+00:00\",\"2023-06-14T00:00:00+00:00\",\"2023-06-15T00:00:00+00:00\",\"2023-06-16T00:00:00+00:00\",\"2023-06-20T00:00:00+00:00\",\"2023-06-21T00:00:00+00:00\",\"2023-06-22T00:00:00+00:00\",\"2023-06-23T00:00:00+00:00\",\"2023-06-26T00:00:00+00:00\",\"2023-06-27T00:00:00+00:00\",\"2023-06-28T00:00:00+00:00\",\"2023-06-29T00:00:00+00:00\",\"2023-06-30T00:00:00+00:00\",\"2023-07-03T00:00:00+00:00\",\"2023-07-05T00:00:00+00:00\",\"2023-07-06T00:00:00+00:00\",\"2023-07-07T00:00:00+00:00\",\"2023-07-10T00:00:00+00:00\",\"2023-07-11T00:00:00+00:00\",\"2023-07-12T00:00:00+00:00\",\"2023-07-13T00:00:00+00:00\",\"2023-07-14T00:00:00+00:00\",\"2023-07-17T00:00:00+00:00\",\"2023-07-18T00:00:00+00:00\",\"2023-07-19T00:00:00+00:00\",\"2023-07-20T00:00:00+00:00\",\"2023-07-21T00:00:00+00:00\",\"2023-07-24T00:00:00+00:00\",\"2023-07-25T00:00:00+00:00\",\"2023-07-26T00:00:00+00:00\",\"2023-07-27T00:00:00+00:00\",\"2023-07-28T00:00:00+00:00\",\"2023-07-31T00:00:00+00:00\",\"2023-08-01T00:00:00+00:00\",\"2023-08-02T00:00:00+00:00\",\"2023-08-03T00:00:00+00:00\",\"2023-08-04T00:00:00+00:00\",\"2023-08-07T00:00:00+00:00\",\"2023-08-08T00:00:00+00:00\",\"2023-08-09T00:00:00+00:00\",\"2023-08-10T00:00:00+00:00\",\"2023-08-11T00:00:00+00:00\",\"2023-08-14T00:00:00+00:00\",\"2023-08-15T00:00:00+00:00\",\"2023-08-16T00:00:00+00:00\",\"2023-08-17T00:00:00+00:00\",\"2023-08-18T00:00:00+00:00\",\"2023-08-21T00:00:00+00:00\",\"2023-08-22T00:00:00+00:00\",\"2023-08-23T00:00:00+00:00\",\"2023-08-24T00:00:00+00:00\",\"2023-08-25T00:00:00+00:00\",\"2023-08-28T00:00:00+00:00\",\"2023-08-29T00:00:00+00:00\",\"2023-08-30T00:00:00+00:00\",\"2023-08-31T00:00:00+00:00\",\"2023-09-01T00:00:00+00:00\",\"2023-09-05T00:00:00+00:00\",\"2023-09-06T00:00:00+00:00\",\"2023-09-07T00:00:00+00:00\",\"2023-09-08T00:00:00+00:00\",\"2023-09-11T00:00:00+00:00\",\"2023-09-12T00:00:00+00:00\",\"2023-09-13T00:00:00+00:00\",\"2023-09-14T00:00:00+00:00\",\"2023-09-15T00:00:00+00:00\",\"2023-09-18T00:00:00+00:00\",\"2023-09-19T00:00:00+00:00\",\"2023-09-20T00:00:00+00:00\",\"2023-09-21T00:00:00+00:00\",\"2023-09-22T00:00:00+00:00\",\"2023-09-25T00:00:00+00:00\",\"2023-09-26T00:00:00+00:00\",\"2023-09-27T00:00:00+00:00\",\"2023-09-28T00:00:00+00:00\",\"2023-09-29T00:00:00+00:00\",\"2023-10-02T00:00:00+00:00\",\"2023-10-03T00:00:00+00:00\",\"2023-10-04T00:00:00+00:00\",\"2023-10-05T00:00:00+00:00\",\"2023-10-06T00:00:00+00:00\",\"2023-10-09T00:00:00+00:00\",\"2023-10-10T00:00:00+00:00\",\"2023-10-11T00:00:00+00:00\",\"2023-10-12T00:00:00+00:00\",\"2023-10-13T00:00:00+00:00\",\"2023-10-16T00:00:00+00:00\",\"2023-10-17T00:00:00+00:00\",\"2023-10-18T00:00:00+00:00\",\"2023-10-19T00:00:00+00:00\",\"2023-10-20T00:00:00+00:00\",\"2023-10-23T00:00:00+00:00\",\"2023-10-24T00:00:00+00:00\",\"2023-10-25T00:00:00+00:00\",\"2023-10-26T00:00:00+00:00\",\"2023-10-27T00:00:00+00:00\",\"2023-10-30T00:00:00+00:00\",\"2023-10-31T00:00:00+00:00\",\"2023-11-01T00:00:00+00:00\",\"2023-11-02T00:00:00+00:00\",\"2023-11-03T00:00:00+00:00\",\"2023-11-06T00:00:00+00:00\",\"2023-11-07T00:00:00+00:00\",\"2023-11-08T00:00:00+00:00\",\"2023-11-09T00:00:00+00:00\",\"2023-11-10T00:00:00+00:00\",\"2023-11-13T00:00:00+00:00\",\"2023-11-14T00:00:00+00:00\",\"2023-11-15T00:00:00+00:00\",\"2023-11-16T00:00:00+00:00\",\"2023-11-17T00:00:00+00:00\",\"2023-11-20T00:00:00+00:00\",\"2023-11-21T00:00:00+00:00\",\"2023-11-22T00:00:00+00:00\",\"2023-11-24T00:00:00+00:00\",\"2023-11-27T00:00:00+00:00\",\"2023-11-28T00:00:00+00:00\",\"2023-11-29T00:00:00+00:00\",\"2023-11-30T00:00:00+00:00\",\"2023-12-01T00:00:00+00:00\",\"2023-12-04T00:00:00+00:00\",\"2023-12-05T00:00:00+00:00\",\"2023-12-06T00:00:00+00:00\",\"2023-12-07T00:00:00+00:00\",\"2023-12-08T00:00:00+00:00\",\"2023-12-11T00:00:00+00:00\",\"2023-12-12T00:00:00+00:00\",\"2023-12-13T00:00:00+00:00\",\"2023-12-14T00:00:00+00:00\",\"2023-12-15T00:00:00+00:00\",\"2023-12-18T00:00:00+00:00\",\"2023-12-19T00:00:00+00:00\",\"2023-12-20T00:00:00+00:00\",\"2023-12-21T00:00:00+00:00\",\"2023-12-22T00:00:00+00:00\",\"2023-12-26T00:00:00+00:00\",\"2023-12-27T00:00:00+00:00\",\"2023-12-28T00:00:00+00:00\",\"2023-12-29T00:00:00+00:00\"],\"xaxis\":\"x\",\"y\":[223.0,218.520004,216.490005,219.339996,220.580002,218.910004,217.100006,216.759995,217.460007,214.509995,216.979996,225.789993,226.300003,230.070007,229.779999,234.179993,240.440002,242.639999,238.020004,242.5,242.309998,245.089996,243.240005,243.279999,243.679993,244.759995,245.919998,245.149994,245.300003,246.130005,244.309998,243.929993,243.860001,237.929993,234.830002,235.199997,234.589996,235.369995,237.470001,237.300003,233.580002,232.490005,233.270004,233.369995,235.380005,237.0,239.169998,235.820007,235.190002,240.059998,238.550003,234.190002,232.470001,236.899994,241.050003,238.0,236.940002,236.710007,236.800003,233.850006,239.100006,242.839996,249.960007,249.399994,250.929993,254.139999,255.990005,257.670013,259.190002,258.829987,259.929993,261.0,261.480011,260.200012,260.679993,261.779999,261.51001,262.440002,263.190002,256.540009,256.100006,253.080002,254.350006,251.210007,249.5,249.860001,254.300003,251.729996,246.600006,244.380005,245.600006,249.179993,246.589996,246.410004,243.229996,247.949997,248.330002,251.160004,252.75,252.940002,251.479996,252.080002,251.289993,249.270004,246.339996,251.649994,254.089996,256.01001,255.529999,257.459991,258.48999,259.950012,259.98999,260.579987,261.75,262.299988,263.519989,265.790009,266.829987,267.850006,267.25,268.899994,271.649994,271.359985,271.839996,278.0,279.369995,280.690002,278.730011,278.049988,279.769989,282.850006,283.660004,282.51001,284.100006,280.369995,280.970001,281.519989,286.420013,289.98999,289.690002,289.579987,290.149994,288.619995,286.660004,286.769989,287.230011,287.589996,289.630005,289.5,291.549988,289.25,288.660004,289.970001,292.899994,294.820007,293.429993,294.820007,297.470001,305.839996,305.399994,305.649994,304.589996,302.429993,300.869995,304.220001,304.5,305.190002,303.359985,302.600006,301.089996,300.609985,302.140015,299.920013,298.540009,301.390015,305.320007,305.309998,304.5,298.720001,297.540009,300.220001,300.899994,299.799988,296.470001,290.779999,286.769989,287.829987,289.980011,287.75,290.399994,293.630005,296.640015,296.640015,297.970001,295.440002,297.279999,303.269989,304.450012,308.209991,309.299988,309.700012,311.019989,311.089996,309.399994,312.399994,326.100006,324.869995,332.0,331.48999,333.450012,334.899994,336.540009,338.790009,337.649994,338.720001,334.630005,333.769989,337.230011,337.880005,340.670013,342.190002,342.450012,345.100006,349.670013,339.450012,338.160004,337.929993,339.029999,337.779999,339.279999,333.48999,332.700012,327.450012,335.799988,335.5,336.48999,343.0,343.790009,334.640015,335.190002,336.76001,324.920013,322.799988,327.730011,333.609985,336.390015,342.480011,343.809998,344.299988,343.130005,339.359985,338.0,335.200012,326.070007,318.700012,316.5,314.720001,316.609985,323.410004,320.880005,310.820007,309.799988,313.910004,311.649994,304.109985,297.109985,294.98999,308.5,307.299988,308.480011,312.380005,310.630005,315.119995,311.230011,308.799988,307.839996,305.559998,311.929993,309.119995,304.290009,296.76001,300.799988,300.869995,296.799988,293.859985,291.540009,291.700012,295.160004,297.630005,299.140015,299.970001,301.470001,303.130005,295.660004,289.690002,283.959991,289.600006,286.600006,289.51001,285.399994,287.820007,294.570007,295.609985,301.0,300.140015,305.0,303.230011,304.200012,305.5,310.799988,315.820007,315.950012,315.140015,310.130005,315.109985,314.869995,307.0,303.649994,301.119995,292.609985,290.73999,288.579987,288.309998,282.459991,286.170013,289.700012,293.299988,283.200012,281.109985,278.359985,290.970001,290.980011,289.880005,284.940002,284.130005,290.880005,286.350006,279.25,272.359985,273.75,271.359985,259.880005,263.040009,265.820007,268.329987,263.600006,257.670013,258.540009,261.5,261.329987,264.579987,267.109985,273.339996,274.769989,277.690002,274.649994,273.450012,274.179993,273.130005,273.0,272.709991,260.579987,249.020004,245.740005,255.300003,247.419998,250.5,254.75,257.170013,259.369995,267.980011,268.299988,266.910004,261.970001,259.529999,259.769989,262.980011,267.98999,269.059998,268.100006,266.529999,265.940002,253.550003,255.139999,260.369995,260.839996,259.720001,264.869995,264.890015,265.329987,261.5,259.880005,270.049988,277.839996,282.0,281.279999,277.890015,283.5,283.799988,283.649994,285.920013,283.079987,289.809998,291.209991,291.910004,294.179993,294.040009,293.350006,291.910004,289.25,282.459991,278.859985,277.230011,279.019989,280.339996,267.399994,267.049988,267.109985,260.890015,264.73999,257.829987,258.829987,260.429993,265.230011,267.450012,260.399994,254.229996,251.399994,245.300003,245.139999,243.509995,247.660004,243.860001,241.130005,241.449997,241.800003,242.330002,239.949997,240.539993,241.610001,250.360001,250.580002,250.339996,241.320007,234.559998,229.059998,227.860001,236.100006,237.240005,238.960007,243.929993,239.610001,241.309998,243.0,247.839996,251.039993,238.300003,233.690002,236.600006,234.919998,235.740005,231.300003,220.410004,221.589996,228.410004,231.649994,228.630005,243.330002,247.990005,243.910004,247.0,243.800003,243.25,243.740005,244.669998,245.309998,248.279999,248.699997,246.649994,242.789993,255.330002,256.119995,256.059998,253.820007,251.860001,246.160004,248.740005,248.309998,252.539993,263.920013,262.589996,254.199997,249.839996,245.210007,242.910004,245.619995,241.990005,238.869995,238.929993,239.720001,241.919998,239.960007,245.75,232.869995,227.550003,225.759995,231.240005,231.309998,235.949997,239.899994,239.369995,240.910004,242.380005,235.520004,240.740005,245.169998,243.949997,243.300003,248.309998,249.830002,245.600006,247.949997,255.179993,264.690002,264.200012,258.299988,268.769989,276.76001,273.980011,264.089996,274.600006,274.970001,270.730011,266.73999,260.089996,255.490005,254.339996,256.839996,251.0,252.820007,251.490005,250.929993,251.399994,255.619995,260.119995,257.690002,254.539993,259.559998,252.789993,257.910004,261.070007,266.480011,276.559998,283.329987,277.480011,275.0,281.040009,281.059998,280.630005,281.459991,276.140015,281.140015,284.459991,289.269989,288.269989,290.450012,287.149994,292.079987,289.600006,285.980011,287.01001,289.899994,288.480011,291.600006,291.76001,289.049988,289.029999,286.269989,284.950012,281.600006,299.570007,305.200012,308.929993,308.600006,309.179993,308.609985,307.76001,311.970001,310.200012,310.040009,313.0,311.119995,310.649994,309.899994,313.709991,314.429993,319.040009,318.75,322.589996,322.720001,316.5,326.899994,333.399994,335.73999,335.940002,333.529999,337.5,338.559998,335.369995,334.48999,326.640015,329.98999,332.100006,336.980011,339.040009,349.839996,351.470001,342.079987,337.730011,340.119995,337.959991,336.109985,336.149994,337.980011,336.109985,342.730011,340.899994,341.649994,342.98999,341.790009,335.230011,332.859985,341.649994,343.73999,351.429993,346.98999,366.779999,362.459991,357.970001,350.299988,346.920013,351.890015,344.670013,341.329987,340.01001,337.700012,338.540009,333.630005,329.880005,335.140015,331.109985,328.75,327.109985,328.26001,322.410004,324.059998,325.089996,324.420013,321.869995,318.380005,322.769989,326.079987,329.200012,332.980011,325.359985,326.149994,328.980011,329.809998,330.910004,331.98999,334.850006,334.459991,333.079987,336.160004,338.420013,336.790009,336.850006,340.859985,337.399994,330.399994,329.390015,329.589996,325.350006,321.450012,317.670013,315.880005,314.299988,315.480011,319.470001,321.890015,321.390015,320.040009,319.980011,329.190002,330.299988,331.100006,332.820007,333.630005,333.829987,336.140015,333.459991,335.589996,336.880005,331.920013,332.730011,331.839996,346.200012,341.630005,336.720001,339.450012,339.0,347.420013,348.829987,354.390015,357.540009,362.459991,363.869995,364.790009,370.100006,368.470001,371.950012,373.130005,376.350006,374.369995,378.869995,376.220001,379.790009,377.970001,380.640015,383.0,384.299988,380.089996,378.160004,369.519989,373.079987,374.179993,371.450012,374.459991,371.600006,374.420013,377.640015,373.76001,372.399994,373.0,373.26001,376.029999,374.410004,375.179993,376.940002,375.059998,376.459991,377.160004],\"yaxis\":\"y\",\"type\":\"scattergl\"},{\"hovertemplate\":\"variable=Low\\u003cbr\\u003eDate=%{x}\\u003cbr\\u003eStock value=%{y}\\u003cextra\\u003e\\u003c\\u002fextra\\u003e\",\"legendgroup\":\"Low\",\"line\":{\"color\":\"#ab63fa\",\"dash\":\"solid\"},\"marker\":{\"symbol\":\"circle\"},\"mode\":\"lines\",\"name\":\"Stock Low Price\",\"showlegend\":true,\"x\":[\"2021-01-04T00:00:00+00:00\",\"2021-01-05T00:00:00+00:00\",\"2021-01-06T00:00:00+00:00\",\"2021-01-07T00:00:00+00:00\",\"2021-01-08T00:00:00+00:00\",\"2021-01-11T00:00:00+00:00\",\"2021-01-12T00:00:00+00:00\",\"2021-01-13T00:00:00+00:00\",\"2021-01-14T00:00:00+00:00\",\"2021-01-15T00:00:00+00:00\",\"2021-01-19T00:00:00+00:00\",\"2021-01-20T00:00:00+00:00\",\"2021-01-21T00:00:00+00:00\",\"2021-01-22T00:00:00+00:00\",\"2021-01-25T00:00:00+00:00\",\"2021-01-26T00:00:00+00:00\",\"2021-01-27T00:00:00+00:00\",\"2021-01-28T00:00:00+00:00\",\"2021-01-29T00:00:00+00:00\",\"2021-02-01T00:00:00+00:00\",\"2021-02-02T00:00:00+00:00\",\"2021-02-03T00:00:00+00:00\",\"2021-02-04T00:00:00+00:00\",\"2021-02-05T00:00:00+00:00\",\"2021-02-08T00:00:00+00:00\",\"2021-02-09T00:00:00+00:00\",\"2021-02-10T00:00:00+00:00\",\"2021-02-11T00:00:00+00:00\",\"2021-02-12T00:00:00+00:00\",\"2021-02-16T00:00:00+00:00\",\"2021-02-17T00:00:00+00:00\",\"2021-02-18T00:00:00+00:00\",\"2021-02-19T00:00:00+00:00\",\"2021-02-22T00:00:00+00:00\",\"2021-02-23T00:00:00+00:00\",\"2021-02-24T00:00:00+00:00\",\"2021-02-25T00:00:00+00:00\",\"2021-02-26T00:00:00+00:00\",\"2021-03-01T00:00:00+00:00\",\"2021-03-02T00:00:00+00:00\",\"2021-03-03T00:00:00+00:00\",\"2021-03-04T00:00:00+00:00\",\"2021-03-05T00:00:00+00:00\",\"2021-03-08T00:00:00+00:00\",\"2021-03-09T00:00:00+00:00\",\"2021-03-10T00:00:00+00:00\",\"2021-03-11T00:00:00+00:00\",\"2021-03-12T00:00:00+00:00\",\"2021-03-15T00:00:00+00:00\",\"2021-03-16T00:00:00+00:00\",\"2021-03-17T00:00:00+00:00\",\"2021-03-18T00:00:00+00:00\",\"2021-03-19T00:00:00+00:00\",\"2021-03-22T00:00:00+00:00\",\"2021-03-23T00:00:00+00:00\",\"2021-03-24T00:00:00+00:00\",\"2021-03-25T00:00:00+00:00\",\"2021-03-26T00:00:00+00:00\",\"2021-03-29T00:00:00+00:00\",\"2021-03-30T00:00:00+00:00\",\"2021-03-31T00:00:00+00:00\",\"2021-04-01T00:00:00+00:00\",\"2021-04-05T00:00:00+00:00\",\"2021-04-06T00:00:00+00:00\",\"2021-04-07T00:00:00+00:00\",\"2021-04-08T00:00:00+00:00\",\"2021-04-09T00:00:00+00:00\",\"2021-04-12T00:00:00+00:00\",\"2021-04-13T00:00:00+00:00\",\"2021-04-14T00:00:00+00:00\",\"2021-04-15T00:00:00+00:00\",\"2021-04-16T00:00:00+00:00\",\"2021-04-19T00:00:00+00:00\",\"2021-04-20T00:00:00+00:00\",\"2021-04-21T00:00:00+00:00\",\"2021-04-22T00:00:00+00:00\",\"2021-04-23T00:00:00+00:00\",\"2021-04-26T00:00:00+00:00\",\"2021-04-27T00:00:00+00:00\",\"2021-04-28T00:00:00+00:00\",\"2021-04-29T00:00:00+00:00\",\"2021-04-30T00:00:00+00:00\",\"2021-05-03T00:00:00+00:00\",\"2021-05-04T00:00:00+00:00\",\"2021-05-05T00:00:00+00:00\",\"2021-05-06T00:00:00+00:00\",\"2021-05-07T00:00:00+00:00\",\"2021-05-10T00:00:00+00:00\",\"2021-05-11T00:00:00+00:00\",\"2021-05-12T00:00:00+00:00\",\"2021-05-13T00:00:00+00:00\",\"2021-05-14T00:00:00+00:00\",\"2021-05-17T00:00:00+00:00\",\"2021-05-18T00:00:00+00:00\",\"2021-05-19T00:00:00+00:00\",\"2021-05-20T00:00:00+00:00\",\"2021-05-21T00:00:00+00:00\",\"2021-05-24T00:00:00+00:00\",\"2021-05-25T00:00:00+00:00\",\"2021-05-26T00:00:00+00:00\",\"2021-05-27T00:00:00+00:00\",\"2021-05-28T00:00:00+00:00\",\"2021-06-01T00:00:00+00:00\",\"2021-06-02T00:00:00+00:00\",\"2021-06-03T00:00:00+00:00\",\"2021-06-04T00:00:00+00:00\",\"2021-06-07T00:00:00+00:00\",\"2021-06-08T00:00:00+00:00\",\"2021-06-09T00:00:00+00:00\",\"2021-06-10T00:00:00+00:00\",\"2021-06-11T00:00:00+00:00\",\"2021-06-14T00:00:00+00:00\",\"2021-06-15T00:00:00+00:00\",\"2021-06-16T00:00:00+00:00\",\"2021-06-17T00:00:00+00:00\",\"2021-06-18T00:00:00+00:00\",\"2021-06-21T00:00:00+00:00\",\"2021-06-22T00:00:00+00:00\",\"2021-06-23T00:00:00+00:00\",\"2021-06-24T00:00:00+00:00\",\"2021-06-25T00:00:00+00:00\",\"2021-06-28T00:00:00+00:00\",\"2021-06-29T00:00:00+00:00\",\"2021-06-30T00:00:00+00:00\",\"2021-07-01T00:00:00+00:00\",\"2021-07-02T00:00:00+00:00\",\"2021-07-06T00:00:00+00:00\",\"2021-07-07T00:00:00+00:00\",\"2021-07-08T00:00:00+00:00\",\"2021-07-09T00:00:00+00:00\",\"2021-07-12T00:00:00+00:00\",\"2021-07-13T00:00:00+00:00\",\"2021-07-14T00:00:00+00:00\",\"2021-07-15T00:00:00+00:00\",\"2021-07-16T00:00:00+00:00\",\"2021-07-19T00:00:00+00:00\",\"2021-07-20T00:00:00+00:00\",\"2021-07-21T00:00:00+00:00\",\"2021-07-22T00:00:00+00:00\",\"2021-07-23T00:00:00+00:00\",\"2021-07-26T00:00:00+00:00\",\"2021-07-27T00:00:00+00:00\",\"2021-07-28T00:00:00+00:00\",\"2021-07-29T00:00:00+00:00\",\"2021-07-30T00:00:00+00:00\",\"2021-08-02T00:00:00+00:00\",\"2021-08-03T00:00:00+00:00\",\"2021-08-04T00:00:00+00:00\",\"2021-08-05T00:00:00+00:00\",\"2021-08-06T00:00:00+00:00\",\"2021-08-09T00:00:00+00:00\",\"2021-08-10T00:00:00+00:00\",\"2021-08-11T00:00:00+00:00\",\"2021-08-12T00:00:00+00:00\",\"2021-08-13T00:00:00+00:00\",\"2021-08-16T00:00:00+00:00\",\"2021-08-17T00:00:00+00:00\",\"2021-08-18T00:00:00+00:00\",\"2021-08-19T00:00:00+00:00\",\"2021-08-20T00:00:00+00:00\",\"2021-08-23T00:00:00+00:00\",\"2021-08-24T00:00:00+00:00\",\"2021-08-25T00:00:00+00:00\",\"2021-08-26T00:00:00+00:00\",\"2021-08-27T00:00:00+00:00\",\"2021-08-30T00:00:00+00:00\",\"2021-08-31T00:00:00+00:00\",\"2021-09-01T00:00:00+00:00\",\"2021-09-02T00:00:00+00:00\",\"2021-09-03T00:00:00+00:00\",\"2021-09-07T00:00:00+00:00\",\"2021-09-08T00:00:00+00:00\",\"2021-09-09T00:00:00+00:00\",\"2021-09-10T00:00:00+00:00\",\"2021-09-13T00:00:00+00:00\",\"2021-09-14T00:00:00+00:00\",\"2021-09-15T00:00:00+00:00\",\"2021-09-16T00:00:00+00:00\",\"2021-09-17T00:00:00+00:00\",\"2021-09-20T00:00:00+00:00\",\"2021-09-21T00:00:00+00:00\",\"2021-09-22T00:00:00+00:00\",\"2021-09-23T00:00:00+00:00\",\"2021-09-24T00:00:00+00:00\",\"2021-09-27T00:00:00+00:00\",\"2021-09-28T00:00:00+00:00\",\"2021-09-29T00:00:00+00:00\",\"2021-09-30T00:00:00+00:00\",\"2021-10-01T00:00:00+00:00\",\"2021-10-04T00:00:00+00:00\",\"2021-10-05T00:00:00+00:00\",\"2021-10-06T00:00:00+00:00\",\"2021-10-07T00:00:00+00:00\",\"2021-10-08T00:00:00+00:00\",\"2021-10-11T00:00:00+00:00\",\"2021-10-12T00:00:00+00:00\",\"2021-10-13T00:00:00+00:00\",\"2021-10-14T00:00:00+00:00\",\"2021-10-15T00:00:00+00:00\",\"2021-10-18T00:00:00+00:00\",\"2021-10-19T00:00:00+00:00\",\"2021-10-20T00:00:00+00:00\",\"2021-10-21T00:00:00+00:00\",\"2021-10-22T00:00:00+00:00\",\"2021-10-25T00:00:00+00:00\",\"2021-10-26T00:00:00+00:00\",\"2021-10-27T00:00:00+00:00\",\"2021-10-28T00:00:00+00:00\",\"2021-10-29T00:00:00+00:00\",\"2021-11-01T00:00:00+00:00\",\"2021-11-02T00:00:00+00:00\",\"2021-11-03T00:00:00+00:00\",\"2021-11-04T00:00:00+00:00\",\"2021-11-05T00:00:00+00:00\",\"2021-11-08T00:00:00+00:00\",\"2021-11-09T00:00:00+00:00\",\"2021-11-10T00:00:00+00:00\",\"2021-11-11T00:00:00+00:00\",\"2021-11-12T00:00:00+00:00\",\"2021-11-15T00:00:00+00:00\",\"2021-11-16T00:00:00+00:00\",\"2021-11-17T00:00:00+00:00\",\"2021-11-18T00:00:00+00:00\",\"2021-11-19T00:00:00+00:00\",\"2021-11-22T00:00:00+00:00\",\"2021-11-23T00:00:00+00:00\",\"2021-11-24T00:00:00+00:00\",\"2021-11-26T00:00:00+00:00\",\"2021-11-29T00:00:00+00:00\",\"2021-11-30T00:00:00+00:00\",\"2021-12-01T00:00:00+00:00\",\"2021-12-02T00:00:00+00:00\",\"2021-12-03T00:00:00+00:00\",\"2021-12-06T00:00:00+00:00\",\"2021-12-07T00:00:00+00:00\",\"2021-12-08T00:00:00+00:00\",\"2021-12-09T00:00:00+00:00\",\"2021-12-10T00:00:00+00:00\",\"2021-12-13T00:00:00+00:00\",\"2021-12-14T00:00:00+00:00\",\"2021-12-15T00:00:00+00:00\",\"2021-12-16T00:00:00+00:00\",\"2021-12-17T00:00:00+00:00\",\"2021-12-20T00:00:00+00:00\",\"2021-12-21T00:00:00+00:00\",\"2021-12-22T00:00:00+00:00\",\"2021-12-23T00:00:00+00:00\",\"2021-12-27T00:00:00+00:00\",\"2021-12-28T00:00:00+00:00\",\"2021-12-29T00:00:00+00:00\",\"2021-12-30T00:00:00+00:00\",\"2021-12-31T00:00:00+00:00\",\"2022-01-03T00:00:00+00:00\",\"2022-01-04T00:00:00+00:00\",\"2022-01-05T00:00:00+00:00\",\"2022-01-06T00:00:00+00:00\",\"2022-01-07T00:00:00+00:00\",\"2022-01-10T00:00:00+00:00\",\"2022-01-11T00:00:00+00:00\",\"2022-01-12T00:00:00+00:00\",\"2022-01-13T00:00:00+00:00\",\"2022-01-14T00:00:00+00:00\",\"2022-01-18T00:00:00+00:00\",\"2022-01-19T00:00:00+00:00\",\"2022-01-20T00:00:00+00:00\",\"2022-01-21T00:00:00+00:00\",\"2022-01-24T00:00:00+00:00\",\"2022-01-25T00:00:00+00:00\",\"2022-01-26T00:00:00+00:00\",\"2022-01-27T00:00:00+00:00\",\"2022-01-28T00:00:00+00:00\",\"2022-01-31T00:00:00+00:00\",\"2022-02-01T00:00:00+00:00\",\"2022-02-02T00:00:00+00:00\",\"2022-02-03T00:00:00+00:00\",\"2022-02-04T00:00:00+00:00\",\"2022-02-07T00:00:00+00:00\",\"2022-02-08T00:00:00+00:00\",\"2022-02-09T00:00:00+00:00\",\"2022-02-10T00:00:00+00:00\",\"2022-02-11T00:00:00+00:00\",\"2022-02-14T00:00:00+00:00\",\"2022-02-15T00:00:00+00:00\",\"2022-02-16T00:00:00+00:00\",\"2022-02-17T00:00:00+00:00\",\"2022-02-18T00:00:00+00:00\",\"2022-02-22T00:00:00+00:00\",\"2022-02-23T00:00:00+00:00\",\"2022-02-24T00:00:00+00:00\",\"2022-02-25T00:00:00+00:00\",\"2022-02-28T00:00:00+00:00\",\"2022-03-01T00:00:00+00:00\",\"2022-03-02T00:00:00+00:00\",\"2022-03-03T00:00:00+00:00\",\"2022-03-04T00:00:00+00:00\",\"2022-03-07T00:00:00+00:00\",\"2022-03-08T00:00:00+00:00\",\"2022-03-09T00:00:00+00:00\",\"2022-03-10T00:00:00+00:00\",\"2022-03-11T00:00:00+00:00\",\"2022-03-14T00:00:00+00:00\",\"2022-03-15T00:00:00+00:00\",\"2022-03-16T00:00:00+00:00\",\"2022-03-17T00:00:00+00:00\",\"2022-03-18T00:00:00+00:00\",\"2022-03-21T00:00:00+00:00\",\"2022-03-22T00:00:00+00:00\",\"2022-03-23T00:00:00+00:00\",\"2022-03-24T00:00:00+00:00\",\"2022-03-25T00:00:00+00:00\",\"2022-03-28T00:00:00+00:00\",\"2022-03-29T00:00:00+00:00\",\"2022-03-30T00:00:00+00:00\",\"2022-03-31T00:00:00+00:00\",\"2022-04-01T00:00:00+00:00\",\"2022-04-04T00:00:00+00:00\",\"2022-04-05T00:00:00+00:00\",\"2022-04-06T00:00:00+00:00\",\"2022-04-07T00:00:00+00:00\",\"2022-04-08T00:00:00+00:00\",\"2022-04-11T00:00:00+00:00\",\"2022-04-12T00:00:00+00:00\",\"2022-04-13T00:00:00+00:00\",\"2022-04-14T00:00:00+00:00\",\"2022-04-18T00:00:00+00:00\",\"2022-04-19T00:00:00+00:00\",\"2022-04-20T00:00:00+00:00\",\"2022-04-21T00:00:00+00:00\",\"2022-04-22T00:00:00+00:00\",\"2022-04-25T00:00:00+00:00\",\"2022-04-26T00:00:00+00:00\",\"2022-04-27T00:00:00+00:00\",\"2022-04-28T00:00:00+00:00\",\"2022-04-29T00:00:00+00:00\",\"2022-05-02T00:00:00+00:00\",\"2022-05-03T00:00:00+00:00\",\"2022-05-04T00:00:00+00:00\",\"2022-05-05T00:00:00+00:00\",\"2022-05-06T00:00:00+00:00\",\"2022-05-09T00:00:00+00:00\",\"2022-05-10T00:00:00+00:00\",\"2022-05-11T00:00:00+00:00\",\"2022-05-12T00:00:00+00:00\",\"2022-05-13T00:00:00+00:00\",\"2022-05-16T00:00:00+00:00\",\"2022-05-17T00:00:00+00:00\",\"2022-05-18T00:00:00+00:00\",\"2022-05-19T00:00:00+00:00\",\"2022-05-20T00:00:00+00:00\",\"2022-05-23T00:00:00+00:00\",\"2022-05-24T00:00:00+00:00\",\"2022-05-25T00:00:00+00:00\",\"2022-05-26T00:00:00+00:00\",\"2022-05-27T00:00:00+00:00\",\"2022-05-31T00:00:00+00:00\",\"2022-06-01T00:00:00+00:00\",\"2022-06-02T00:00:00+00:00\",\"2022-06-03T00:00:00+00:00\",\"2022-06-06T00:00:00+00:00\",\"2022-06-07T00:00:00+00:00\",\"2022-06-08T00:00:00+00:00\",\"2022-06-09T00:00:00+00:00\",\"2022-06-10T00:00:00+00:00\",\"2022-06-13T00:00:00+00:00\",\"2022-06-14T00:00:00+00:00\",\"2022-06-15T00:00:00+00:00\",\"2022-06-16T00:00:00+00:00\",\"2022-06-17T00:00:00+00:00\",\"2022-06-21T00:00:00+00:00\",\"2022-06-22T00:00:00+00:00\",\"2022-06-23T00:00:00+00:00\",\"2022-06-24T00:00:00+00:00\",\"2022-06-27T00:00:00+00:00\",\"2022-06-28T00:00:00+00:00\",\"2022-06-29T00:00:00+00:00\",\"2022-06-30T00:00:00+00:00\",\"2022-07-01T00:00:00+00:00\",\"2022-07-05T00:00:00+00:00\",\"2022-07-06T00:00:00+00:00\",\"2022-07-07T00:00:00+00:00\",\"2022-07-08T00:00:00+00:00\",\"2022-07-11T00:00:00+00:00\",\"2022-07-12T00:00:00+00:00\",\"2022-07-13T00:00:00+00:00\",\"2022-07-14T00:00:00+00:00\",\"2022-07-15T00:00:00+00:00\",\"2022-07-18T00:00:00+00:00\",\"2022-07-19T00:00:00+00:00\",\"2022-07-20T00:00:00+00:00\",\"2022-07-21T00:00:00+00:00\",\"2022-07-22T00:00:00+00:00\",\"2022-07-25T00:00:00+00:00\",\"2022-07-26T00:00:00+00:00\",\"2022-07-27T00:00:00+00:00\",\"2022-07-28T00:00:00+00:00\",\"2022-07-29T00:00:00+00:00\",\"2022-08-01T00:00:00+00:00\",\"2022-08-02T00:00:00+00:00\",\"2022-08-03T00:00:00+00:00\",\"2022-08-04T00:00:00+00:00\",\"2022-08-05T00:00:00+00:00\",\"2022-08-08T00:00:00+00:00\",\"2022-08-09T00:00:00+00:00\",\"2022-08-10T00:00:00+00:00\",\"2022-08-11T00:00:00+00:00\",\"2022-08-12T00:00:00+00:00\",\"2022-08-15T00:00:00+00:00\",\"2022-08-16T00:00:00+00:00\",\"2022-08-17T00:00:00+00:00\",\"2022-08-18T00:00:00+00:00\",\"2022-08-19T00:00:00+00:00\",\"2022-08-22T00:00:00+00:00\",\"2022-08-23T00:00:00+00:00\",\"2022-08-24T00:00:00+00:00\",\"2022-08-25T00:00:00+00:00\",\"2022-08-26T00:00:00+00:00\",\"2022-08-29T00:00:00+00:00\",\"2022-08-30T00:00:00+00:00\",\"2022-08-31T00:00:00+00:00\",\"2022-09-01T00:00:00+00:00\",\"2022-09-02T00:00:00+00:00\",\"2022-09-06T00:00:00+00:00\",\"2022-09-07T00:00:00+00:00\",\"2022-09-08T00:00:00+00:00\",\"2022-09-09T00:00:00+00:00\",\"2022-09-12T00:00:00+00:00\",\"2022-09-13T00:00:00+00:00\",\"2022-09-14T00:00:00+00:00\",\"2022-09-15T00:00:00+00:00\",\"2022-09-16T00:00:00+00:00\",\"2022-09-19T00:00:00+00:00\",\"2022-09-20T00:00:00+00:00\",\"2022-09-21T00:00:00+00:00\",\"2022-09-22T00:00:00+00:00\",\"2022-09-23T00:00:00+00:00\",\"2022-09-26T00:00:00+00:00\",\"2022-09-27T00:00:00+00:00\",\"2022-09-28T00:00:00+00:00\",\"2022-09-29T00:00:00+00:00\",\"2022-09-30T00:00:00+00:00\",\"2022-10-03T00:00:00+00:00\",\"2022-10-04T00:00:00+00:00\",\"2022-10-05T00:00:00+00:00\",\"2022-10-06T00:00:00+00:00\",\"2022-10-07T00:00:00+00:00\",\"2022-10-10T00:00:00+00:00\",\"2022-10-11T00:00:00+00:00\",\"2022-10-12T00:00:00+00:00\",\"2022-10-13T00:00:00+00:00\",\"2022-10-14T00:00:00+00:00\",\"2022-10-17T00:00:00+00:00\",\"2022-10-18T00:00:00+00:00\",\"2022-10-19T00:00:00+00:00\",\"2022-10-20T00:00:00+00:00\",\"2022-10-21T00:00:00+00:00\",\"2022-10-24T00:00:00+00:00\",\"2022-10-25T00:00:00+00:00\",\"2022-10-26T00:00:00+00:00\",\"2022-10-27T00:00:00+00:00\",\"2022-10-28T00:00:00+00:00\",\"2022-10-31T00:00:00+00:00\",\"2022-11-01T00:00:00+00:00\",\"2022-11-02T00:00:00+00:00\",\"2022-11-03T00:00:00+00:00\",\"2022-11-04T00:00:00+00:00\",\"2022-11-07T00:00:00+00:00\",\"2022-11-08T00:00:00+00:00\",\"2022-11-09T00:00:00+00:00\",\"2022-11-10T00:00:00+00:00\",\"2022-11-11T00:00:00+00:00\",\"2022-11-14T00:00:00+00:00\",\"2022-11-15T00:00:00+00:00\",\"2022-11-16T00:00:00+00:00\",\"2022-11-17T00:00:00+00:00\",\"2022-11-18T00:00:00+00:00\",\"2022-11-21T00:00:00+00:00\",\"2022-11-22T00:00:00+00:00\",\"2022-11-23T00:00:00+00:00\",\"2022-11-25T00:00:00+00:00\",\"2022-11-28T00:00:00+00:00\",\"2022-11-29T00:00:00+00:00\",\"2022-11-30T00:00:00+00:00\",\"2022-12-01T00:00:00+00:00\",\"2022-12-02T00:00:00+00:00\",\"2022-12-05T00:00:00+00:00\",\"2022-12-06T00:00:00+00:00\",\"2022-12-07T00:00:00+00:00\",\"2022-12-08T00:00:00+00:00\",\"2022-12-09T00:00:00+00:00\",\"2022-12-12T00:00:00+00:00\",\"2022-12-13T00:00:00+00:00\",\"2022-12-14T00:00:00+00:00\",\"2022-12-15T00:00:00+00:00\",\"2022-12-16T00:00:00+00:00\",\"2022-12-19T00:00:00+00:00\",\"2022-12-20T00:00:00+00:00\",\"2022-12-21T00:00:00+00:00\",\"2022-12-22T00:00:00+00:00\",\"2022-12-23T00:00:00+00:00\",\"2022-12-27T00:00:00+00:00\",\"2022-12-28T00:00:00+00:00\",\"2022-12-29T00:00:00+00:00\",\"2022-12-30T00:00:00+00:00\",\"2023-01-03T00:00:00+00:00\",\"2023-01-04T00:00:00+00:00\",\"2023-01-05T00:00:00+00:00\",\"2023-01-06T00:00:00+00:00\",\"2023-01-09T00:00:00+00:00\",\"2023-01-10T00:00:00+00:00\",\"2023-01-11T00:00:00+00:00\",\"2023-01-12T00:00:00+00:00\",\"2023-01-13T00:00:00+00:00\",\"2023-01-17T00:00:00+00:00\",\"2023-01-18T00:00:00+00:00\",\"2023-01-19T00:00:00+00:00\",\"2023-01-20T00:00:00+00:00\",\"2023-01-23T00:00:00+00:00\",\"2023-01-24T00:00:00+00:00\",\"2023-01-25T00:00:00+00:00\",\"2023-01-26T00:00:00+00:00\",\"2023-01-27T00:00:00+00:00\",\"2023-01-30T00:00:00+00:00\",\"2023-01-31T00:00:00+00:00\",\"2023-02-01T00:00:00+00:00\",\"2023-02-02T00:00:00+00:00\",\"2023-02-03T00:00:00+00:00\",\"2023-02-06T00:00:00+00:00\",\"2023-02-07T00:00:00+00:00\",\"2023-02-08T00:00:00+00:00\",\"2023-02-09T00:00:00+00:00\",\"2023-02-10T00:00:00+00:00\",\"2023-02-13T00:00:00+00:00\",\"2023-02-14T00:00:00+00:00\",\"2023-02-15T00:00:00+00:00\",\"2023-02-16T00:00:00+00:00\",\"2023-02-17T00:00:00+00:00\",\"2023-02-21T00:00:00+00:00\",\"2023-02-22T00:00:00+00:00\",\"2023-02-23T00:00:00+00:00\",\"2023-02-24T00:00:00+00:00\",\"2023-02-27T00:00:00+00:00\",\"2023-02-28T00:00:00+00:00\",\"2023-03-01T00:00:00+00:00\",\"2023-03-02T00:00:00+00:00\",\"2023-03-03T00:00:00+00:00\",\"2023-03-06T00:00:00+00:00\",\"2023-03-07T00:00:00+00:00\",\"2023-03-08T00:00:00+00:00\",\"2023-03-09T00:00:00+00:00\",\"2023-03-10T00:00:00+00:00\",\"2023-03-13T00:00:00+00:00\",\"2023-03-14T00:00:00+00:00\",\"2023-03-15T00:00:00+00:00\",\"2023-03-16T00:00:00+00:00\",\"2023-03-17T00:00:00+00:00\",\"2023-03-20T00:00:00+00:00\",\"2023-03-21T00:00:00+00:00\",\"2023-03-22T00:00:00+00:00\",\"2023-03-23T00:00:00+00:00\",\"2023-03-24T00:00:00+00:00\",\"2023-03-27T00:00:00+00:00\",\"2023-03-28T00:00:00+00:00\",\"2023-03-29T00:00:00+00:00\",\"2023-03-30T00:00:00+00:00\",\"2023-03-31T00:00:00+00:00\",\"2023-04-03T00:00:00+00:00\",\"2023-04-04T00:00:00+00:00\",\"2023-04-05T00:00:00+00:00\",\"2023-04-06T00:00:00+00:00\",\"2023-04-10T00:00:00+00:00\",\"2023-04-11T00:00:00+00:00\",\"2023-04-12T00:00:00+00:00\",\"2023-04-13T00:00:00+00:00\",\"2023-04-14T00:00:00+00:00\",\"2023-04-17T00:00:00+00:00\",\"2023-04-18T00:00:00+00:00\",\"2023-04-19T00:00:00+00:00\",\"2023-04-20T00:00:00+00:00\",\"2023-04-21T00:00:00+00:00\",\"2023-04-24T00:00:00+00:00\",\"2023-04-25T00:00:00+00:00\",\"2023-04-26T00:00:00+00:00\",\"2023-04-27T00:00:00+00:00\",\"2023-04-28T00:00:00+00:00\",\"2023-05-01T00:00:00+00:00\",\"2023-05-02T00:00:00+00:00\",\"2023-05-03T00:00:00+00:00\",\"2023-05-04T00:00:00+00:00\",\"2023-05-05T00:00:00+00:00\",\"2023-05-08T00:00:00+00:00\",\"2023-05-09T00:00:00+00:00\",\"2023-05-10T00:00:00+00:00\",\"2023-05-11T00:00:00+00:00\",\"2023-05-12T00:00:00+00:00\",\"2023-05-15T00:00:00+00:00\",\"2023-05-16T00:00:00+00:00\",\"2023-05-17T00:00:00+00:00\",\"2023-05-18T00:00:00+00:00\",\"2023-05-19T00:00:00+00:00\",\"2023-05-22T00:00:00+00:00\",\"2023-05-23T00:00:00+00:00\",\"2023-05-24T00:00:00+00:00\",\"2023-05-25T00:00:00+00:00\",\"2023-05-26T00:00:00+00:00\",\"2023-05-30T00:00:00+00:00\",\"2023-05-31T00:00:00+00:00\",\"2023-06-01T00:00:00+00:00\",\"2023-06-02T00:00:00+00:00\",\"2023-06-05T00:00:00+00:00\",\"2023-06-06T00:00:00+00:00\",\"2023-06-07T00:00:00+00:00\",\"2023-06-08T00:00:00+00:00\",\"2023-06-09T00:00:00+00:00\",\"2023-06-12T00:00:00+00:00\",\"2023-06-13T00:00:00+00:00\",\"2023-06-14T00:00:00+00:00\",\"2023-06-15T00:00:00+00:00\",\"2023-06-16T00:00:00+00:00\",\"2023-06-20T00:00:00+00:00\",\"2023-06-21T00:00:00+00:00\",\"2023-06-22T00:00:00+00:00\",\"2023-06-23T00:00:00+00:00\",\"2023-06-26T00:00:00+00:00\",\"2023-06-27T00:00:00+00:00\",\"2023-06-28T00:00:00+00:00\",\"2023-06-29T00:00:00+00:00\",\"2023-06-30T00:00:00+00:00\",\"2023-07-03T00:00:00+00:00\",\"2023-07-05T00:00:00+00:00\",\"2023-07-06T00:00:00+00:00\",\"2023-07-07T00:00:00+00:00\",\"2023-07-10T00:00:00+00:00\",\"2023-07-11T00:00:00+00:00\",\"2023-07-12T00:00:00+00:00\",\"2023-07-13T00:00:00+00:00\",\"2023-07-14T00:00:00+00:00\",\"2023-07-17T00:00:00+00:00\",\"2023-07-18T00:00:00+00:00\",\"2023-07-19T00:00:00+00:00\",\"2023-07-20T00:00:00+00:00\",\"2023-07-21T00:00:00+00:00\",\"2023-07-24T00:00:00+00:00\",\"2023-07-25T00:00:00+00:00\",\"2023-07-26T00:00:00+00:00\",\"2023-07-27T00:00:00+00:00\",\"2023-07-28T00:00:00+00:00\",\"2023-07-31T00:00:00+00:00\",\"2023-08-01T00:00:00+00:00\",\"2023-08-02T00:00:00+00:00\",\"2023-08-03T00:00:00+00:00\",\"2023-08-04T00:00:00+00:00\",\"2023-08-07T00:00:00+00:00\",\"2023-08-08T00:00:00+00:00\",\"2023-08-09T00:00:00+00:00\",\"2023-08-10T00:00:00+00:00\",\"2023-08-11T00:00:00+00:00\",\"2023-08-14T00:00:00+00:00\",\"2023-08-15T00:00:00+00:00\",\"2023-08-16T00:00:00+00:00\",\"2023-08-17T00:00:00+00:00\",\"2023-08-18T00:00:00+00:00\",\"2023-08-21T00:00:00+00:00\",\"2023-08-22T00:00:00+00:00\",\"2023-08-23T00:00:00+00:00\",\"2023-08-24T00:00:00+00:00\",\"2023-08-25T00:00:00+00:00\",\"2023-08-28T00:00:00+00:00\",\"2023-08-29T00:00:00+00:00\",\"2023-08-30T00:00:00+00:00\",\"2023-08-31T00:00:00+00:00\",\"2023-09-01T00:00:00+00:00\",\"2023-09-05T00:00:00+00:00\",\"2023-09-06T00:00:00+00:00\",\"2023-09-07T00:00:00+00:00\",\"2023-09-08T00:00:00+00:00\",\"2023-09-11T00:00:00+00:00\",\"2023-09-12T00:00:00+00:00\",\"2023-09-13T00:00:00+00:00\",\"2023-09-14T00:00:00+00:00\",\"2023-09-15T00:00:00+00:00\",\"2023-09-18T00:00:00+00:00\",\"2023-09-19T00:00:00+00:00\",\"2023-09-20T00:00:00+00:00\",\"2023-09-21T00:00:00+00:00\",\"2023-09-22T00:00:00+00:00\",\"2023-09-25T00:00:00+00:00\",\"2023-09-26T00:00:00+00:00\",\"2023-09-27T00:00:00+00:00\",\"2023-09-28T00:00:00+00:00\",\"2023-09-29T00:00:00+00:00\",\"2023-10-02T00:00:00+00:00\",\"2023-10-03T00:00:00+00:00\",\"2023-10-04T00:00:00+00:00\",\"2023-10-05T00:00:00+00:00\",\"2023-10-06T00:00:00+00:00\",\"2023-10-09T00:00:00+00:00\",\"2023-10-10T00:00:00+00:00\",\"2023-10-11T00:00:00+00:00\",\"2023-10-12T00:00:00+00:00\",\"2023-10-13T00:00:00+00:00\",\"2023-10-16T00:00:00+00:00\",\"2023-10-17T00:00:00+00:00\",\"2023-10-18T00:00:00+00:00\",\"2023-10-19T00:00:00+00:00\",\"2023-10-20T00:00:00+00:00\",\"2023-10-23T00:00:00+00:00\",\"2023-10-24T00:00:00+00:00\",\"2023-10-25T00:00:00+00:00\",\"2023-10-26T00:00:00+00:00\",\"2023-10-27T00:00:00+00:00\",\"2023-10-30T00:00:00+00:00\",\"2023-10-31T00:00:00+00:00\",\"2023-11-01T00:00:00+00:00\",\"2023-11-02T00:00:00+00:00\",\"2023-11-03T00:00:00+00:00\",\"2023-11-06T00:00:00+00:00\",\"2023-11-07T00:00:00+00:00\",\"2023-11-08T00:00:00+00:00\",\"2023-11-09T00:00:00+00:00\",\"2023-11-10T00:00:00+00:00\",\"2023-11-13T00:00:00+00:00\",\"2023-11-14T00:00:00+00:00\",\"2023-11-15T00:00:00+00:00\",\"2023-11-16T00:00:00+00:00\",\"2023-11-17T00:00:00+00:00\",\"2023-11-20T00:00:00+00:00\",\"2023-11-21T00:00:00+00:00\",\"2023-11-22T00:00:00+00:00\",\"2023-11-24T00:00:00+00:00\",\"2023-11-27T00:00:00+00:00\",\"2023-11-28T00:00:00+00:00\",\"2023-11-29T00:00:00+00:00\",\"2023-11-30T00:00:00+00:00\",\"2023-12-01T00:00:00+00:00\",\"2023-12-04T00:00:00+00:00\",\"2023-12-05T00:00:00+00:00\",\"2023-12-06T00:00:00+00:00\",\"2023-12-07T00:00:00+00:00\",\"2023-12-08T00:00:00+00:00\",\"2023-12-11T00:00:00+00:00\",\"2023-12-12T00:00:00+00:00\",\"2023-12-13T00:00:00+00:00\",\"2023-12-14T00:00:00+00:00\",\"2023-12-15T00:00:00+00:00\",\"2023-12-18T00:00:00+00:00\",\"2023-12-19T00:00:00+00:00\",\"2023-12-20T00:00:00+00:00\",\"2023-12-21T00:00:00+00:00\",\"2023-12-22T00:00:00+00:00\",\"2023-12-26T00:00:00+00:00\",\"2023-12-27T00:00:00+00:00\",\"2023-12-28T00:00:00+00:00\",\"2023-12-29T00:00:00+00:00\"],\"xaxis\":\"x\",\"y\":[214.809998,215.699997,211.940002,213.710007,217.029999,216.729996,213.320007,213.929993,212.740005,212.029999,212.630005,217.289993,222.419998,225.800003,224.220001,230.080002,230.139999,235.089996,231.350006,232.429993,238.690002,239.259995,240.369995,240.419998,240.809998,241.380005,240.889999,242.149994,242.729996,242.919998,240.940002,240.860001,240.179993,232.399994,228.729996,229.0,227.880005,229.539993,233.149994,233.449997,227.259995,224.259995,226.460007,227.130005,231.669998,232.039993,234.309998,233.229996,231.809998,235.940002,233.229996,230.330002,229.350006,230.139999,237.070007,235.320007,231.570007,231.550003,231.880005,231.100006,232.389999,238.050003,242.699997,246.880005,247.190002,252.0,252.440002,254.619995,256.829987,255.160004,257.730011,257.600006,257.820007,256.839996,257.25,255.639999,257.269989,260.170013,260.119995,252.949997,249.0,249.600006,251.119995,245.759995,245.820007,244.690002,251.169998,247.119995,242.570007,238.070007,241.419998,245.490005,243.520004,242.899994,238.600006,243.860001,244.740005,247.509995,250.820007,250.75,249.25,249.559998,246.960007,245.839996,243.0,247.509995,249.809998,252.509995,253.210007,253.669998,256.609985,256.799988,257.679993,254.419998,256.01001,258.75,257.920013,262.399994,264.429993,265.470001,264.76001,265.910004,267.980011,269.600006,269.600006,272.5,274.299988,277.149994,274.869995,275.320007,276.579987,277.390015,280.549988,279.829987,279.459991,274.450012,276.26001,277.290009,283.420013,286.5,286.640015,282.950012,283.829987,286.079987,283.910004,283.73999,284.0,284.649994,286.100006,287.619995,287.809998,285.200012,285.859985,286.339996,289.299988,290.019989,291.079987,290.269989,288.640015,298.059998,301.850006,302.0,300.420013,298.950012,296.829987,301.059998,301.5,301.48999,300.179993,300.26001,298.200012,297.470001,297.0,295.380005,294.079987,298.100006,301.820007,300.76001,299.529999,289.519989,294.070007,294.51001,297.529999,296.929993,292.940002,282.75,283.01001,281.619995,281.290009,280.25,284.049988,285.51001,293.920013,293.76001,292.75,292.350006,293.48999,297.829987,300.519989,302.690002,307.220001,306.109985,306.359985,307.799988,306.459991,308.600006,316.0,321.359985,323.899994,326.369995,330.0,330.649994,329.51001,334.420013,334.440002,334.529999,329.920013,330.51001,333.790009,334.029999,335.51001,338.0,337.119995,342.200012,339.549988,333.559998,333.910004,328.119995,334.73999,328.98999,329.390015,327.799988,318.029999,319.230011,330.100006,330.799988,332.119995,334.790009,339.079987,324.109985,324.5,323.019989,317.25,317.570007,319.799988,325.75,332.730011,335.429993,340.320007,339.679993,338.820007,335.850006,329.779999,326.119995,315.980011,311.48999,310.089996,304.690002,309.890015,317.079987,304.0,303.75,301.73999,302.700012,301.140015,295.609985,276.049988,285.170013,293.029999,297.929993,294.450012,306.369995,305.130005,308.880005,299.959991,299.970001,299.899994,299.950012,307.390015,300.700012,294.220001,291.350006,297.019989,293.679993,290.0,286.309998,284.5,280.100006,271.519989,291.649994,293.0,292.149994,293.700012,294.049988,287.170013,278.529999,270.0,280.779999,280.579987,279.429993,275.820007,278.730011,283.200012,289.369995,292.730011,294.899994,298.769989,297.720001,298.320007,299.290009,304.329987,309.049988,311.579987,307.890015,305.540009,309.709991,309.869995,296.709991,296.350006,296.279999,285.0,280.48999,281.299988,279.320007,278.339996,278.410004,285.369995,280.059998,273.380005,270.769989,270.0,279.160004,281.459991,276.5,276.220001,280.149994,276.730011,274.339996,271.269989,263.320007,265.070007,259.299988,250.020004,255.350006,255.779999,262.459991,252.770004,251.880005,246.440002,253.429993,253.5,257.130005,261.429993,267.559998,268.929993,270.040009,261.600006,268.410004,267.220001,265.940002,269.609985,264.630005,252.529999,241.529999,241.509995,246.419998,243.020004,244.029999,249.509995,250.369995,253.630005,261.720001,263.279999,256.320007,255.759995,252.899994,254.610001,254.740005,262.399994,265.019989,263.290009,262.179993,252.039993,248.110001,245.940002,254.770004,253.300003,253.679993,258.910004,257.029999,259.070007,256.809998,249.570007,258.850006,267.869995,276.630005,275.839996,272.380005,276.609985,280.170013,278.679993,279.320007,277.609985,286.940002,286.51001,286.940002,290.109985,290.420013,289.470001,289.079987,285.559998,277.220001,275.399994,275.109985,274.519989,267.980011,263.850006,260.660004,261.329987,255.410004,254.470001,251.940002,253.220001,254.789993,260.290009,265.160004,251.589996,249.860001,244.020004,242.059998,240.850006,239.639999,238.899994,237.570007,235.199997,236.899994,234.5,234.729996,234.410004,232.729996,234.660004,244.979996,244.100006,246.080002,233.169998,226.729996,224.110001,223.960007,219.130005,228.339996,235.139999,235.369995,234.289993,234.869995,234.5,241.300003,245.830002,230.059998,225.779999,226.050003,231.149994,227.330002,220.039993,213.979996,213.429993,221.279999,225.839996,224.330002,235.0,241.929993,239.210007,240.029999,240.419998,237.630005,239.029999,241.190002,240.710007,244.270004,246.729996,240.800003,238.210007,239.860001,250.919998,249.690002,248.059998,243.779999,242.210007,243.059998,244.160004,247.169998,253.070007,254.309998,247.339996,243.509995,238.710007,238.419998,240.110001,233.869995,233.940002,235.830002,234.169998,235.649994,236.660004,237.399994,225.960007,221.759995,219.350006,226.410004,227.330002,231.110001,233.559998,234.919998,237.089996,235.520004,230.679993,234.509995,239.649994,240.440002,230.899994,242.0,246.830002,242.199997,242.949997,245.470001,257.25,257.100006,254.779999,260.079987,266.209991,262.799988,260.660004,267.149994,269.279999,266.179993,261.899994,256.0,251.589996,250.339996,250.479996,248.100006,249.389999,248.729996,245.789993,245.610001,251.389999,255.979996,253.389999,250.809998,251.580002,247.600006,245.729996,255.860001,259.209991,263.279999,276.320007,269.850006,269.519989,272.179993,275.200012,275.279999,275.519989,272.049988,278.410004,281.480011,283.0,283.950012,285.670013,282.920013,282.029999,284.709991,281.640015,281.959991,283.170013,283.690002,286.160004,287.01001,284.540009,285.079987,283.059998,278.720001,275.369995,292.730011,295.25,303.309998,305.149994,303.910004,304.089996,303.399994,304.269989,306.089996,306.309998,307.670013,306.26001,306.600006,307.589996,309.829987,310.73999,313.720001,316.369995,318.01001,315.25,312.609985,320.0,323.880005,330.519989,327.329987,324.720001,332.549988,334.660004,332.170013,322.5,323.350006,324.410004,325.160004,330.390015,332.809998,337.200012,341.950012,335.859985,332.070007,333.339996,333.450012,328.48999,329.299988,333.809998,332.619995,337.200012,336.570007,334.730011,335.5,337.0,327.589996,327.0,335.670013,339.019989,344.309998,342.200012,342.170013,352.440002,345.369995,339.829987,342.309998,345.070007,333.109985,329.049988,333.170013,333.359985,333.700012,326.359985,325.950012,327.23999,327.519989,323.0,321.049988,321.179993,319.209991,320.079987,320.899994,319.799988,316.209991,311.549988,317.040009,321.459991,323.459991,319.959991,318.799988,321.720001,321.880005,326.450012,326.779999,326.779999,328.660004,330.179993,329.029999,329.459991,335.429993,331.480011,331.170013,336.570007,329.649994,326.359985,324.51001,320.51001,315.0,316.149994,315.0,310.019989,309.690002,309.450012,314.980011,315.179993,311.209991,314.0,314.899994,316.299988,323.179993,327.670013,329.140015,328.720001,326.359985,330.600006,327.410004,328.299988,330.910004,325.450012,324.390015,327.600006,337.619995,326.940002,328.399994,331.829987,334.690002,339.649994,344.769989,347.329987,353.350006,357.630005,360.549988,360.359985,361.070007,365.899994,367.350006,367.109985,370.179993,367.0,371.0,371.119995,374.970001,375.140015,376.200012,378.160004,377.440002,375.470001,371.309998,362.899994,365.619995,368.029999,366.320007,368.230011,366.100006,370.459991,370.769989,364.130005,366.279999,368.679993,369.839996,370.529999,370.040009,372.709991,373.5,372.809998,374.160004,373.480011],\"yaxis\":\"y\",\"type\":\"scattergl\"}],                        {\"template\":{\"data\":{\"histogram2dcontour\":[{\"type\":\"histogram2dcontour\",\"colorbar\":{\"outlinewidth\":0,\"ticks\":\"\"},\"colorscale\":[[0.0,\"#0d0887\"],[0.1111111111111111,\"#46039f\"],[0.2222222222222222,\"#7201a8\"],[0.3333333333333333,\"#9c179e\"],[0.4444444444444444,\"#bd3786\"],[0.5555555555555556,\"#d8576b\"],[0.6666666666666666,\"#ed7953\"],[0.7777777777777778,\"#fb9f3a\"],[0.8888888888888888,\"#fdca26\"],[1.0,\"#f0f921\"]]}],\"choropleth\":[{\"type\":\"choropleth\",\"colorbar\":{\"outlinewidth\":0,\"ticks\":\"\"}}],\"histogram2d\":[{\"type\":\"histogram2d\",\"colorbar\":{\"outlinewidth\":0,\"ticks\":\"\"},\"colorscale\":[[0.0,\"#0d0887\"],[0.1111111111111111,\"#46039f\"],[0.2222222222222222,\"#7201a8\"],[0.3333333333333333,\"#9c179e\"],[0.4444444444444444,\"#bd3786\"],[0.5555555555555556,\"#d8576b\"],[0.6666666666666666,\"#ed7953\"],[0.7777777777777778,\"#fb9f3a\"],[0.8888888888888888,\"#fdca26\"],[1.0,\"#f0f921\"]]}],\"heatmap\":[{\"type\":\"heatmap\",\"colorbar\":{\"outlinewidth\":0,\"ticks\":\"\"},\"colorscale\":[[0.0,\"#0d0887\"],[0.1111111111111111,\"#46039f\"],[0.2222222222222222,\"#7201a8\"],[0.3333333333333333,\"#9c179e\"],[0.4444444444444444,\"#bd3786\"],[0.5555555555555556,\"#d8576b\"],[0.6666666666666666,\"#ed7953\"],[0.7777777777777778,\"#fb9f3a\"],[0.8888888888888888,\"#fdca26\"],[1.0,\"#f0f921\"]]}],\"heatmapgl\":[{\"type\":\"heatmapgl\",\"colorbar\":{\"outlinewidth\":0,\"ticks\":\"\"},\"colorscale\":[[0.0,\"#0d0887\"],[0.1111111111111111,\"#46039f\"],[0.2222222222222222,\"#7201a8\"],[0.3333333333333333,\"#9c179e\"],[0.4444444444444444,\"#bd3786\"],[0.5555555555555556,\"#d8576b\"],[0.6666666666666666,\"#ed7953\"],[0.7777777777777778,\"#fb9f3a\"],[0.8888888888888888,\"#fdca26\"],[1.0,\"#f0f921\"]]}],\"contourcarpet\":[{\"type\":\"contourcarpet\",\"colorbar\":{\"outlinewidth\":0,\"ticks\":\"\"}}],\"contour\":[{\"type\":\"contour\",\"colorbar\":{\"outlinewidth\":0,\"ticks\":\"\"},\"colorscale\":[[0.0,\"#0d0887\"],[0.1111111111111111,\"#46039f\"],[0.2222222222222222,\"#7201a8\"],[0.3333333333333333,\"#9c179e\"],[0.4444444444444444,\"#bd3786\"],[0.5555555555555556,\"#d8576b\"],[0.6666666666666666,\"#ed7953\"],[0.7777777777777778,\"#fb9f3a\"],[0.8888888888888888,\"#fdca26\"],[1.0,\"#f0f921\"]]}],\"surface\":[{\"type\":\"surface\",\"colorbar\":{\"outlinewidth\":0,\"ticks\":\"\"},\"colorscale\":[[0.0,\"#0d0887\"],[0.1111111111111111,\"#46039f\"],[0.2222222222222222,\"#7201a8\"],[0.3333333333333333,\"#9c179e\"],[0.4444444444444444,\"#bd3786\"],[0.5555555555555556,\"#d8576b\"],[0.6666666666666666,\"#ed7953\"],[0.7777777777777778,\"#fb9f3a\"],[0.8888888888888888,\"#fdca26\"],[1.0,\"#f0f921\"]]}],\"mesh3d\":[{\"type\":\"mesh3d\",\"colorbar\":{\"outlinewidth\":0,\"ticks\":\"\"}}],\"scatter\":[{\"fillpattern\":{\"fillmode\":\"overlay\",\"size\":10,\"solidity\":0.2},\"type\":\"scatter\"}],\"parcoords\":[{\"type\":\"parcoords\",\"line\":{\"colorbar\":{\"outlinewidth\":0,\"ticks\":\"\"}}}],\"scatterpolargl\":[{\"type\":\"scatterpolargl\",\"marker\":{\"colorbar\":{\"outlinewidth\":0,\"ticks\":\"\"}}}],\"bar\":[{\"error_x\":{\"color\":\"#2a3f5f\"},\"error_y\":{\"color\":\"#2a3f5f\"},\"marker\":{\"line\":{\"color\":\"#E5ECF6\",\"width\":0.5},\"pattern\":{\"fillmode\":\"overlay\",\"size\":10,\"solidity\":0.2}},\"type\":\"bar\"}],\"scattergeo\":[{\"type\":\"scattergeo\",\"marker\":{\"colorbar\":{\"outlinewidth\":0,\"ticks\":\"\"}}}],\"scatterpolar\":[{\"type\":\"scatterpolar\",\"marker\":{\"colorbar\":{\"outlinewidth\":0,\"ticks\":\"\"}}}],\"histogram\":[{\"marker\":{\"pattern\":{\"fillmode\":\"overlay\",\"size\":10,\"solidity\":0.2}},\"type\":\"histogram\"}],\"scattergl\":[{\"type\":\"scattergl\",\"marker\":{\"colorbar\":{\"outlinewidth\":0,\"ticks\":\"\"}}}],\"scatter3d\":[{\"type\":\"scatter3d\",\"line\":{\"colorbar\":{\"outlinewidth\":0,\"ticks\":\"\"}},\"marker\":{\"colorbar\":{\"outlinewidth\":0,\"ticks\":\"\"}}}],\"scattermapbox\":[{\"type\":\"scattermapbox\",\"marker\":{\"colorbar\":{\"outlinewidth\":0,\"ticks\":\"\"}}}],\"scatterternary\":[{\"type\":\"scatterternary\",\"marker\":{\"colorbar\":{\"outlinewidth\":0,\"ticks\":\"\"}}}],\"scattercarpet\":[{\"type\":\"scattercarpet\",\"marker\":{\"colorbar\":{\"outlinewidth\":0,\"ticks\":\"\"}}}],\"carpet\":[{\"aaxis\":{\"endlinecolor\":\"#2a3f5f\",\"gridcolor\":\"white\",\"linecolor\":\"white\",\"minorgridcolor\":\"white\",\"startlinecolor\":\"#2a3f5f\"},\"baxis\":{\"endlinecolor\":\"#2a3f5f\",\"gridcolor\":\"white\",\"linecolor\":\"white\",\"minorgridcolor\":\"white\",\"startlinecolor\":\"#2a3f5f\"},\"type\":\"carpet\"}],\"table\":[{\"cells\":{\"fill\":{\"color\":\"#EBF0F8\"},\"line\":{\"color\":\"white\"}},\"header\":{\"fill\":{\"color\":\"#C8D4E3\"},\"line\":{\"color\":\"white\"}},\"type\":\"table\"}],\"barpolar\":[{\"marker\":{\"line\":{\"color\":\"#E5ECF6\",\"width\":0.5},\"pattern\":{\"fillmode\":\"overlay\",\"size\":10,\"solidity\":0.2}},\"type\":\"barpolar\"}],\"pie\":[{\"automargin\":true,\"type\":\"pie\"}]},\"layout\":{\"autotypenumbers\":\"strict\",\"colorway\":[\"#636efa\",\"#EF553B\",\"#00cc96\",\"#ab63fa\",\"#FFA15A\",\"#19d3f3\",\"#FF6692\",\"#B6E880\",\"#FF97FF\",\"#FECB52\"],\"font\":{\"color\":\"#2a3f5f\"},\"hovermode\":\"closest\",\"hoverlabel\":{\"align\":\"left\"},\"paper_bgcolor\":\"white\",\"plot_bgcolor\":\"#E5ECF6\",\"polar\":{\"bgcolor\":\"#E5ECF6\",\"angularaxis\":{\"gridcolor\":\"white\",\"linecolor\":\"white\",\"ticks\":\"\"},\"radialaxis\":{\"gridcolor\":\"white\",\"linecolor\":\"white\",\"ticks\":\"\"}},\"ternary\":{\"bgcolor\":\"#E5ECF6\",\"aaxis\":{\"gridcolor\":\"white\",\"linecolor\":\"white\",\"ticks\":\"\"},\"baxis\":{\"gridcolor\":\"white\",\"linecolor\":\"white\",\"ticks\":\"\"},\"caxis\":{\"gridcolor\":\"white\",\"linecolor\":\"white\",\"ticks\":\"\"}},\"coloraxis\":{\"colorbar\":{\"outlinewidth\":0,\"ticks\":\"\"}},\"colorscale\":{\"sequential\":[[0.0,\"#0d0887\"],[0.1111111111111111,\"#46039f\"],[0.2222222222222222,\"#7201a8\"],[0.3333333333333333,\"#9c179e\"],[0.4444444444444444,\"#bd3786\"],[0.5555555555555556,\"#d8576b\"],[0.6666666666666666,\"#ed7953\"],[0.7777777777777778,\"#fb9f3a\"],[0.8888888888888888,\"#fdca26\"],[1.0,\"#f0f921\"]],\"sequentialminus\":[[0.0,\"#0d0887\"],[0.1111111111111111,\"#46039f\"],[0.2222222222222222,\"#7201a8\"],[0.3333333333333333,\"#9c179e\"],[0.4444444444444444,\"#bd3786\"],[0.5555555555555556,\"#d8576b\"],[0.6666666666666666,\"#ed7953\"],[0.7777777777777778,\"#fb9f3a\"],[0.8888888888888888,\"#fdca26\"],[1.0,\"#f0f921\"]],\"diverging\":[[0,\"#8e0152\"],[0.1,\"#c51b7d\"],[0.2,\"#de77ae\"],[0.3,\"#f1b6da\"],[0.4,\"#fde0ef\"],[0.5,\"#f7f7f7\"],[0.6,\"#e6f5d0\"],[0.7,\"#b8e186\"],[0.8,\"#7fbc41\"],[0.9,\"#4d9221\"],[1,\"#276419\"]]},\"xaxis\":{\"gridcolor\":\"white\",\"linecolor\":\"white\",\"ticks\":\"\",\"title\":{\"standoff\":15},\"zerolinecolor\":\"white\",\"automargin\":true,\"zerolinewidth\":2},\"yaxis\":{\"gridcolor\":\"white\",\"linecolor\":\"white\",\"ticks\":\"\",\"title\":{\"standoff\":15},\"zerolinecolor\":\"white\",\"automargin\":true,\"zerolinewidth\":2},\"scene\":{\"xaxis\":{\"backgroundcolor\":\"#E5ECF6\",\"gridcolor\":\"white\",\"linecolor\":\"white\",\"showbackground\":true,\"ticks\":\"\",\"zerolinecolor\":\"white\",\"gridwidth\":2},\"yaxis\":{\"backgroundcolor\":\"#E5ECF6\",\"gridcolor\":\"white\",\"linecolor\":\"white\",\"showbackground\":true,\"ticks\":\"\",\"zerolinecolor\":\"white\",\"gridwidth\":2},\"zaxis\":{\"backgroundcolor\":\"#E5ECF6\",\"gridcolor\":\"white\",\"linecolor\":\"white\",\"showbackground\":true,\"ticks\":\"\",\"zerolinecolor\":\"white\",\"gridwidth\":2}},\"shapedefaults\":{\"line\":{\"color\":\"#2a3f5f\"}},\"annotationdefaults\":{\"arrowcolor\":\"#2a3f5f\",\"arrowhead\":0,\"arrowwidth\":1},\"geo\":{\"bgcolor\":\"white\",\"landcolor\":\"#E5ECF6\",\"subunitcolor\":\"white\",\"showland\":true,\"showlakes\":true,\"lakecolor\":\"white\"},\"title\":{\"x\":0.05},\"mapbox\":{\"style\":\"light\"}}},\"xaxis\":{\"anchor\":\"y\",\"domain\":[0.0,1.0],\"title\":{\"text\":\"Date\"},\"showgrid\":false},\"yaxis\":{\"anchor\":\"x\",\"domain\":[0.0,1.0],\"title\":{\"text\":\"Stock value\"},\"showgrid\":false},\"legend\":{\"title\":{\"text\":\"Stock Parameters\"},\"tracegroupgap\":0},\"margin\":{\"t\":60},\"title\":{\"text\":\"Stock analysis chart\"},\"font\":{\"size\":15,\"color\":\"black\"}},                        {\"responsive\": true}                    ).then(function(){\n",
              "                            \n",
              "var gd = document.getElementById('abb68cd4-4fbb-4f1f-8ae1-8c03d0f2550e');\n",
              "var x = new MutationObserver(function (mutations, observer) {{\n",
              "        var display = window.getComputedStyle(gd).display;\n",
              "        if (!display || display === 'none') {{\n",
              "            console.log([gd, 'removed!']);\n",
              "            Plotly.purge(gd);\n",
              "            observer.disconnect();\n",
              "        }}\n",
              "}});\n",
              "\n",
              "// Listen for the removal of the full notebook cells\n",
              "var notebookContainer = gd.closest('#notebook-container');\n",
              "if (notebookContainer) {{\n",
              "    x.observe(notebookContainer, {childList: true});\n",
              "}}\n",
              "\n",
              "// Listen for the clearing of the current output cell\n",
              "var outputEl = gd.closest('.output');\n",
              "if (outputEl) {{\n",
              "    x.observe(outputEl, {childList: true});\n",
              "}}\n",
              "\n",
              "                        })                };                            </script>        </div>\n",
              "</body>\n",
              "</html>"
            ]
          },
          "metadata": {}
        }
      ]
    },
    {
      "cell_type": "code",
      "source": [
        "#make seperate dataframe for close price\n",
        "df_close = df[['Date','Close']]\n",
        "print(\"Shape of close dataframe:\", df_close.shape)"
      ],
      "metadata": {
        "colab": {
          "base_uri": "https://localhost:8080/"
        },
        "id": "SsIp1zMMPtV8",
        "outputId": "f252ddc9-56d1-4d30-e4ff-f044d82e1961"
      },
      "execution_count": 15,
      "outputs": [
        {
          "output_type": "stream",
          "name": "stdout",
          "text": [
            "Shape of close dataframe: (753, 2)\n"
          ]
        }
      ]
    },
    {
      "cell_type": "code",
      "source": [
        "#Train test split is done before normalization\n",
        "#Normalization is then only done using the training set because test set is not supposed to be seen at ths stage\n",
        "#Using any information from the test set before or during training is a potential bias in the evaluation of the performance.\n",
        "#After splitting the data into train, validation, and test sets, the optimal approach is to first normalize the train set, then apply the mean and standard deviation of the train set normalization to the validation and test set normalization.\n",
        "\n",
        "training_size=int(len(df_close)*0.80)\n",
        "test_size=len(df_close)-training_size\n",
        "\n",
        "train_data,test_data = df_close[0:training_size], df_close[training_size:len(df_close)]\n",
        "\n",
        "print(\"train_data: \", train_data.shape)  # (602, 2)\n",
        "\n",
        "print(\"test_data: \", test_data.shape) # (151, 2)"
      ],
      "metadata": {
        "colab": {
          "base_uri": "https://localhost:8080/"
        },
        "id": "FTBO0NM0QIFW",
        "outputId": "7f6bc1bb-8cdb-4811-cf7c-88facf16b724"
      },
      "execution_count": 16,
      "outputs": [
        {
          "output_type": "stream",
          "name": "stdout",
          "text": [
            "train_data:  (602, 2)\n",
            "test_data:  (151, 2)\n"
          ]
        }
      ]
    },
    {
      "cell_type": "code",
      "source": [
        "#Normalizing close price\n",
        "#Use fit_transform() to learn the parameters of scaling on the train data while scaling the train data.\n",
        "#fit not on test data because we dont want the model to learn from it\n",
        "#Use transform()(only) because we use the scaling parameters learned on the train data to scale the test data."
      ],
      "metadata": {
        "id": "ifpGMRu1R2d3"
      },
      "execution_count": 18,
      "outputs": []
    },
    {
      "cell_type": "code",
      "source": [
        "# Need to delete the 'date' column else will get below error - it wont be accepted by the fit-transform method\n",
        "del train_data['Date']\n",
        "del test_data['Date']"
      ],
      "metadata": {
        "id": "xvz77oARS9Q5"
      },
      "execution_count": 19,
      "outputs": []
    },
    {
      "cell_type": "code",
      "source": [
        "scaler=MinMaxScaler(feature_range=(0,1))\n",
        "\n",
        "train_data=scaler.fit_transform(np.array(train_data).reshape(-1,1))\n",
        "\n",
        "test_data = scaler.transform(np.array(test_data).reshape(-1,1))\n",
        "\n",
        "print(train_data.shape) # (602, 1)"
      ],
      "metadata": {
        "colab": {
          "base_uri": "https://localhost:8080/"
        },
        "id": "QSeibkfwYQC7",
        "outputId": "0d0fde9f-a4cb-4a93-903d-e48972c37c29"
      },
      "execution_count": 20,
      "outputs": [
        {
          "output_type": "stream",
          "name": "stdout",
          "text": [
            "(602, 1)\n"
          ]
        }
      ]
    },
    {
      "cell_type": "code",
      "source": [
        "#Transforming the Close price to suite Time-series-analysis forecasting requirement\n",
        "# convert an array of values into a dataset matrix\n",
        "# So here I'm creating the sliding window - utilizing lagged observations as te future\n",
        "#This is standard for all LSTM or GRU model\n",
        "#I'm looping over the entire set of the data minus tme stamp minus 1\n",
        "#Then for each array i'm taking 1 window length of data - starts from i to i+timestamp\n",
        "\n",
        "def create_sliding_window(dataset, time_step=1):\n",
        "    dataX, dataY = [], []\n",
        "    for i in range(len(dataset)-time_step-1):\n",
        "        a = dataset[i:(i+time_step), 0]   ###i=0, 0,1,2,3-----99   100\n",
        "        dataX.append(a)\n",
        "        dataY.append(dataset[i + time_step, 0])\n",
        "    return np.array(dataX), np.array(dataY)"
      ],
      "metadata": {
        "id": "lv2TQK9TYaH5"
      },
      "execution_count": 22,
      "outputs": []
    },
    {
      "cell_type": "code",
      "source": [
        "#I'm now applying the sliding door method on my train data\n",
        "#I selected timestep=15 because xxx\n",
        "\n",
        "time_step = 15\n",
        "\n",
        "X_train, y_train = create_sliding_window(train_data, time_step)\n",
        "\n",
        "X_test, y_test = create_sliding_window(test_data, time_step)\n",
        "\n",
        "print(\"X_train: \", X_train.shape)\n",
        "print(\"y_train: \", y_train.shape)\n",
        "print(\"X_test: \", X_test.shape)\n",
        "print(\"y_test\", y_test.shape)"
      ],
      "metadata": {
        "colab": {
          "base_uri": "https://localhost:8080/"
        },
        "id": "dFE-1PUnY2uu",
        "outputId": "92ebb36d-494e-48b6-fecd-a6f723ce4a53"
      },
      "execution_count": 23,
      "outputs": [
        {
          "output_type": "stream",
          "name": "stdout",
          "text": [
            "X_train:  (586, 15)\n",
            "y_train:  (586,)\n",
            "X_test:  (135, 15)\n",
            "y_test (135,)\n"
          ]
        }
      ]
    },
    {
      "cell_type": "code",
      "source": [
        "#For LSTM / GRU I need to reshape input to be a 3D Tensor of [samples, time steps, features]\n",
        "# reshape input to be [samples, time steps, features] which is required for LSTM\n",
        "# Or in terms of TensorFlow / Keras => [batch_size, time steps, input_dim]\n",
        "#Samples - The amount of data in the dataset\n",
        "#Time_steps - a sample contains multiple timesteps i.e. the width of the sliding window , in this case 15\n",
        "#Features- the number of features in every timestep  - In this case, I have 1 feature - the closing - closing price per time step\n",
        "\n",
        "X_train =X_train.reshape(X_train.shape[0], X_train.shape[1] , 1)\n",
        "\n",
        "X_test = X_test.reshape(X_test.shape[0],X_test.shape[1] , 1)\n",
        "\n",
        "print(\"X_train: \", X_train.shape)\n",
        "print(\"X_test: \", X_test.shape)\n"
      ],
      "metadata": {
        "colab": {
          "base_uri": "https://localhost:8080/"
        },
        "id": "KmCiGO8qZAL5",
        "outputId": "8d686952-8cb2-4df8-fee9-55aab7701639"
      },
      "execution_count": 25,
      "outputs": [
        {
          "output_type": "stream",
          "name": "stdout",
          "text": [
            "X_train:  (586, 15, 1)\n",
            "X_test:  (135, 15, 1)\n"
          ]
        }
      ]
    },
    {
      "cell_type": "markdown",
      "source": [
        "Output above means there are 586 rows in the test data then 15 time steps and 1 feature which is the closing price of the stock"
      ],
      "metadata": {
        "id": "PSZeE3ZAMC7t"
      }
    },
    {
      "cell_type": "code",
      "source": [
        "# Model building GRU\n",
        "# I aready imported GRU at the beginning\n",
        "\n",
        "#This creates a sequential model, which is a linear stack of layers\n",
        "model=Sequential()\n",
        "#\n",
        "model.add(GRU(32,return_sequences=True,input_shape=(time_step,1)))\n",
        "model.add(GRU(32,return_sequences=True))\n",
        "model.add(GRU(32))\n",
        "model.add(Dropout(0.20))\n",
        "model.add(Dense(1))\n",
        "model.compile(loss='mean_squared_error',optimizer='adam')"
      ],
      "metadata": {
        "id": "7uU1ukwZZUha"
      },
      "execution_count": 26,
      "outputs": []
    },
    {
      "cell_type": "code",
      "source": [
        "model.summary()"
      ],
      "metadata": {
        "colab": {
          "base_uri": "https://localhost:8080/"
        },
        "id": "4EenJaj3ZqAN",
        "outputId": "edb0aa3e-738d-4387-d288-6fe447f64508"
      },
      "execution_count": 27,
      "outputs": [
        {
          "output_type": "stream",
          "name": "stdout",
          "text": [
            "Model: \"sequential\"\n",
            "_________________________________________________________________\n",
            " Layer (type)                Output Shape              Param #   \n",
            "=================================================================\n",
            " gru (GRU)                   (None, 15, 32)            3360      \n",
            "                                                                 \n",
            " gru_1 (GRU)                 (None, 15, 32)            6336      \n",
            "                                                                 \n",
            " gru_2 (GRU)                 (None, 32)                6336      \n",
            "                                                                 \n",
            " dropout (Dropout)           (None, 32)                0         \n",
            "                                                                 \n",
            " dense (Dense)               (None, 1)                 33        \n",
            "                                                                 \n",
            "=================================================================\n",
            "Total params: 16065 (62.75 KB)\n",
            "Trainable params: 16065 (62.75 KB)\n",
            "Non-trainable params: 0 (0.00 Byte)\n",
            "_________________________________________________________________\n"
          ]
        }
      ]
    },
    {
      "cell_type": "code",
      "source": [
        "history = model.fit(X_train,y_train, validation_data=(X_test,y_test), epochs=200, batch_size=32, verbose=1)"
      ],
      "metadata": {
        "colab": {
          "base_uri": "https://localhost:8080/"
        },
        "id": "tSNlP6RXZzF-",
        "outputId": "032e0be0-d701-4e22-b71a-01207b0e3504"
      },
      "execution_count": 28,
      "outputs": [
        {
          "output_type": "stream",
          "name": "stdout",
          "text": [
            "Epoch 1/200\n",
            "19/19 [==============================] - 8s 124ms/step - loss: 0.0572 - val_loss: 0.0610\n",
            "Epoch 2/200\n",
            "19/19 [==============================] - 1s 38ms/step - loss: 0.0130 - val_loss: 0.0095\n",
            "Epoch 3/200\n",
            "19/19 [==============================] - 1s 30ms/step - loss: 0.0102 - val_loss: 0.0032\n",
            "Epoch 4/200\n",
            "19/19 [==============================] - 0s 23ms/step - loss: 0.0075 - val_loss: 0.0027\n",
            "Epoch 5/200\n",
            "19/19 [==============================] - 0s 24ms/step - loss: 0.0071 - val_loss: 0.0030\n",
            "Epoch 6/200\n",
            "19/19 [==============================] - 0s 24ms/step - loss: 0.0061 - val_loss: 0.0044\n",
            "Epoch 7/200\n",
            "19/19 [==============================] - 0s 23ms/step - loss: 0.0062 - val_loss: 0.0026\n",
            "Epoch 8/200\n",
            "19/19 [==============================] - 0s 24ms/step - loss: 0.0052 - val_loss: 0.0026\n",
            "Epoch 9/200\n",
            "19/19 [==============================] - 0s 23ms/step - loss: 0.0052 - val_loss: 0.0040\n",
            "Epoch 10/200\n",
            "19/19 [==============================] - 0s 23ms/step - loss: 0.0054 - val_loss: 0.0030\n",
            "Epoch 11/200\n",
            "19/19 [==============================] - 0s 23ms/step - loss: 0.0053 - val_loss: 0.0018\n",
            "Epoch 12/200\n",
            "19/19 [==============================] - 0s 24ms/step - loss: 0.0055 - val_loss: 0.0021\n",
            "Epoch 13/200\n",
            "19/19 [==============================] - 0s 23ms/step - loss: 0.0057 - val_loss: 0.0022\n",
            "Epoch 14/200\n",
            "19/19 [==============================] - 0s 23ms/step - loss: 0.0049 - val_loss: 0.0017\n",
            "Epoch 15/200\n",
            "19/19 [==============================] - 0s 23ms/step - loss: 0.0047 - val_loss: 0.0029\n",
            "Epoch 16/200\n",
            "19/19 [==============================] - 0s 22ms/step - loss: 0.0044 - val_loss: 0.0033\n",
            "Epoch 17/200\n",
            "19/19 [==============================] - 0s 25ms/step - loss: 0.0044 - val_loss: 0.0017\n",
            "Epoch 18/200\n",
            "19/19 [==============================] - 0s 23ms/step - loss: 0.0049 - val_loss: 0.0055\n",
            "Epoch 19/200\n",
            "19/19 [==============================] - 0s 24ms/step - loss: 0.0046 - val_loss: 0.0013\n",
            "Epoch 20/200\n",
            "19/19 [==============================] - 0s 23ms/step - loss: 0.0047 - val_loss: 0.0054\n",
            "Epoch 21/200\n",
            "19/19 [==============================] - 0s 23ms/step - loss: 0.0043 - val_loss: 0.0017\n",
            "Epoch 22/200\n",
            "19/19 [==============================] - 0s 23ms/step - loss: 0.0041 - val_loss: 0.0032\n",
            "Epoch 23/200\n",
            "19/19 [==============================] - 0s 23ms/step - loss: 0.0041 - val_loss: 0.0031\n",
            "Epoch 24/200\n",
            "19/19 [==============================] - 0s 23ms/step - loss: 0.0044 - val_loss: 0.0015\n",
            "Epoch 25/200\n",
            "19/19 [==============================] - 0s 22ms/step - loss: 0.0039 - val_loss: 0.0023\n",
            "Epoch 26/200\n",
            "19/19 [==============================] - 1s 38ms/step - loss: 0.0039 - val_loss: 0.0013\n",
            "Epoch 27/200\n",
            "19/19 [==============================] - 1s 41ms/step - loss: 0.0031 - val_loss: 0.0031\n",
            "Epoch 28/200\n",
            "19/19 [==============================] - 1s 43ms/step - loss: 0.0038 - val_loss: 0.0033\n",
            "Epoch 29/200\n",
            "19/19 [==============================] - 1s 33ms/step - loss: 0.0041 - val_loss: 0.0020\n",
            "Epoch 30/200\n",
            "19/19 [==============================] - 1s 26ms/step - loss: 0.0037 - val_loss: 0.0023\n",
            "Epoch 31/200\n",
            "19/19 [==============================] - 1s 28ms/step - loss: 0.0033 - val_loss: 0.0024\n",
            "Epoch 32/200\n",
            "19/19 [==============================] - 1s 28ms/step - loss: 0.0036 - val_loss: 0.0022\n",
            "Epoch 33/200\n",
            "19/19 [==============================] - 1s 27ms/step - loss: 0.0039 - val_loss: 0.0033\n",
            "Epoch 34/200\n",
            "19/19 [==============================] - 1s 28ms/step - loss: 0.0039 - val_loss: 0.0034\n",
            "Epoch 35/200\n",
            "19/19 [==============================] - 1s 27ms/step - loss: 0.0041 - val_loss: 0.0015\n",
            "Epoch 36/200\n",
            "19/19 [==============================] - 1s 28ms/step - loss: 0.0041 - val_loss: 0.0012\n",
            "Epoch 37/200\n",
            "19/19 [==============================] - 1s 28ms/step - loss: 0.0033 - val_loss: 0.0013\n",
            "Epoch 38/200\n",
            "19/19 [==============================] - 1s 28ms/step - loss: 0.0039 - val_loss: 0.0015\n",
            "Epoch 39/200\n",
            "19/19 [==============================] - 1s 27ms/step - loss: 0.0042 - val_loss: 0.0059\n",
            "Epoch 40/200\n",
            "19/19 [==============================] - 1s 29ms/step - loss: 0.0037 - val_loss: 0.0013\n",
            "Epoch 41/200\n",
            "19/19 [==============================] - 0s 23ms/step - loss: 0.0035 - val_loss: 0.0044\n",
            "Epoch 42/200\n",
            "19/19 [==============================] - 1s 47ms/step - loss: 0.0033 - val_loss: 0.0023\n",
            "Epoch 43/200\n",
            "19/19 [==============================] - 0s 23ms/step - loss: 0.0034 - val_loss: 0.0013\n",
            "Epoch 44/200\n",
            "19/19 [==============================] - 0s 24ms/step - loss: 0.0036 - val_loss: 0.0017\n",
            "Epoch 45/200\n",
            "19/19 [==============================] - 0s 23ms/step - loss: 0.0034 - val_loss: 0.0020\n",
            "Epoch 46/200\n",
            "19/19 [==============================] - 0s 25ms/step - loss: 0.0036 - val_loss: 0.0013\n",
            "Epoch 47/200\n",
            "19/19 [==============================] - 1s 29ms/step - loss: 0.0032 - val_loss: 0.0019\n",
            "Epoch 48/200\n",
            "19/19 [==============================] - 1s 40ms/step - loss: 0.0033 - val_loss: 0.0014\n",
            "Epoch 49/200\n",
            "19/19 [==============================] - 1s 42ms/step - loss: 0.0029 - val_loss: 0.0014\n",
            "Epoch 50/200\n",
            "19/19 [==============================] - 1s 43ms/step - loss: 0.0033 - val_loss: 0.0036\n",
            "Epoch 51/200\n",
            "19/19 [==============================] - 1s 36ms/step - loss: 0.0034 - val_loss: 0.0047\n",
            "Epoch 52/200\n",
            "19/19 [==============================] - 1s 28ms/step - loss: 0.0031 - val_loss: 0.0013\n",
            "Epoch 53/200\n",
            "19/19 [==============================] - 1s 27ms/step - loss: 0.0031 - val_loss: 0.0017\n",
            "Epoch 54/200\n",
            "19/19 [==============================] - 0s 26ms/step - loss: 0.0027 - val_loss: 0.0026\n",
            "Epoch 55/200\n",
            "19/19 [==============================] - 0s 23ms/step - loss: 0.0033 - val_loss: 0.0040\n",
            "Epoch 56/200\n",
            "19/19 [==============================] - 0s 26ms/step - loss: 0.0033 - val_loss: 0.0015\n",
            "Epoch 57/200\n",
            "19/19 [==============================] - 1s 27ms/step - loss: 0.0034 - val_loss: 0.0025\n",
            "Epoch 58/200\n",
            "19/19 [==============================] - 0s 26ms/step - loss: 0.0029 - val_loss: 0.0030\n",
            "Epoch 59/200\n",
            "19/19 [==============================] - 1s 37ms/step - loss: 0.0031 - val_loss: 0.0014\n",
            "Epoch 60/200\n",
            "19/19 [==============================] - 1s 40ms/step - loss: 0.0027 - val_loss: 0.0030\n",
            "Epoch 61/200\n",
            "19/19 [==============================] - 1s 27ms/step - loss: 0.0037 - val_loss: 0.0014\n",
            "Epoch 62/200\n",
            "19/19 [==============================] - 1s 41ms/step - loss: 0.0028 - val_loss: 0.0021\n",
            "Epoch 63/200\n",
            "19/19 [==============================] - 0s 24ms/step - loss: 0.0028 - val_loss: 0.0019\n",
            "Epoch 64/200\n",
            "19/19 [==============================] - 0s 24ms/step - loss: 0.0029 - val_loss: 0.0014\n",
            "Epoch 65/200\n",
            "19/19 [==============================] - 0s 23ms/step - loss: 0.0035 - val_loss: 0.0014\n",
            "Epoch 66/200\n",
            "19/19 [==============================] - 0s 23ms/step - loss: 0.0028 - val_loss: 0.0017\n",
            "Epoch 67/200\n",
            "19/19 [==============================] - 0s 24ms/step - loss: 0.0030 - val_loss: 0.0044\n",
            "Epoch 68/200\n",
            "19/19 [==============================] - 0s 25ms/step - loss: 0.0028 - val_loss: 0.0017\n",
            "Epoch 69/200\n",
            "19/19 [==============================] - 0s 23ms/step - loss: 0.0032 - val_loss: 0.0015\n",
            "Epoch 70/200\n",
            "19/19 [==============================] - 1s 29ms/step - loss: 0.0029 - val_loss: 0.0027\n",
            "Epoch 71/200\n",
            "19/19 [==============================] - 1s 37ms/step - loss: 0.0032 - val_loss: 0.0014\n",
            "Epoch 72/200\n",
            "19/19 [==============================] - 1s 38ms/step - loss: 0.0033 - val_loss: 0.0014\n",
            "Epoch 73/200\n",
            "19/19 [==============================] - 1s 44ms/step - loss: 0.0031 - val_loss: 0.0062\n",
            "Epoch 74/200\n",
            "19/19 [==============================] - 1s 26ms/step - loss: 0.0032 - val_loss: 0.0014\n",
            "Epoch 75/200\n",
            "19/19 [==============================] - 0s 26ms/step - loss: 0.0027 - val_loss: 0.0018\n",
            "Epoch 76/200\n",
            "19/19 [==============================] - 0s 23ms/step - loss: 0.0035 - val_loss: 0.0042\n",
            "Epoch 77/200\n",
            "19/19 [==============================] - 0s 23ms/step - loss: 0.0035 - val_loss: 0.0031\n",
            "Epoch 78/200\n",
            "19/19 [==============================] - 0s 23ms/step - loss: 0.0026 - val_loss: 0.0015\n",
            "Epoch 79/200\n",
            "19/19 [==============================] - 0s 24ms/step - loss: 0.0030 - val_loss: 0.0015\n",
            "Epoch 80/200\n",
            "19/19 [==============================] - 0s 22ms/step - loss: 0.0029 - val_loss: 0.0016\n",
            "Epoch 81/200\n",
            "19/19 [==============================] - 0s 23ms/step - loss: 0.0028 - val_loss: 0.0014\n",
            "Epoch 82/200\n",
            "19/19 [==============================] - 0s 25ms/step - loss: 0.0026 - val_loss: 0.0018\n",
            "Epoch 83/200\n",
            "19/19 [==============================] - 0s 23ms/step - loss: 0.0027 - val_loss: 0.0015\n",
            "Epoch 84/200\n",
            "19/19 [==============================] - 0s 23ms/step - loss: 0.0028 - val_loss: 0.0016\n",
            "Epoch 85/200\n",
            "19/19 [==============================] - 0s 23ms/step - loss: 0.0028 - val_loss: 0.0017\n",
            "Epoch 86/200\n",
            "19/19 [==============================] - 0s 24ms/step - loss: 0.0029 - val_loss: 0.0023\n",
            "Epoch 87/200\n",
            "19/19 [==============================] - 0s 24ms/step - loss: 0.0029 - val_loss: 0.0018\n",
            "Epoch 88/200\n",
            "19/19 [==============================] - 0s 24ms/step - loss: 0.0026 - val_loss: 0.0017\n",
            "Epoch 89/200\n",
            "19/19 [==============================] - 0s 23ms/step - loss: 0.0030 - val_loss: 0.0026\n",
            "Epoch 90/200\n",
            "19/19 [==============================] - 0s 23ms/step - loss: 0.0027 - val_loss: 0.0014\n",
            "Epoch 91/200\n",
            "19/19 [==============================] - 0s 24ms/step - loss: 0.0028 - val_loss: 0.0021\n",
            "Epoch 92/200\n",
            "19/19 [==============================] - 0s 23ms/step - loss: 0.0028 - val_loss: 0.0019\n",
            "Epoch 93/200\n",
            "19/19 [==============================] - 0s 24ms/step - loss: 0.0030 - val_loss: 0.0018\n",
            "Epoch 94/200\n",
            "19/19 [==============================] - 0s 24ms/step - loss: 0.0026 - val_loss: 0.0016\n",
            "Epoch 95/200\n",
            "19/19 [==============================] - 1s 29ms/step - loss: 0.0025 - val_loss: 0.0014\n",
            "Epoch 96/200\n",
            "19/19 [==============================] - 1s 40ms/step - loss: 0.0030 - val_loss: 0.0015\n",
            "Epoch 97/200\n",
            "19/19 [==============================] - 1s 34ms/step - loss: 0.0027 - val_loss: 0.0016\n",
            "Epoch 98/200\n",
            "19/19 [==============================] - 1s 36ms/step - loss: 0.0024 - val_loss: 0.0014\n",
            "Epoch 99/200\n",
            "19/19 [==============================] - 1s 35ms/step - loss: 0.0026 - val_loss: 0.0014\n",
            "Epoch 100/200\n",
            "19/19 [==============================] - 1s 29ms/step - loss: 0.0026 - val_loss: 0.0017\n",
            "Epoch 101/200\n",
            "19/19 [==============================] - 1s 27ms/step - loss: 0.0024 - val_loss: 0.0027\n",
            "Epoch 102/200\n",
            "19/19 [==============================] - 1s 28ms/step - loss: 0.0025 - val_loss: 0.0014\n",
            "Epoch 103/200\n",
            "19/19 [==============================] - 0s 24ms/step - loss: 0.0023 - val_loss: 0.0022\n",
            "Epoch 104/200\n",
            "19/19 [==============================] - 0s 24ms/step - loss: 0.0027 - val_loss: 0.0014\n",
            "Epoch 105/200\n",
            "19/19 [==============================] - 0s 24ms/step - loss: 0.0027 - val_loss: 0.0016\n",
            "Epoch 106/200\n",
            "19/19 [==============================] - 1s 26ms/step - loss: 0.0026 - val_loss: 0.0014\n",
            "Epoch 107/200\n",
            "19/19 [==============================] - 0s 25ms/step - loss: 0.0026 - val_loss: 0.0015\n",
            "Epoch 108/200\n",
            "19/19 [==============================] - 1s 28ms/step - loss: 0.0026 - val_loss: 0.0016\n",
            "Epoch 109/200\n",
            "19/19 [==============================] - 1s 26ms/step - loss: 0.0025 - val_loss: 0.0014\n",
            "Epoch 110/200\n",
            "19/19 [==============================] - 0s 24ms/step - loss: 0.0026 - val_loss: 0.0026\n",
            "Epoch 111/200\n",
            "19/19 [==============================] - 0s 24ms/step - loss: 0.0026 - val_loss: 0.0016\n",
            "Epoch 112/200\n",
            "19/19 [==============================] - 0s 24ms/step - loss: 0.0026 - val_loss: 0.0019\n",
            "Epoch 113/200\n",
            "19/19 [==============================] - 0s 24ms/step - loss: 0.0025 - val_loss: 0.0014\n",
            "Epoch 114/200\n",
            "19/19 [==============================] - 0s 24ms/step - loss: 0.0024 - val_loss: 0.0016\n",
            "Epoch 115/200\n",
            "19/19 [==============================] - 0s 24ms/step - loss: 0.0021 - val_loss: 0.0014\n",
            "Epoch 116/200\n",
            "19/19 [==============================] - 0s 25ms/step - loss: 0.0028 - val_loss: 0.0028\n",
            "Epoch 117/200\n",
            "19/19 [==============================] - 0s 24ms/step - loss: 0.0029 - val_loss: 0.0019\n",
            "Epoch 118/200\n",
            "19/19 [==============================] - 1s 35ms/step - loss: 0.0025 - val_loss: 0.0034\n",
            "Epoch 119/200\n",
            "19/19 [==============================] - 1s 39ms/step - loss: 0.0024 - val_loss: 0.0014\n",
            "Epoch 120/200\n",
            "19/19 [==============================] - 1s 48ms/step - loss: 0.0023 - val_loss: 0.0013\n",
            "Epoch 121/200\n",
            "19/19 [==============================] - 1s 42ms/step - loss: 0.0025 - val_loss: 0.0014\n",
            "Epoch 122/200\n",
            "19/19 [==============================] - 1s 40ms/step - loss: 0.0026 - val_loss: 0.0014\n",
            "Epoch 123/200\n",
            "19/19 [==============================] - 1s 39ms/step - loss: 0.0023 - val_loss: 0.0013\n",
            "Epoch 124/200\n",
            "19/19 [==============================] - 1s 28ms/step - loss: 0.0023 - val_loss: 0.0020\n",
            "Epoch 125/200\n",
            "19/19 [==============================] - 0s 23ms/step - loss: 0.0023 - val_loss: 0.0014\n",
            "Epoch 126/200\n",
            "19/19 [==============================] - 0s 24ms/step - loss: 0.0023 - val_loss: 0.0014\n",
            "Epoch 127/200\n",
            "19/19 [==============================] - 0s 23ms/step - loss: 0.0023 - val_loss: 0.0014\n",
            "Epoch 128/200\n",
            "19/19 [==============================] - 0s 22ms/step - loss: 0.0022 - val_loss: 0.0014\n",
            "Epoch 129/200\n",
            "19/19 [==============================] - 0s 24ms/step - loss: 0.0024 - val_loss: 0.0029\n",
            "Epoch 130/200\n",
            "19/19 [==============================] - 0s 23ms/step - loss: 0.0024 - val_loss: 0.0018\n",
            "Epoch 131/200\n",
            "19/19 [==============================] - 0s 26ms/step - loss: 0.0023 - val_loss: 0.0019\n",
            "Epoch 132/200\n",
            "19/19 [==============================] - 1s 26ms/step - loss: 0.0027 - val_loss: 0.0040\n",
            "Epoch 133/200\n",
            "19/19 [==============================] - 1s 27ms/step - loss: 0.0027 - val_loss: 0.0021\n",
            "Epoch 134/200\n",
            "19/19 [==============================] - 0s 22ms/step - loss: 0.0026 - val_loss: 0.0014\n",
            "Epoch 135/200\n",
            "19/19 [==============================] - 0s 24ms/step - loss: 0.0022 - val_loss: 0.0022\n",
            "Epoch 136/200\n",
            "19/19 [==============================] - 0s 26ms/step - loss: 0.0022 - val_loss: 0.0013\n",
            "Epoch 137/200\n",
            "19/19 [==============================] - 1s 29ms/step - loss: 0.0024 - val_loss: 0.0016\n",
            "Epoch 138/200\n",
            "19/19 [==============================] - 0s 26ms/step - loss: 0.0021 - val_loss: 0.0015\n",
            "Epoch 139/200\n",
            "19/19 [==============================] - 1s 28ms/step - loss: 0.0022 - val_loss: 0.0015\n",
            "Epoch 140/200\n",
            "19/19 [==============================] - 1s 27ms/step - loss: 0.0024 - val_loss: 0.0020\n",
            "Epoch 141/200\n",
            "19/19 [==============================] - 1s 28ms/step - loss: 0.0023 - val_loss: 0.0013\n",
            "Epoch 142/200\n",
            "19/19 [==============================] - 0s 24ms/step - loss: 0.0022 - val_loss: 0.0016\n",
            "Epoch 143/200\n",
            "19/19 [==============================] - 0s 22ms/step - loss: 0.0022 - val_loss: 0.0014\n",
            "Epoch 144/200\n",
            "19/19 [==============================] - 0s 24ms/step - loss: 0.0024 - val_loss: 0.0013\n",
            "Epoch 145/200\n",
            "19/19 [==============================] - 1s 31ms/step - loss: 0.0020 - val_loss: 0.0018\n",
            "Epoch 146/200\n",
            "19/19 [==============================] - 1s 39ms/step - loss: 0.0021 - val_loss: 0.0013\n",
            "Epoch 147/200\n",
            "19/19 [==============================] - 1s 40ms/step - loss: 0.0024 - val_loss: 0.0014\n",
            "Epoch 148/200\n",
            "19/19 [==============================] - 1s 37ms/step - loss: 0.0022 - val_loss: 0.0013\n",
            "Epoch 149/200\n",
            "19/19 [==============================] - 1s 27ms/step - loss: 0.0023 - val_loss: 0.0026\n",
            "Epoch 150/200\n",
            "19/19 [==============================] - 1s 28ms/step - loss: 0.0025 - val_loss: 0.0013\n",
            "Epoch 151/200\n",
            "19/19 [==============================] - 1s 27ms/step - loss: 0.0021 - val_loss: 0.0013\n",
            "Epoch 152/200\n",
            "19/19 [==============================] - 1s 27ms/step - loss: 0.0022 - val_loss: 0.0015\n",
            "Epoch 153/200\n",
            "19/19 [==============================] - 0s 24ms/step - loss: 0.0020 - val_loss: 0.0022\n",
            "Epoch 154/200\n",
            "19/19 [==============================] - 0s 24ms/step - loss: 0.0022 - val_loss: 0.0014\n",
            "Epoch 155/200\n",
            "19/19 [==============================] - 0s 23ms/step - loss: 0.0021 - val_loss: 0.0013\n",
            "Epoch 156/200\n",
            "19/19 [==============================] - 0s 24ms/step - loss: 0.0022 - val_loss: 0.0018\n",
            "Epoch 157/200\n",
            "19/19 [==============================] - 0s 26ms/step - loss: 0.0022 - val_loss: 0.0022\n",
            "Epoch 158/200\n",
            "19/19 [==============================] - 1s 27ms/step - loss: 0.0022 - val_loss: 0.0015\n",
            "Epoch 159/200\n",
            "19/19 [==============================] - 1s 29ms/step - loss: 0.0022 - val_loss: 0.0013\n",
            "Epoch 160/200\n",
            "19/19 [==============================] - 1s 28ms/step - loss: 0.0020 - val_loss: 0.0013\n",
            "Epoch 161/200\n",
            "19/19 [==============================] - 1s 29ms/step - loss: 0.0025 - val_loss: 0.0013\n",
            "Epoch 162/200\n",
            "19/19 [==============================] - 1s 27ms/step - loss: 0.0022 - val_loss: 0.0013\n",
            "Epoch 163/200\n",
            "19/19 [==============================] - 1s 30ms/step - loss: 0.0023 - val_loss: 0.0014\n",
            "Epoch 164/200\n",
            "19/19 [==============================] - 1s 26ms/step - loss: 0.0019 - val_loss: 0.0023\n",
            "Epoch 165/200\n",
            "19/19 [==============================] - 1s 27ms/step - loss: 0.0024 - val_loss: 0.0031\n",
            "Epoch 166/200\n",
            "19/19 [==============================] - 1s 27ms/step - loss: 0.0023 - val_loss: 0.0014\n",
            "Epoch 167/200\n",
            "19/19 [==============================] - 1s 29ms/step - loss: 0.0022 - val_loss: 0.0015\n",
            "Epoch 168/200\n",
            "19/19 [==============================] - 1s 38ms/step - loss: 0.0025 - val_loss: 0.0014\n",
            "Epoch 169/200\n",
            "19/19 [==============================] - 1s 36ms/step - loss: 0.0021 - val_loss: 0.0013\n",
            "Epoch 170/200\n",
            "19/19 [==============================] - 1s 36ms/step - loss: 0.0021 - val_loss: 0.0021\n",
            "Epoch 171/200\n",
            "19/19 [==============================] - 1s 37ms/step - loss: 0.0023 - val_loss: 0.0013\n",
            "Epoch 172/200\n",
            "19/19 [==============================] - 0s 26ms/step - loss: 0.0023 - val_loss: 0.0026\n",
            "Epoch 173/200\n",
            "19/19 [==============================] - 0s 25ms/step - loss: 0.0019 - val_loss: 0.0013\n",
            "Epoch 174/200\n",
            "19/19 [==============================] - 0s 24ms/step - loss: 0.0021 - val_loss: 0.0016\n",
            "Epoch 175/200\n",
            "19/19 [==============================] - 0s 25ms/step - loss: 0.0019 - val_loss: 0.0013\n",
            "Epoch 176/200\n",
            "19/19 [==============================] - 0s 24ms/step - loss: 0.0020 - val_loss: 0.0021\n",
            "Epoch 177/200\n",
            "19/19 [==============================] - 0s 25ms/step - loss: 0.0023 - val_loss: 0.0016\n",
            "Epoch 178/200\n",
            "19/19 [==============================] - 1s 30ms/step - loss: 0.0022 - val_loss: 0.0013\n",
            "Epoch 179/200\n",
            "19/19 [==============================] - 1s 31ms/step - loss: 0.0022 - val_loss: 0.0015\n",
            "Epoch 180/200\n",
            "19/19 [==============================] - 1s 30ms/step - loss: 0.0021 - val_loss: 0.0013\n",
            "Epoch 181/200\n",
            "19/19 [==============================] - 1s 28ms/step - loss: 0.0020 - val_loss: 0.0013\n",
            "Epoch 182/200\n",
            "19/19 [==============================] - 1s 28ms/step - loss: 0.0020 - val_loss: 0.0013\n",
            "Epoch 183/200\n",
            "19/19 [==============================] - 1s 27ms/step - loss: 0.0020 - val_loss: 0.0013\n",
            "Epoch 184/200\n",
            "19/19 [==============================] - 1s 27ms/step - loss: 0.0020 - val_loss: 0.0015\n",
            "Epoch 185/200\n",
            "19/19 [==============================] - 0s 25ms/step - loss: 0.0019 - val_loss: 0.0013\n",
            "Epoch 186/200\n",
            "19/19 [==============================] - 0s 23ms/step - loss: 0.0023 - val_loss: 0.0013\n",
            "Epoch 187/200\n",
            "19/19 [==============================] - 0s 26ms/step - loss: 0.0024 - val_loss: 0.0013\n",
            "Epoch 188/200\n",
            "19/19 [==============================] - 0s 26ms/step - loss: 0.0024 - val_loss: 0.0038\n",
            "Epoch 189/200\n",
            "19/19 [==============================] - 0s 25ms/step - loss: 0.0024 - val_loss: 0.0013\n",
            "Epoch 190/200\n",
            "19/19 [==============================] - 0s 23ms/step - loss: 0.0019 - val_loss: 0.0014\n",
            "Epoch 191/200\n",
            "19/19 [==============================] - 1s 28ms/step - loss: 0.0020 - val_loss: 0.0021\n",
            "Epoch 192/200\n",
            "19/19 [==============================] - 1s 34ms/step - loss: 0.0019 - val_loss: 0.0012\n",
            "Epoch 193/200\n",
            "19/19 [==============================] - 1s 34ms/step - loss: 0.0020 - val_loss: 0.0016\n",
            "Epoch 194/200\n",
            "19/19 [==============================] - 1s 35ms/step - loss: 0.0023 - val_loss: 0.0013\n",
            "Epoch 195/200\n",
            "19/19 [==============================] - 1s 31ms/step - loss: 0.0021 - val_loss: 0.0015\n",
            "Epoch 196/200\n",
            "19/19 [==============================] - 0s 25ms/step - loss: 0.0020 - val_loss: 0.0013\n",
            "Epoch 197/200\n",
            "19/19 [==============================] - 1s 30ms/step - loss: 0.0020 - val_loss: 0.0018\n",
            "Epoch 198/200\n",
            "19/19 [==============================] - 1s 27ms/step - loss: 0.0020 - val_loss: 0.0036\n",
            "Epoch 199/200\n",
            "19/19 [==============================] - 1s 28ms/step - loss: 0.0021 - val_loss: 0.0019\n",
            "Epoch 200/200\n",
            "19/19 [==============================] - 1s 27ms/step - loss: 0.0021 - val_loss: 0.0012\n"
          ]
        }
      ]
    },
    {
      "cell_type": "code",
      "source": [
        "#Plotting the loss chart\n",
        "import matplotlib.pyplot as plt\n",
        "loss = history.history['loss']\n",
        "val_loss = history.history['val_loss']\n",
        "epochs = range(len(loss))\n",
        "plt.plot(epochs, loss, 'r', label='Training loss')\n",
        "plt.plot(epochs, val_loss, 'b', label='Validation loss')\n",
        "plt.title('Training and validation loss')\n",
        "plt.legend(loc=0)\n",
        "plt.figure()\n",
        "plt.show()"
      ],
      "metadata": {
        "colab": {
          "base_uri": "https://localhost:8080/",
          "height": 469
        },
        "id": "WgJ0yl5hae1H",
        "outputId": "92615709-7d11-41ae-e51a-d81c5e0286dd"
      },
      "execution_count": 31,
      "outputs": [
        {
          "output_type": "display_data",
          "data": {
            "text/plain": [
              "<Figure size 640x480 with 1 Axes>"
            ],
            "image/png": "[encoded data removed]"
          },
          "metadata": {}
        },
        {
          "output_type": "display_data",
          "data": {
            "text/plain": [
              "<Figure size 640x480 with 0 Axes>"
            ]
          },
          "metadata": {}
        }
      ]
    },
    {
      "cell_type": "code",
      "source": [
        "### Lets Do the prediction and check performance metrics\n",
        "train_predict=model.predict(X_train)\n",
        "\n",
        "test_predict=model.predict(X_test)\n",
        "\n",
        "train_predict.shape, test_predict.shape"
      ],
      "metadata": {
        "colab": {
          "base_uri": "https://localhost:8080/"
        },
        "id": "hIEa9M_Ba0pZ",
        "outputId": "57d2c0b1-d4e8-405d-e988-497bef0c0db6"
      },
      "execution_count": 32,
      "outputs": [
        {
          "output_type": "stream",
          "name": "stdout",
          "text": [
            "19/19 [==============================] - 1s 7ms/step\n",
            "5/5 [==============================] - 0s 7ms/step\n"
          ]
        },
        {
          "output_type": "execute_result",
          "data": {
            "text/plain": [
              "((586, 1), (135, 1))"
            ]
          },
          "metadata": {},
          "execution_count": 32
        }
      ]
    },
    {
      "cell_type": "code",
      "source": [
        "#Model Evaluation - Transform back the data (i.e. Inverse Scaling)\n",
        "train_predict = scaler.inverse_transform(train_predict)\n",
        "\n",
        "test_predict = scaler.inverse_transform(test_predict)\n",
        "\n",
        "original_ytrain = scaler.inverse_transform(y_train.reshape(-1,1))\n",
        "\n",
        "original_ytest = scaler.inverse_transform(y_test.reshape(-1,1))"
      ],
      "metadata": {
        "id": "pCBwQyW-a_WS"
      },
      "execution_count": 33,
      "outputs": []
    },
    {
      "cell_type": "code",
      "source": [
        "#Evaluation metrices RMSE, MSE and MAE\n",
        "#RMSE, MSE and MAE - measure the error of a model in predicting quantitative data\n",
        "print(\"Train data RMSE: \", math.sqrt(mean_squared_error(original_ytrain, train_predict)))\n",
        "\n",
        "print(\"Train data MSE: \", mean_squared_error(original_ytrain,train_predict))\n",
        "\n",
        "print(\"Train data MAE: \", mean_absolute_error(original_ytrain,train_predict))\n",
        "\n",
        "print(\"-------------------------------------------------------------------------------------\")\n",
        "\n",
        "print(\"Test data RMSE: \", math.sqrt(mean_squared_error(original_ytest,test_predict)))\n",
        "\n",
        "print(\"Test data MSE: \", mean_squared_error(original_ytest,test_predict))\n",
        "\n",
        "print(\"Test data MAE: \", mean_absolute_error(original_ytest,test_predict))"
      ],
      "metadata": {
        "colab": {
          "base_uri": "https://localhost:8080/"
        },
        "id": "cuGPZ5fnbJhT",
        "outputId": "91850d8c-e2ad-409f-f1b5-4bd8809fe0f6"
      },
      "execution_count": 34,
      "outputs": [
        {
          "output_type": "stream",
          "name": "stdout",
          "text": [
            "Train data RMSE:  5.417276998383627\n",
            "Train data MSE:  29.346890077216315\n",
            "Train data MAE:  4.233185877759707\n",
            "-------------------------------------------------------------------------------------\n",
            "Test data RMSE:  6.362055895888037\n",
            "Test data MSE:  40.47575522240374\n",
            "Test data MAE:  5.305180081004048\n"
          ]
        }
      ]
    },
    {
      "cell_type": "code",
      "source": [
        "print(\"Train data explained variance regression score:\", explained_variance_score(original_ytrain, train_predict))\n",
        "\n",
        "print(\"Test data explained variance regression score:\", explained_variance_score(original_ytest, test_predict))"
      ],
      "metadata": {
        "colab": {
          "base_uri": "https://localhost:8080/"
        },
        "id": "_ywM1jT3blwY",
        "outputId": "c5d946bb-a485-4f50-b541-e4b10bfd5875"
      },
      "execution_count": 35,
      "outputs": [
        {
          "output_type": "stream",
          "name": "stdout",
          "text": [
            "Train data explained variance regression score: 0.9734067001016536\n",
            "Test data explained variance regression score: 0.9471651085740539\n"
          ]
        }
      ]
    },
    {
      "cell_type": "code",
      "source": [
        "print(\"Train data R2 score:\", r2_score(original_ytrain, train_predict))\n",
        "print(\"Test data R2 score:\", r2_score(original_ytest, test_predict))"
      ],
      "metadata": {
        "colab": {
          "base_uri": "https://localhost:8080/"
        },
        "id": "kZSkriFrb0yk",
        "outputId": "567f5399-241d-4ee2-ceba-6e554e393a76"
      },
      "execution_count": 36,
      "outputs": [
        {
          "output_type": "stream",
          "name": "stdout",
          "text": [
            "Train data R2 score: 0.967936797740856\n",
            "Test data R2 score: 0.9002503848868721\n"
          ]
        }
      ]
    },
    {
      "cell_type": "code",
      "source": [
        "#Regression Loss Mean Gamma deviance regression loss (MGD) and Mean Poisson deviance regression loss (MPD)\n",
        "print(\"Train data MGD: \", mean_gamma_deviance(original_ytrain, train_predict))\n",
        "\n",
        "print(\"Test data MGD: \", mean_gamma_deviance(original_ytest, test_predict))\n",
        "print(\"----------------------------------------------------------------------\")\n",
        "\n",
        "print(\"Train data MPD: \", mean_poisson_deviance(original_ytrain, train_predict))\n",
        "\n",
        "print(\"Test data MPD: \", mean_poisson_deviance(original_ytest, test_predict))"
      ],
      "metadata": {
        "colab": {
          "base_uri": "https://localhost:8080/"
        },
        "id": "ScKlr1Y4cLM9",
        "outputId": "f503edb4-42c9-49d4-feb3-cd1d61e5cafa"
      },
      "execution_count": 37,
      "outputs": [
        {
          "output_type": "stream",
          "name": "stdout",
          "text": [
            "Train data MGD:  0.0003977325953037347\n",
            "Test data MGD:  0.0003473521163201066\n",
            "----------------------------------------------------------------------\n",
            "Train data MPD:  0.10742864776687135\n",
            "Test data MPD:  0.11839547480236703\n"
          ]
        }
      ]
    },
    {
      "cell_type": "code",
      "source": [
        "#Comparison of original stock close price and predicted close price\n",
        "# shift train predictions for plotting the look-ahead time for predicted stock values\n",
        "\n",
        "# First delete the 'date' column from below df to make it a single column df\n",
        "# so that train_predict_look_ahead variable can be properly structured\n",
        "del df_close['date']\n",
        "\n",
        "look_back=time_step\n",
        "\n",
        "train_predict_look_ahead = np.empty_like(df_close)\n",
        "\n",
        "train_predict_look_ahead[:, :] = np.nan\n",
        "\n",
        "# For looking ahead by look_back, I need to start at look_back\n",
        "train_predict_look_ahead[look_back:len(train_predict)+look_back, :] = train_predict\n",
        "\n",
        "print(\"Train predicted data: \", train_predict_look_ahead.shape)\n",
        "\n",
        "####################### TEST #############################\n",
        "# shift test predictions for plotting\n",
        "test_predict_look_ahead = np.empty_like(df_close)\n",
        "\n",
        "test_predict_look_ahead[:, :] = np.nan\n",
        "\n",
        "test_predict_look_ahead[len(train_predict)+(look_back*2)+1:len(df_close)-1, :] = test_predict\n",
        "\n",
        "print(\"Test predicted data: \", test_predict_look_ahead.shape)\n",
        "\n",
        "names = cycle(['Original close price','Train predicted close price','Test predicted close price'])\n",
        "\n",
        "\n",
        "plotdf = pd.DataFrame({'date': df_close['date'],\n",
        "                       'original_close': df_close['close'],\n",
        "                      'train_predicted_close': train_predict_look_ahead.reshape(1,-1)[0].tolist(),\n",
        "                      'test_predicted_close': test_predict_look_ahead.reshape(1,-1)[0].tolist()})\n",
        "\n",
        "fig = px.line(plotdf,x=plotdf['date'], y=[plotdf['original_close'],plotdf['train_predicted_close'],\n",
        "                                          plotdf['test_predicted_close']],\n",
        "              labels={'value':'Stock price','date': 'Date'})\n",
        "\n",
        "fig.update_layout(title_text='Comparision between original close price vs predicted close price',\n",
        "                  plot_bgcolor='white', font_size=15, font_color='black', legend_title_text='Close Price')\n",
        "\n",
        "fig.for_each_trace(lambda t:  t.update(name = next(names)))\n",
        "\n",
        "fig.update_xaxes(showgrid=False)\n",
        "fig.update_yaxes(showgrid=False)\n",
        "fig.show()"
      ],
      "metadata": {
        "colab": {
          "base_uri": "https://localhost:8080/",
          "height": 478
        },
        "id": "SazDoiq1ceKe",
        "outputId": "bf73d535-a8ed-4eb1-b908-a5c733b4e7ec"
      },
      "execution_count": 38,
      "outputs": [
        {
          "output_type": "error",
          "ename": "KeyError",
          "evalue": "'date'",
          "traceback": [
            "\u001b[0;31m---------------------------------------------------------------------------\u001b[0m",
            "\u001b[0;31mKeyError\u001b[0m                                  Traceback (most recent call last)",
            "\u001b[0;32m/usr/local/lib/python3.10/dist-packages/pandas/core/indexes/base.py\u001b[0m in \u001b[0;36mget_loc\u001b[0;34m(self, key, method, tolerance)\u001b[0m\n\u001b[1;32m   3801\u001b[0m             \u001b[0;32mtry\u001b[0m\u001b[0;34m:\u001b[0m\u001b[0;34m\u001b[0m\u001b[0;34m\u001b[0m\u001b[0m\n\u001b[0;32m-> 3802\u001b[0;31m                 \u001b[0;32mreturn\u001b[0m \u001b[0mself\u001b[0m\u001b[0;34m.\u001b[0m\u001b[0m_engine\u001b[0m\u001b[0;34m.\u001b[0m\u001b[0mget_loc\u001b[0m\u001b[0;34m(\u001b[0m\u001b[0mcasted_key\u001b[0m\u001b[0;34m)\u001b[0m\u001b[0;34m\u001b[0m\u001b[0;34m\u001b[0m\u001b[0m\n\u001b[0m\u001b[1;32m   3803\u001b[0m             \u001b[0;32mexcept\u001b[0m \u001b[0mKeyError\u001b[0m \u001b[0;32mas\u001b[0m \u001b[0merr\u001b[0m\u001b[0;34m:\u001b[0m\u001b[0;34m\u001b[0m\u001b[0;34m\u001b[0m\u001b[0m\n",
            "\u001b[0;32m/usr/local/lib/python3.10/dist-packages/pandas/_libs/index.pyx\u001b[0m in \u001b[0;36mpandas._libs.index.IndexEngine.get_loc\u001b[0;34m()\u001b[0m\n",
            "\u001b[0;32m/usr/local/lib/python3.10/dist-packages/pandas/_libs/index.pyx\u001b[0m in \u001b[0;36mpandas._libs.index.IndexEngine.get_loc\u001b[0;34m()\u001b[0m\n",
            "\u001b[0;32mpandas/_libs/hashtable_class_helper.pxi\u001b[0m in \u001b[0;36mpandas._libs.hashtable.PyObjectHashTable.get_item\u001b[0;34m()\u001b[0m\n",
            "\u001b[0;32mpandas/_libs/hashtable_class_helper.pxi\u001b[0m in \u001b[0;36mpandas._libs.hashtable.PyObjectHashTable.get_item\u001b[0;34m()\u001b[0m\n",
            "\u001b[0;31mKeyError\u001b[0m: 'date'",
            "\nThe above exception was the direct cause of the following exception:\n",
            "\u001b[0;31mKeyError\u001b[0m                                  Traceback (most recent call last)",
            "\u001b[0;32m<ipython-input-38-3480d4bc5963>\u001b[0m in \u001b[0;36m<cell line: 6>\u001b[0;34m()\u001b[0m\n\u001b[1;32m      4\u001b[0m \u001b[0;31m# First delete the 'date' column from below df to make it a single column df\u001b[0m\u001b[0;34m\u001b[0m\u001b[0;34m\u001b[0m\u001b[0m\n\u001b[1;32m      5\u001b[0m \u001b[0;31m# so that train_predict_look_ahead variable can be properly structured\u001b[0m\u001b[0;34m\u001b[0m\u001b[0;34m\u001b[0m\u001b[0m\n\u001b[0;32m----> 6\u001b[0;31m \u001b[0;32mdel\u001b[0m \u001b[0mdf_close\u001b[0m\u001b[0;34m[\u001b[0m\u001b[0;34m'date'\u001b[0m\u001b[0;34m]\u001b[0m\u001b[0;34m\u001b[0m\u001b[0;34m\u001b[0m\u001b[0m\n\u001b[0m\u001b[1;32m      7\u001b[0m \u001b[0;34m\u001b[0m\u001b[0m\n\u001b[1;32m      8\u001b[0m \u001b[0mlook_back\u001b[0m\u001b[0;34m=\u001b[0m\u001b[0mtime_step\u001b[0m\u001b[0;34m\u001b[0m\u001b[0;34m\u001b[0m\u001b[0m\n",
            "\u001b[0;32m/usr/local/lib/python3.10/dist-packages/pandas/core/generic.py\u001b[0m in \u001b[0;36m__delitem__\u001b[0;34m(self, key)\u001b[0m\n\u001b[1;32m   4241\u001b[0m             \u001b[0;31m# there was no match, this call should raise the appropriate\u001b[0m\u001b[0;34m\u001b[0m\u001b[0;34m\u001b[0m\u001b[0m\n\u001b[1;32m   4242\u001b[0m             \u001b[0;31m# exception:\u001b[0m\u001b[0;34m\u001b[0m\u001b[0;34m\u001b[0m\u001b[0m\n\u001b[0;32m-> 4243\u001b[0;31m             \u001b[0mloc\u001b[0m \u001b[0;34m=\u001b[0m \u001b[0mself\u001b[0m\u001b[0;34m.\u001b[0m\u001b[0maxes\u001b[0m\u001b[0;34m[\u001b[0m\u001b[0;34m-\u001b[0m\u001b[0;36m1\u001b[0m\u001b[0;34m]\u001b[0m\u001b[0;34m.\u001b[0m\u001b[0mget_loc\u001b[0m\u001b[0;34m(\u001b[0m\u001b[0mkey\u001b[0m\u001b[0;34m)\u001b[0m\u001b[0;34m\u001b[0m\u001b[0;34m\u001b[0m\u001b[0m\n\u001b[0m\u001b[1;32m   4244\u001b[0m             \u001b[0mself\u001b[0m\u001b[0;34m.\u001b[0m\u001b[0m_mgr\u001b[0m \u001b[0;34m=\u001b[0m \u001b[0mself\u001b[0m\u001b[0;34m.\u001b[0m\u001b[0m_mgr\u001b[0m\u001b[0;34m.\u001b[0m\u001b[0midelete\u001b[0m\u001b[0;34m(\u001b[0m\u001b[0mloc\u001b[0m\u001b[0;34m)\u001b[0m\u001b[0;34m\u001b[0m\u001b[0;34m\u001b[0m\u001b[0m\n\u001b[1;32m   4245\u001b[0m \u001b[0;34m\u001b[0m\u001b[0m\n",
            "\u001b[0;32m/usr/local/lib/python3.10/dist-packages/pandas/core/indexes/base.py\u001b[0m in \u001b[0;36mget_loc\u001b[0;34m(self, key, method, tolerance)\u001b[0m\n\u001b[1;32m   3802\u001b[0m                 \u001b[0;32mreturn\u001b[0m \u001b[0mself\u001b[0m\u001b[0;34m.\u001b[0m\u001b[0m_engine\u001b[0m\u001b[0;34m.\u001b[0m\u001b[0mget_loc\u001b[0m\u001b[0;34m(\u001b[0m\u001b[0mcasted_key\u001b[0m\u001b[0;34m)\u001b[0m\u001b[0;34m\u001b[0m\u001b[0;34m\u001b[0m\u001b[0m\n\u001b[1;32m   3803\u001b[0m             \u001b[0;32mexcept\u001b[0m \u001b[0mKeyError\u001b[0m \u001b[0;32mas\u001b[0m \u001b[0merr\u001b[0m\u001b[0;34m:\u001b[0m\u001b[0;34m\u001b[0m\u001b[0;34m\u001b[0m\u001b[0m\n\u001b[0;32m-> 3804\u001b[0;31m                 \u001b[0;32mraise\u001b[0m \u001b[0mKeyError\u001b[0m\u001b[0;34m(\u001b[0m\u001b[0mkey\u001b[0m\u001b[0;34m)\u001b[0m \u001b[0;32mfrom\u001b[0m \u001b[0merr\u001b[0m\u001b[0;34m\u001b[0m\u001b[0;34m\u001b[0m\u001b[0m\n\u001b[0m\u001b[1;32m   3805\u001b[0m             \u001b[0;32mexcept\u001b[0m \u001b[0mTypeError\u001b[0m\u001b[0;34m:\u001b[0m\u001b[0;34m\u001b[0m\u001b[0;34m\u001b[0m\u001b[0m\n\u001b[1;32m   3806\u001b[0m                 \u001b[0;31m# If we have a listlike key, _check_indexing_error will raise\u001b[0m\u001b[0;34m\u001b[0m\u001b[0;34m\u001b[0m\u001b[0m\n",
            "\u001b[0;31mKeyError\u001b[0m: 'date'"
          ]
        }
      ]
    },
    {
      "cell_type": "code",
      "source": [],
      "metadata": {
        "id": "ZayMbaBwcePZ"
      },
      "execution_count": null,
      "outputs": []
    }
  ]
}